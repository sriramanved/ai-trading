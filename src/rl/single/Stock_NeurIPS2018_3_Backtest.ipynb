{
  "cells": [
    {
      "cell_type": "markdown",
      "metadata": {
        "id": "v7Cycmf3Zbok"
      },
      "source": [
        "# Stock NeurIPS2018 Part 3. Backtest\n",
        "This series is a reproduction of paper *the process in the paper Practical Deep Reinforcement Learning Approach for Stock Trading*. \n",
        "\n",
        "This is the third and last part of the NeurIPS2018 series, introducing how to use use the agents we trained to do backtest, and compare with baselines such as Mean Variance Optimization and DJIA index.\n",
        "\n",
        "Other demos can be found at the repo of [FinRL-Tutorials]((https://github.com/AI4Finance-Foundation/FinRL-Tutorials))."
      ]
    },
    {
      "cell_type": "markdown",
      "metadata": {
        "id": "1oWbj4HgqHBg"
      },
      "source": [
        "# Part 1. Install Packages"
      ]
    },
    {
      "cell_type": "code",
      "execution_count": 1,
      "metadata": {
        "id": "QJgoEYx3p_NG"
      },
      "outputs": [],
      "source": [
        "## install finrl library\n",
        "!pip install git+https://github.com/AI4Finance-Foundation/FinRL.git"
      ]
    },
    {
      "cell_type": "code",
      "execution_count": 1,
      "metadata": {
        "id": "mqfBOKz-qJYF"
      },
      "outputs": [],
      "source": [
        "import matplotlib.pyplot as plt\n",
        "import numpy as np\n",
        "import pandas as pd\n",
        "from stable_baselines3 import A2C, DDPG, PPO, SAC, TD3\n",
        "\n",
        "from customDRL import DRLAgent\n",
        "from finrl.config import INDICATORS, TRAINED_MODEL_DIR\n",
        "from finrl.meta.env_stock_trading.env_stocktrading import StockTradingEnv\n",
        "from finrl.meta.preprocessor.yahoodownloader import YahooDownloader\n",
        "\n",
        "%matplotlib inline"
      ]
    },
    {
      "cell_type": "markdown",
      "metadata": {
        "id": "mUF2P4hmqVjh"
      },
      "source": [
        "# Part 2. Backtesting"
      ]
    },
    {
      "cell_type": "markdown",
      "metadata": {
        "id": "BdU6qLsVWDxI"
      },
      "source": [
        "To backtest the agents, upload trade_data.csv in the same directory of this notebook. For Colab users, just upload trade_data.csv to the default directory."
      ]
    },
    {
      "cell_type": "code",
      "execution_count": 2,
      "metadata": {
        "id": "mSjBHn_MZr4U"
      },
      "outputs": [],
      "source": [
        "train = pd.read_csv('train_data_single.csv')\n",
        "trade = pd.read_csv('trade_data_single.csv')\n",
        "\n",
        "# If you are not using the data generated from part 1 of this tutorial, make sure \n",
        "# it has the columns and index in the form that could be make into the environment. \n",
        "# Then you can comment and skip the following lines.\n",
        "train = train.set_index(train.columns[0])\n",
        "train.index.names = ['']\n",
        "trade = trade.set_index(trade.columns[0])\n",
        "trade.index.names = ['']"
      ]
    },
    {
      "cell_type": "markdown",
      "metadata": {
        "id": "qu4Ey54b36oL"
      },
      "source": [
        "Then, upload the trained agent to the same directory, and set the corresponding variable to True."
      ]
    },
    {
      "cell_type": "code",
      "execution_count": 3,
      "metadata": {
        "id": "Z_mVZM4IIa55"
      },
      "outputs": [],
      "source": [
        "if_using_a2c = True\n",
        "if_using_ddpg = True\n",
        "if_using_ppo = True\n",
        "if_using_td3 = True\n",
        "if_using_sac = True"
      ]
    },
    {
      "cell_type": "markdown",
      "metadata": {
        "id": "73D4oRqAIkYj"
      },
      "source": [
        "Load the agents"
      ]
    },
    {
      "cell_type": "code",
      "execution_count": 4,
      "metadata": {
        "id": "6CagrX0I36ZN"
      },
      "outputs": [],
      "source": [
        "trained_a2c = A2C.load(TRAINED_MODEL_DIR + \"/agent_a2c\") if if_using_a2c else None\n",
        "trained_ddpg = DDPG.load(TRAINED_MODEL_DIR + \"/agent_ddpg\") if if_using_ddpg else None\n",
        "trained_ppo = PPO.load(TRAINED_MODEL_DIR + \"/agent_ppo\") if if_using_ppo else None\n",
        "trained_td3 = TD3.load(TRAINED_MODEL_DIR + \"/agent_td3\") if if_using_td3 else None\n",
        "trained_sac = SAC.load(TRAINED_MODEL_DIR + \"/agent_sac\") if if_using_sac else None"
      ]
    },
    {
      "cell_type": "markdown",
      "metadata": {
        "id": "U5mmgQF_h1jQ"
      },
      "source": [
        "### Trading (Out-of-sample Performance)\n",
        "\n",
        "We update periodically in order to take full advantage of the data, e.g., retrain quarterly, monthly or weekly. We also tune the parameters along the way, in this notebook we use the in-sample data from 2009-01 to 2020-07 to tune the parameters once, so there is some alpha decay here as the length of trade date extends. \n",
        "\n",
        "Numerous hyperparameters – e.g. the learning rate, the total number of samples to train on – influence the learning process and are usually determined by testing some variations."
      ]
    },
    {
      "cell_type": "code",
      "execution_count": 5,
      "metadata": {
        "colab": {
          "base_uri": "https://localhost:8080/"
        },
        "id": "4H_w3SaBAkKU",
        "outputId": "fdaed3a7-d3a9-4cde-d194-ee4576057175"
      },
      "outputs": [
        {
          "name": "stdout",
          "output_type": "stream",
          "text": [
            "Stock Dimension: 1, State Space: 11\n"
          ]
        }
      ],
      "source": [
        "stock_dimension = len(trade.tic.unique())\n",
        "state_space = 1 + 2 * stock_dimension + len(INDICATORS) * stock_dimension\n",
        "print(f\"Stock Dimension: {stock_dimension}, State Space: {state_space}\")"
      ]
    },
    {
      "cell_type": "code",
      "execution_count": 6,
      "metadata": {
        "id": "nKNmQMqGAknW"
      },
      "outputs": [],
      "source": [
        "buy_cost_list = sell_cost_list = [0.001] * stock_dimension\n",
        "num_stock_shares = [0] * stock_dimension\n",
        "\n",
        "env_kwargs = {\n",
        "    \"hmax\": 100,\n",
        "    \"initial_amount\": 100000,\n",
        "    \"num_stock_shares\": num_stock_shares,\n",
        "    \"buy_cost_pct\": buy_cost_list,\n",
        "    \"sell_cost_pct\": sell_cost_list,\n",
        "    \"state_space\": state_space,\n",
        "    \"stock_dim\": stock_dimension,\n",
        "    \"tech_indicator_list\": INDICATORS,\n",
        "    \"action_space\": stock_dimension,\n",
        "    \"reward_scaling\": 1e-4,\n",
        "}"
      ]
    },
    {
      "cell_type": "code",
      "execution_count": 7,
      "metadata": {
        "id": "cIqoV0GSI52v"
      },
      "outputs": [],
      "source": [
        "e_trade_gym = StockTradingEnv(df = trade, turbulence_threshold = 70,risk_indicator_col='vix', **env_kwargs)\n",
        "# env_trade, obs_trade = e_trade_gym.get_sb_env()"
      ]
    },
    {
      "cell_type": "code",
      "execution_count": 8,
      "metadata": {
        "colab": {
          "base_uri": "https://localhost:8080/"
        },
        "id": "lbFchno5j3xs",
        "outputId": "44fffa47-3b47-4e7b-96c2-0a485e9efead"
      },
      "outputs": [
        {
          "name": "stdout",
          "output_type": "stream",
          "text": [
            "actions memory [           date actions\n",
            "0    2022-07-01   [100]\n",
            "1    2022-07-05   [100]\n",
            "2    2022-07-06   [100]\n",
            "3    2022-07-07   [100]\n",
            "4    2022-07-08   [100]\n",
            "..          ...     ...\n",
            "348  2023-11-17  [-100]\n",
            "349  2023-11-20    [99]\n",
            "350  2023-11-21  [-100]\n",
            "351  2023-11-22    [99]\n",
            "352  2023-11-24   [-72]\n",
            "\n",
            "[353 rows x 2 columns]]\n",
            "hit end lsdjflskdjflks!\n",
            "    actions        date\n",
            "0     [100]  2022-07-01\n",
            "1     [100]  2022-07-05\n",
            "2     [100]  2022-07-06\n",
            "3     [100]  2022-07-07\n",
            "4     [100]  2022-07-08\n",
            "..      ...         ...\n",
            "348  [-100]  2023-11-17\n",
            "349    [99]  2023-11-20\n",
            "350  [-100]  2023-11-21\n",
            "351    [99]  2023-11-22\n",
            "352   [-72]  2023-11-24\n",
            "\n",
            "[353 rows x 2 columns]\n"
          ]
        }
      ],
      "source": [
        "df_account_value_a2c, df_actions_a2c = DRLAgent.DRL_prediction(\n",
        "    model=trained_a2c, \n",
        "    environment = e_trade_gym) if if_using_a2c else (None, None)\n",
        "\n",
        "df_actions_filled = df_actions_a2c.fillna(0)\n",
        "\n",
        "# Filter to keep only rows with at least one non-zero value\n",
        "non_zero_rows = df_actions_filled.loc[(df_actions_filled != 0).any(axis=1)]\n",
        "\n",
        "# For each row in the filtered DataFrame, keep only columns with non-zero values\n",
        "non_zero_actions_only = non_zero_rows.apply(lambda row: row[row != 0], axis=1)\n",
        "\n",
        "# Print the resulting DataFrame\n",
        "print(non_zero_actions_only)"
      ]
    },
    {
      "cell_type": "code",
      "execution_count": 9,
      "metadata": {
        "id": "JbYljWGjj3pH"
      },
      "outputs": [
        {
          "name": "stdout",
          "output_type": "stream",
          "text": [
            "actions memory [           date actions\n",
            "0    2022-07-01     [0]\n",
            "1    2022-07-05     [0]\n",
            "2    2022-07-06     [0]\n",
            "3    2022-07-07     [0]\n",
            "4    2022-07-08     [0]\n",
            "..          ...     ...\n",
            "348  2023-11-17     [0]\n",
            "349  2023-11-20     [0]\n",
            "350  2023-11-21     [0]\n",
            "351  2023-11-22     [0]\n",
            "352  2023-11-24     [0]\n",
            "\n",
            "[353 rows x 2 columns]]\n",
            "hit end lsdjflskdjflks!\n",
            "           date  account_value\n",
            "0    2022-07-01       100000.0\n",
            "1    2022-07-05       100000.0\n",
            "2    2022-07-06       100000.0\n",
            "3    2022-07-07       100000.0\n",
            "4    2022-07-08       100000.0\n",
            "..          ...            ...\n",
            "349  2023-11-20       100000.0\n",
            "350  2023-11-21       100000.0\n",
            "351  2023-11-22       100000.0\n",
            "352  2023-11-24       100000.0\n",
            "353  2023-11-27       100000.0\n",
            "\n",
            "[354 rows x 2 columns]\n"
          ]
        },
        {
          "data": {
            "image/png": "[encoded data removed]",
            "text/plain": [
              "<Figure size 1500x500 with 2 Axes>"
            ]
          },
          "metadata": {},
          "output_type": "display_data"
        }
      ],
      "source": [
        "df_account_value_ddpg, df_actions_ddpg = DRLAgent.DRL_prediction(\n",
        "    model=trained_ddpg, \n",
        "    environment = e_trade_gym) if if_using_ddpg else (None, None)\n",
        "\n",
        "df_actions_filled = df_actions_ddpg.fillna(0)\n",
        "# Filter to keep only rows with at least one non-zero value\n",
        "non_zero_rows = df_actions_filled.loc[(df_actions_filled != 0).any(axis=1)]\n",
        "\n",
        "# For each row in the filtered DataFrame, keep only columns with non-zero values\n",
        "non_zero_actions_only = non_zero_rows.apply(lambda row: row[row != 0], axis=1)\n",
        "\n",
        "# Print the resulting DataFrame\n",
        "# print(non_zero_actions_only)\n",
        "\n",
        "\n",
        "# print actions between 11-01-2022 and 02-06-2023\n",
        "# # index by date\n",
        "# for i in range(len(df_actions_ddpg)):\n",
        "#     print(df_actions_ddpg.iloc[i])\n",
        "print(df_account_value_ddpg)\n",
        "# plot actions between 11-01-2022 and 02-06-2023\n",
        "plt.figure(figsize=(15, 5))\n",
        "plt.subplot(1, 2, 1)\n",
        "plt.title('DDPG')\n",
        "plt.plot(df_account_value_ddpg[\"account_value\"])\n",
        "plt.subplot(1, 2, 2)\n",
        "plt.title('DDPG Actions')\n",
        "plt.plot(df_actions_ddpg.index, df_actions_ddpg['actions'], marker='o', markersize=2, linestyle='')\n",
        "plt.show()"
      ]
    },
    {
      "cell_type": "code",
      "execution_count": 10,
      "metadata": {
        "id": "74jNP2DBj3hb"
      },
      "outputs": [
        {
          "name": "stdout",
          "output_type": "stream",
          "text": [
            "actions memory [           date actions\n",
            "0    2022-07-01   [100]\n",
            "1    2022-07-05   [100]\n",
            "2    2022-07-06   [100]\n",
            "3    2022-07-07   [100]\n",
            "4    2022-07-08   [100]\n",
            "..          ...     ...\n",
            "348  2023-11-17    [50]\n",
            "349  2023-11-20   [-50]\n",
            "350  2023-11-21    [50]\n",
            "351  2023-11-22   [-50]\n",
            "352  2023-11-24    [50]\n",
            "\n",
            "[353 rows x 2 columns]]\n",
            "hit end lsdjflskdjflks!\n",
            "           date actions\n",
            "0    2022-07-01   [100]\n",
            "1    2022-07-05   [100]\n",
            "2    2022-07-06   [100]\n",
            "3    2022-07-07   [100]\n",
            "4    2022-07-08   [100]\n",
            "..          ...     ...\n",
            "348  2023-11-17    [50]\n",
            "349  2023-11-20   [-50]\n",
            "350  2023-11-21    [50]\n",
            "351  2023-11-22   [-50]\n",
            "352  2023-11-24    [50]\n",
            "\n",
            "[353 rows x 2 columns]\n"
          ]
        }
      ],
      "source": [
        "df_account_value_ppo, df_actions_ppo = DRLAgent.DRL_prediction(\n",
        "    model=trained_ppo, \n",
        "    environment = e_trade_gym) if if_using_ppo else (None, None)\n",
        "df_actions_filled = df_actions_ppo.fillna(0)\n",
        "\n",
        "# Filter to keep only rows with at least one non-zero value\n",
        "non_zero_rows = df_actions_filled.loc[(df_actions_filled != 0).any(axis=1)]\n",
        "\n",
        "# For each row in the filtered DataFrame, keep only columns with non-zero values\n",
        "non_zero_actions_only = non_zero_rows.apply(lambda row: row[row != 0], axis=1)\n",
        "\n",
        "# Print the resulting DataFrame\n",
        "print(non_zero_actions_only)"
      ]
    },
    {
      "cell_type": "code",
      "execution_count": 11,
      "metadata": {
        "id": "S7VyGGJPj3SH"
      },
      "outputs": [
        {
          "name": "stdout",
          "output_type": "stream",
          "text": [
            "actions memory [           date actions\n",
            "0    2022-07-01     [0]\n",
            "1    2022-07-05     [0]\n",
            "2    2022-07-06     [0]\n",
            "3    2022-07-07     [0]\n",
            "4    2022-07-08     [0]\n",
            "..          ...     ...\n",
            "348  2023-11-17     [0]\n",
            "349  2023-11-20     [0]\n",
            "350  2023-11-21     [0]\n",
            "351  2023-11-22     [0]\n",
            "352  2023-11-24     [0]\n",
            "\n",
            "[353 rows x 2 columns]]\n",
            "hit end lsdjflskdjflks!\n",
            "           date\n",
            "0    2022-07-01\n",
            "1    2022-07-05\n",
            "2    2022-07-06\n",
            "3    2022-07-07\n",
            "4    2022-07-08\n",
            "..          ...\n",
            "348  2023-11-17\n",
            "349  2023-11-20\n",
            "350  2023-11-21\n",
            "351  2023-11-22\n",
            "352  2023-11-24\n",
            "\n",
            "[353 rows x 1 columns]\n"
          ]
        }
      ],
      "source": [
        "df_account_value_td3, df_actions_td3 = DRLAgent.DRL_prediction(\n",
        "    model=trained_td3, \n",
        "    environment = e_trade_gym) if if_using_td3 else (None, None)\n",
        "\n",
        "# print actions_td3 to see the actions taken by the agent, but only where not zero\n",
        "df_actions_filled = df_actions_td3.fillna(0)\n",
        "\n",
        "# Filter to keep only rows with at least one non-zero value\n",
        "non_zero_rows = df_actions_filled.loc[(df_actions_filled != 0).any(axis=1)]\n",
        "\n",
        "# For each row in the filtered DataFrame, keep only columns with non-zero values\n",
        "non_zero_actions_only = non_zero_rows.apply(lambda row: row[row != 0], axis=1)\n",
        "\n",
        "# Print the resulting DataFrame\n",
        "print(non_zero_actions_only)\n",
        "\n",
        "# print the date july 3rd 2020\n",
        "\n"
      ]
    },
    {
      "cell_type": "code",
      "execution_count": 12,
      "metadata": {
        "colab": {
          "base_uri": "https://localhost:8080/"
        },
        "id": "eLOnL5eYh1jR",
        "outputId": "70e50e24-aed5-49f9-cdd7-de6b9689d9ce"
      },
      "outputs": [
        {
          "name": "stdout",
          "output_type": "stream",
          "text": [
            "actions memory [           date actions\n",
            "0    2022-07-01   [100]\n",
            "1    2022-07-05   [100]\n",
            "2    2022-07-06   [100]\n",
            "3    2022-07-07   [100]\n",
            "4    2022-07-08   [100]\n",
            "..          ...     ...\n",
            "348  2023-11-17     [0]\n",
            "349  2023-11-20     [0]\n",
            "350  2023-11-21     [0]\n",
            "351  2023-11-22     [0]\n",
            "352  2023-11-24     [0]\n",
            "\n",
            "[353 rows x 2 columns]]\n",
            "hit end lsdjflskdjflks!\n",
            "    actions        date\n",
            "0     [100]  2022-07-01\n",
            "1     [100]  2022-07-05\n",
            "2     [100]  2022-07-06\n",
            "3     [100]  2022-07-07\n",
            "4     [100]  2022-07-08\n",
            "..      ...         ...\n",
            "348     NaN  2023-11-17\n",
            "349     NaN  2023-11-20\n",
            "350     NaN  2023-11-21\n",
            "351     NaN  2023-11-22\n",
            "352     NaN  2023-11-24\n",
            "\n",
            "[353 rows x 2 columns]\n"
          ]
        }
      ],
      "source": [
        "df_account_value_sac, df_actions_sac = DRLAgent.DRL_prediction(\n",
        "    model=trained_sac, \n",
        "    environment = e_trade_gym) if if_using_sac else (None, None)\n",
        "\n",
        "df_actions_filled = df_actions_sac\n",
        "\n",
        "# Filter to keep only rows with at least one non-zero value\n",
        "non_zero_rows = df_actions_filled.loc[(df_actions_filled != 0).any(axis=1)]\n",
        "\n",
        "# For each row in the filtered DataFrame, keep only columns with non-zero values\n",
        "non_zero_actions_only = non_zero_rows.apply(lambda row: row[row != 0], axis=1)\n",
        "\n",
        "# Print the resulting DataFrame\n",
        "print(non_zero_actions_only)"
      ]
    },
    {
      "cell_type": "markdown",
      "metadata": {
        "id": "GcE-t08w6DaW"
      },
      "source": [
        "# Part 3: Mean Variance Optimization"
      ]
    },
    {
      "cell_type": "markdown",
      "metadata": {
        "id": "17TUs71EWj09"
      },
      "source": [
        "Mean Variance optimization is a very classic strategy in portfolio management. Here, we go through the whole process to do the mean variance optimization and add it as a baseline to compare.\n",
        "\n",
        "First, process dataframe to the form for MVO weight calculation."
      ]
    },
    {
      "cell_type": "code",
      "execution_count": 13,
      "metadata": {
        "id": "wungSNOwPwKR"
      },
      "outputs": [],
      "source": [
        "def process_df_for_mvo(df):\n",
        "  return df.pivot(index=\"date\", columns=\"tic\", values=\"close\")"
      ]
    },
    {
      "cell_type": "markdown",
      "metadata": {
        "id": "SwEwkHJ1d_6u"
      },
      "source": [
        "### Helper functions for mean returns and variance-covariance matrix"
      ]
    },
    {
      "cell_type": "code",
      "execution_count": 14,
      "metadata": {
        "id": "6KvXkpyE8MFq"
      },
      "outputs": [],
      "source": [
        "# Codes in this section partially refer to Dr G A Vijayalakshmi Pai\n",
        "\n",
        "# https://www.kaggle.com/code/vijipai/lesson-5-mean-variance-optimization-of-portfolios/notebook\n",
        "\n",
        "def StockReturnsComputing(StockPrice, Rows, Columns): \n",
        "  import numpy as np \n",
        "  StockReturn = np.zeros([Rows-1, Columns]) \n",
        "  for j in range(Columns):        # j: Assets \n",
        "    for i in range(Rows-1):     # i: Daily Prices \n",
        "      StockReturn[i,j]=((StockPrice[i+1, j]-StockPrice[i,j])/StockPrice[i,j])* 100 \n",
        "      \n",
        "  return StockReturn"
      ]
    },
    {
      "cell_type": "markdown",
      "metadata": {
        "id": "IeVVbuwveJ_5"
      },
      "source": [
        "### Calculate the weights for mean-variance"
      ]
    },
    {
      "cell_type": "code",
      "execution_count": 15,
      "metadata": {
        "colab": {
          "base_uri": "https://localhost:8080/"
        },
        "id": "kE8nruKLQYLO",
        "outputId": "42d07c80-f309-49f8-f2b4-36a51987086f"
      },
      "outputs": [
        {
          "data": {
            "text/plain": [
              "array([[137.56208801],\n",
              "       [140.16618347],\n",
              "       [141.51281738],\n",
              "       [144.90905762],\n",
              "       [145.59223938],\n",
              "       [143.44361877],\n",
              "       [144.4238739 ],\n",
              "       [144.05752563],\n",
              "       [147.00816345],\n",
              "       [148.69143677],\n",
              "       [145.6219635 ],\n",
              "       [149.51327515],\n",
              "       [151.53318787],\n",
              "       [153.82041931],\n",
              "       [152.57281494],\n",
              "       [151.44406128],\n",
              "       [150.10734558],\n",
              "       [155.2462616 ],\n",
              "       [155.80075073],\n",
              "       [160.90991211],\n",
              "       [159.91976929],\n",
              "       [158.43452454],\n",
              "       [164.49430847],\n",
              "       [164.17744446],\n",
              "       [163.94940186],\n",
              "       [163.47344971],\n",
              "       [163.52302551],\n",
              "       [167.80645752],\n",
              "       [167.06278992],\n",
              "       [170.64222717],\n",
              "       [171.72299194],\n",
              "       [171.56434631],\n",
              "       [173.07145691],\n",
              "       [172.67483521],\n",
              "       [170.06715393],\n",
              "       [166.15060425],\n",
              "       [165.8134613 ],\n",
              "       [166.11091614],\n",
              "       [168.58973694],\n",
              "       [162.23405457],\n",
              "       [160.01304626],\n",
              "       [157.56396484],\n",
              "       [155.88825989],\n",
              "       [156.62197876],\n",
              "       [154.49021912],\n",
              "       [153.22103882],\n",
              "       [154.63893127],\n",
              "       [153.1516571 ],\n",
              "       [156.0369873 ],\n",
              "       [162.0456543 ],\n",
              "       [152.53688049],\n",
              "       [153.9944458 ],\n",
              "       [151.07933044],\n",
              "       [149.42349243],\n",
              "       [153.17146301],\n",
              "       [155.57096863],\n",
              "       [152.41790771],\n",
              "       [151.44619751],\n",
              "       [149.15577698],\n",
              "       [149.49290466],\n",
              "       [150.47450256],\n",
              "       [148.570755  ],\n",
              "       [141.27310181],\n",
              "       [137.02935791],\n",
              "       [141.24336243],\n",
              "       [144.86244202],\n",
              "       [145.15991211],\n",
              "       [144.19813538],\n",
              "       [138.90336609],\n",
              "       [139.2305603 ],\n",
              "       [137.80274963],\n",
              "       [137.16816711],\n",
              "       [141.77879333],\n",
              "       [137.20785522],\n",
              "       [141.20368958],\n",
              "       [142.53236389],\n",
              "       [142.64143372],\n",
              "       [142.17539978],\n",
              "       [146.02252197],\n",
              "       [148.18406677],\n",
              "       [151.04960632],\n",
              "       [148.08491516],\n",
              "       [143.57344055],\n",
              "       [154.42080688],\n",
              "       [152.04112244],\n",
              "       [149.37390137],\n",
              "       [143.80149841],\n",
              "       [137.70361328],\n",
              "       [137.43545532],\n",
              "       [137.97175598],\n",
              "       [138.54780579],\n",
              "       [133.94940186],\n",
              "       [145.86747742],\n",
              "       [148.67819214],\n",
              "       [147.26786804],\n",
              "       [149.01586914],\n",
              "       [147.77436829],\n",
              "       [149.69122314],\n",
              "       [150.25730896],\n",
              "       [146.99971008],\n",
              "       [149.15490723],\n",
              "       [150.03883362],\n",
              "       [147.0990448 ],\n",
              "       [143.23558044],\n",
              "       [140.20640564],\n",
              "       [147.01959229],\n",
              "       [147.29766846],\n",
              "       [146.80107117],\n",
              "       [145.62915039],\n",
              "       [141.93453979],\n",
              "       [139.97798157],\n",
              "       [141.67630005],\n",
              "       [141.18965149],\n",
              "       [143.50375366],\n",
              "       [144.47705078],\n",
              "       [142.23248291],\n",
              "       [135.56829834],\n",
              "       [133.59185791],\n",
              "       [131.46647644],\n",
              "       [131.3969574 ],\n",
              "       [134.52542114],\n",
              "       [131.3274231 ],\n",
              "       [130.95996094],\n",
              "       [129.14242554],\n",
              "       [125.17967987],\n",
              "       [128.72529602],\n",
              "       [129.04310608],\n",
              "       [124.21630096],\n",
              "       [125.49750519],\n",
              "       [124.16664124],\n",
              "       [128.73522949],\n",
              "       [129.2616272 ],\n",
              "       [129.83764648],\n",
              "       [132.57884216],\n",
              "       [132.49938965],\n",
              "       [133.84016418],\n",
              "       [135.01210022],\n",
              "       [134.28707886],\n",
              "       [134.34667969],\n",
              "       [136.92892456],\n",
              "       [140.14683533],\n",
              "       [141.55712891],\n",
              "       [140.89169312],\n",
              "       [142.97737122],\n",
              "       [144.93391418],\n",
              "       [142.02392578],\n",
              "       [143.30509949],\n",
              "       [144.43733215],\n",
              "       [149.79055786],\n",
              "       [153.44541931],\n",
              "       [150.69432068],\n",
              "       [153.59439087],\n",
              "       [150.88304138],\n",
              "       [149.84017944],\n",
              "       [150.20823669],\n",
              "       [153.03317261],\n",
              "       [152.38659668],\n",
              "       [154.5052948 ],\n",
              "       [152.89389038],\n",
              "       [151.74006653],\n",
              "       [147.69165039],\n",
              "       [148.11938477],\n",
              "       [148.60676575],\n",
              "       [145.93107605],\n",
              "       [147.13464355],\n",
              "       [146.62734985],\n",
              "       [144.53849792],\n",
              "       [145.1353302 ],\n",
              "       [150.22813416],\n",
              "       [153.01327515],\n",
              "       [150.79510498],\n",
              "       [152.05833435],\n",
              "       [149.79046631],\n",
              "       [147.71156311],\n",
              "       [149.67111206],\n",
              "       [151.77983093],\n",
              "       [152.17771912],\n",
              "       [155.02253723],\n",
              "       [154.17704773],\n",
              "       [156.56430054],\n",
              "       [158.43431091],\n",
              "       [156.99201965],\n",
              "       [158.08616638],\n",
              "       [159.39918518],\n",
              "       [157.43963623],\n",
              "       [156.81297302],\n",
              "       [159.91642761],\n",
              "       [161.49797058],\n",
              "       [164.0244751 ],\n",
              "       [165.28775024],\n",
              "       [164.75062561],\n",
              "       [162.89054871],\n",
              "       [163.7857666 ],\n",
              "       [161.16972351],\n",
              "       [159.94624329],\n",
              "       [159.24998474],\n",
              "       [164.68099976],\n",
              "       [164.33285522],\n",
              "       [164.35273743],\n",
              "       [165.58616638],\n",
              "       [166.73999023],\n",
              "       [165.76519775],\n",
              "       [164.14385986],\n",
              "       [164.45220947],\n",
              "       [162.90049744],\n",
              "       [162.89054871],\n",
              "       [167.51585388],\n",
              "       [168.77909851],\n",
              "       [168.68959045],\n",
              "       [167.64515686],\n",
              "       [166.5609436 ],\n",
              "       [164.90975952],\n",
              "       [172.64848328],\n",
              "       [172.5788269 ],\n",
              "       [170.85801697],\n",
              "       [172.63851929],\n",
              "       [172.82748413],\n",
              "       [171.89120483],\n",
              "       [171.39317322],\n",
              "       [171.39317322],\n",
              "       [172.01072693],\n",
              "       [174.36143494],\n",
              "       [174.47102356],\n",
              "       [173.51477051],\n",
              "       [170.88516235],\n",
              "       [171.1640625 ],\n",
              "       [172.30955505],\n",
              "       [174.73994446],\n",
              "       [176.6026001 ],\n",
              "       [176.55278015],\n",
              "       [179.38160706],\n",
              "       [180.23822021],\n",
              "       [178.87362671],\n",
              "       [178.50508118],\n",
              "       [177.12055969],\n",
              "       [179.85974121],\n",
              "       [180.2481842 ],\n",
              "       [183.06706238],\n",
              "       [182.58894348],\n",
              "       [183.22644043],\n",
              "       [185.27832031],\n",
              "       [184.19261169],\n",
              "       [184.28225708],\n",
              "       [183.23640442],\n",
              "       [186.26443481],\n",
              "       [185.94569397],\n",
              "       [184.54122925],\n",
              "       [187.32025146],\n",
              "       [188.50558472],\n",
              "       [188.84425354],\n",
              "       [193.20703125],\n",
              "       [191.70297241],\n",
              "       [190.57739258],\n",
              "       [191.05551147],\n",
              "       [189.9299469 ],\n",
              "       [187.86810303],\n",
              "       [187.3401947 ],\n",
              "       [189.02354431],\n",
              "       [189.79049683],\n",
              "       [189.93992615],\n",
              "       [193.22694397],\n",
              "       [192.9679718 ],\n",
              "       [194.33258057],\n",
              "       [192.37033081],\n",
              "       [191.18499756],\n",
              "       [191.99182129],\n",
              "       [192.85838318],\n",
              "       [193.73492432],\n",
              "       [192.4599762 ],\n",
              "       [195.05970764],\n",
              "       [195.67726135],\n",
              "       [194.84057617],\n",
              "       [191.82249451],\n",
              "       [190.41802979],\n",
              "       [181.27415466],\n",
              "       [178.14649963],\n",
              "       [179.09275818],\n",
              "       [177.48910522],\n",
              "       [177.2699585 ],\n",
              "       [177.32978821],\n",
              "       [178.99549866],\n",
              "       [176.99067688],\n",
              "       [176.11296082],\n",
              "       [173.54962158],\n",
              "       [174.0383606 ],\n",
              "       [175.38484192],\n",
              "       [176.77125549],\n",
              "       [180.65118408],\n",
              "       [175.92346191],\n",
              "       [178.14768982],\n",
              "       [179.72360229],\n",
              "       [183.6434021 ],\n",
              "       [187.16427612],\n",
              "       [187.38369751],\n",
              "       [188.96958923],\n",
              "       [189.20896912],\n",
              "       [182.4365387 ],\n",
              "       [177.10038757],\n",
              "       [177.71878052],\n",
              "       [178.89573669],\n",
              "       [175.84367371],\n",
              "       [173.75907898],\n",
              "       [175.28511047],\n",
              "       [174.55699158],\n",
              "       [177.50933838],\n",
              "       [178.60649109],\n",
              "       [175.03575134],\n",
              "       [173.4797821 ],\n",
              "       [174.33757019],\n",
              "       [175.62423706],\n",
              "       [171.51489258],\n",
              "       [169.98884583],\n",
              "       [170.2481842 ],\n",
              "       [170.7668457 ],\n",
              "       [173.30024719],\n",
              "       [171.95373535],\n",
              "       [173.210495  ],\n",
              "       [174.45726013],\n",
              "       [177.03057861],\n",
              "       [178.52670288],\n",
              "       [177.92825317],\n",
              "       [179.33459473],\n",
              "       [180.24224854],\n",
              "       [178.3870697 ],\n",
              "       [178.25738525],\n",
              "       [176.69145203],\n",
              "       [175.38484192],\n",
              "       [175.00584412],\n",
              "       [172.43251038],\n",
              "       [172.55220032],\n",
              "       [172.99105835],\n",
              "       [170.65711975],\n",
              "       [166.45800781],\n",
              "       [167.78456116],\n",
              "       [169.84919739],\n",
              "       [170.32797241],\n",
              "       [173.51968384],\n",
              "       [177.11036682],\n",
              "       [176.19273376],\n",
              "       [178.7660675 ],\n",
              "       [181.34936523],\n",
              "       [182.41659546],\n",
              "       [181.93783569],\n",
              "       [186.16244507],\n",
              "       [184.5644989 ],\n",
              "       [187.2011261 ],\n",
              "       [187.77038574],\n",
              "       [189.46824646],\n",
              "       [189.44825745],\n",
              "       [191.20600891],\n",
              "       [190.39704895],\n",
              "       [191.06619263],\n",
              "       [189.72790527],\n",
              "       [189.54812622]])"
            ]
          },
          "execution_count": 15,
          "metadata": {},
          "output_type": "execute_result"
        }
      ],
      "source": [
        "StockData = process_df_for_mvo(train)\n",
        "TradeData = process_df_for_mvo(trade)\n",
        "\n",
        "TradeData.to_numpy()"
      ]
    },
    {
      "cell_type": "code",
      "execution_count": 16,
      "metadata": {
        "colab": {
          "base_uri": "https://localhost:8080/"
        },
        "id": "u6_O6vrn_uD4",
        "outputId": "0c2f8bf7-07e7-4fe5-c409-93312b95a8dd"
      },
      "outputs": [
        {
          "name": "stdout",
          "output_type": "stream",
          "text": [
            "Mean returns of assets in k-portfolio 1\n",
            " [0.131]\n",
            "Variance-Covariance matrix of returns\n",
            " 3.295793183919682\n"
          ]
        }
      ],
      "source": [
        "#compute asset returns\n",
        "arStockPrices = np.asarray(StockData)\n",
        "[Rows, Cols]=arStockPrices.shape\n",
        "arReturns = StockReturnsComputing(arStockPrices, Rows, Cols)\n",
        "\n",
        "#compute mean returns and variance covariance matrix of returns\n",
        "meanReturns = np.mean(arReturns, axis = 0)\n",
        "covReturns = np.cov(arReturns, rowvar=False)\n",
        " \n",
        "#set precision for printing results\n",
        "np.set_printoptions(precision=3, suppress = True)\n",
        "\n",
        "#display mean returns and variance-covariance matrix of returns\n",
        "print('Mean returns of assets in k-portfolio 1\\n', meanReturns)\n",
        "print('Variance-Covariance matrix of returns\\n', covReturns)"
      ]
    },
    {
      "cell_type": "markdown",
      "metadata": {
        "id": "zC7r-cI8RR1X"
      },
      "source": [
        "### Use PyPortfolioOpt"
      ]
    },
    {
      "cell_type": "code",
      "execution_count": 17,
      "metadata": {
        "colab": {
          "base_uri": "https://localhost:8080/"
        },
        "id": "b1btTONEdCU4",
        "outputId": "75096462-7dfb-4ce6-c6f4-4671f11e79fc"
      },
      "outputs": [
        {
          "ename": "ValueError",
          "evalue": "Covariance matrix does not match expected returns",
          "output_type": "error",
          "traceback": [
            "\u001b[0;31m---------------------------------------------------------------------------\u001b[0m",
            "\u001b[0;31mValueError\u001b[0m                                Traceback (most recent call last)",
            "Cell \u001b[0;32mIn[17], line 3\u001b[0m\n\u001b[1;32m      1\u001b[0m \u001b[38;5;28;01mfrom\u001b[39;00m \u001b[38;5;21;01mpypfopt\u001b[39;00m\u001b[38;5;21;01m.\u001b[39;00m\u001b[38;5;21;01mefficient_frontier\u001b[39;00m \u001b[38;5;28;01mimport\u001b[39;00m EfficientFrontier\n\u001b[0;32m----> 3\u001b[0m ef_mean \u001b[38;5;241m=\u001b[39m \u001b[43mEfficientFrontier\u001b[49m\u001b[43m(\u001b[49m\u001b[43mmeanReturns\u001b[49m\u001b[43m,\u001b[49m\u001b[43m \u001b[49m\u001b[43mcovReturns\u001b[49m\u001b[43m,\u001b[49m\u001b[43m \u001b[49m\u001b[43mweight_bounds\u001b[49m\u001b[38;5;241;43m=\u001b[39;49m\u001b[43m(\u001b[49m\u001b[38;5;241;43m0\u001b[39;49m\u001b[43m,\u001b[49m\u001b[43m \u001b[49m\u001b[38;5;241;43m0.5\u001b[39;49m\u001b[43m)\u001b[49m\u001b[43m)\u001b[49m\n\u001b[1;32m      4\u001b[0m raw_weights_mean \u001b[38;5;241m=\u001b[39m ef_mean\u001b[38;5;241m.\u001b[39mmax_sharpe()\n\u001b[1;32m      5\u001b[0m cleaned_weights_mean \u001b[38;5;241m=\u001b[39m ef_mean\u001b[38;5;241m.\u001b[39mclean_weights()\n",
            "File \u001b[0;32m/opt/homebrew/lib/python3.10/site-packages/pypfopt/efficient_frontier/efficient_frontier.py:105\u001b[0m, in \u001b[0;36mEfficientFrontier.__init__\u001b[0;34m(self, expected_returns, cov_matrix, weight_bounds, solver, verbose, solver_options)\u001b[0m\n\u001b[1;32m    103\u001b[0m \u001b[38;5;28;01mif\u001b[39;00m expected_returns \u001b[38;5;129;01mis\u001b[39;00m \u001b[38;5;129;01mnot\u001b[39;00m \u001b[38;5;28;01mNone\u001b[39;00m \u001b[38;5;129;01mand\u001b[39;00m cov_matrix \u001b[38;5;129;01mis\u001b[39;00m \u001b[38;5;129;01mnot\u001b[39;00m \u001b[38;5;28;01mNone\u001b[39;00m:\n\u001b[1;32m    104\u001b[0m     \u001b[38;5;28;01mif\u001b[39;00m cov_matrix\u001b[38;5;241m.\u001b[39mshape \u001b[38;5;241m!=\u001b[39m (num_assets, num_assets):\n\u001b[0;32m--> 105\u001b[0m         \u001b[38;5;28;01mraise\u001b[39;00m \u001b[38;5;167;01mValueError\u001b[39;00m(\u001b[38;5;124m\"\u001b[39m\u001b[38;5;124mCovariance matrix does not match expected returns\u001b[39m\u001b[38;5;124m\"\u001b[39m)\n\u001b[1;32m    107\u001b[0m \u001b[38;5;28msuper\u001b[39m()\u001b[38;5;241m.\u001b[39m\u001b[38;5;21m__init__\u001b[39m(\n\u001b[1;32m    108\u001b[0m     \u001b[38;5;28mlen\u001b[39m(tickers),\n\u001b[1;32m    109\u001b[0m     tickers,\n\u001b[0;32m   (...)\u001b[0m\n\u001b[1;32m    113\u001b[0m     solver_options\u001b[38;5;241m=\u001b[39msolver_options,\n\u001b[1;32m    114\u001b[0m )\n",
            "\u001b[0;31mValueError\u001b[0m: Covariance matrix does not match expected returns"
          ]
        }
      ],
      "source": [
        "from pypfopt.efficient_frontier import EfficientFrontier\n",
        "\n",
        "ef_mean = EfficientFrontier(meanReturns, covReturns, weight_bounds=(0, 0.5))\n",
        "raw_weights_mean = ef_mean.max_sharpe()\n",
        "cleaned_weights_mean = ef_mean.clean_weights()\n",
        "mvo_weights = np.array(\n",
        "    [100000 * cleaned_weights_mean[i] for i in range(len(cleaned_weights_mean))]\n",
        ")\n",
        "mvo_weights"
      ]
    },
    {
      "cell_type": "code",
      "execution_count": 18,
      "metadata": {
        "colab": {
          "base_uri": "https://localhost:8080/"
        },
        "id": "F38NJRJJgOmj",
        "outputId": "f575651b-1e9b-4015-ae71-c9fc2c3a3dae"
      },
      "outputs": [
        {
          "ename": "NameError",
          "evalue": "name 'mvo_weights' is not defined",
          "output_type": "error",
          "traceback": [
            "\u001b[0;31m---------------------------------------------------------------------------\u001b[0m",
            "\u001b[0;31mNameError\u001b[0m                                 Traceback (most recent call last)",
            "Cell \u001b[0;32mIn[18], line 2\u001b[0m\n\u001b[1;32m      1\u001b[0m LastPrice \u001b[38;5;241m=\u001b[39m np\u001b[38;5;241m.\u001b[39marray([\u001b[38;5;241m1\u001b[39m\u001b[38;5;241m/\u001b[39mp \u001b[38;5;28;01mfor\u001b[39;00m p \u001b[38;5;129;01min\u001b[39;00m StockData\u001b[38;5;241m.\u001b[39mtail(\u001b[38;5;241m1\u001b[39m)\u001b[38;5;241m.\u001b[39mto_numpy()[\u001b[38;5;241m0\u001b[39m]])\n\u001b[0;32m----> 2\u001b[0m Initial_Portfolio \u001b[38;5;241m=\u001b[39m np\u001b[38;5;241m.\u001b[39mmultiply(\u001b[43mmvo_weights\u001b[49m, LastPrice)\n\u001b[1;32m      3\u001b[0m Initial_Portfolio\n",
            "\u001b[0;31mNameError\u001b[0m: name 'mvo_weights' is not defined"
          ]
        }
      ],
      "source": [
        "LastPrice = np.array([1/p for p in StockData.tail(1).to_numpy()[0]])\n",
        "Initial_Portfolio = np.multiply(mvo_weights, LastPrice)\n",
        "Initial_Portfolio"
      ]
    },
    {
      "cell_type": "code",
      "execution_count": 19,
      "metadata": {
        "id": "ZAd1iXqZhQ6X"
      },
      "outputs": [
        {
          "ename": "NameError",
          "evalue": "name 'Initial_Portfolio' is not defined",
          "output_type": "error",
          "traceback": [
            "\u001b[0;31m---------------------------------------------------------------------------\u001b[0m",
            "\u001b[0;31mNameError\u001b[0m                                 Traceback (most recent call last)",
            "Cell \u001b[0;32mIn[19], line 1\u001b[0m\n\u001b[0;32m----> 1\u001b[0m Portfolio_Assets \u001b[38;5;241m=\u001b[39m TradeData \u001b[38;5;241m@\u001b[39m \u001b[43mInitial_Portfolio\u001b[49m\n\u001b[1;32m      2\u001b[0m MVO_result \u001b[38;5;241m=\u001b[39m pd\u001b[38;5;241m.\u001b[39mDataFrame(Portfolio_Assets, columns\u001b[38;5;241m=\u001b[39m[\u001b[38;5;124m\"\u001b[39m\u001b[38;5;124mMean Var\u001b[39m\u001b[38;5;124m\"\u001b[39m])\n\u001b[1;32m      3\u001b[0m MVO_result\n",
            "\u001b[0;31mNameError\u001b[0m: name 'Initial_Portfolio' is not defined"
          ]
        }
      ],
      "source": [
        "Portfolio_Assets = TradeData @ Initial_Portfolio\n",
        "MVO_result = pd.DataFrame(Portfolio_Assets, columns=[\"Mean Var\"])\n",
        "MVO_result"
      ]
    },
    {
      "cell_type": "markdown",
      "metadata": {
        "id": "I5sgGe7g1HsL"
      },
      "source": [
        "# Part 4: DJIA index"
      ]
    },
    {
      "cell_type": "markdown",
      "metadata": {
        "id": "sVe_ufxTY2CW"
      },
      "source": [
        "Add DJIA index as a baseline to compare with."
      ]
    },
    {
      "cell_type": "code",
      "execution_count": 26,
      "metadata": {
        "id": "sACPzsI-6k8q"
      },
      "outputs": [],
      "source": [
        "TRAIN_START_DATE = \"2009-01-01\"\n",
        "TRAIN_END_DATE = \"2022-07-01\"\n",
        "TRADE_START_DATE = \"2022-07-01\"\n",
        "TRADE_END_DATE = \"2023-11-29\""
      ]
    },
    {
      "cell_type": "code",
      "execution_count": 27,
      "metadata": {
        "colab": {
          "base_uri": "https://localhost:8080/"
        },
        "id": "TuszW-OB1K0m",
        "outputId": "b89a8350-de58-4fea-8e4b-856efa872712"
      },
      "outputs": [
        {
          "name": "stdout",
          "output_type": "stream",
          "text": [
            "[*********************100%%**********************]  1 of 1 completed\n",
            "Shape of DataFrame:  (355, 8)\n"
          ]
        },
        {
          "name": "stderr",
          "output_type": "stream",
          "text": [
            "/opt/homebrew/lib/python3.10/site-packages/yfinance/utils.py:771: FutureWarning: The 'unit' keyword in TimedeltaIndex construction is deprecated and will be removed in a future version. Use pd.to_timedelta instead.\n",
            "  df.index += _pd.TimedeltaIndex(dst_error_hours, 'h')\n"
          ]
        }
      ],
      "source": [
        "df_dji = YahooDownloader(\n",
        "    start_date=TRADE_START_DATE, end_date=TRADE_END_DATE, ticker_list=[\"AAPL\"]\n",
        ").fetch_data()"
      ]
    },
    {
      "cell_type": "code",
      "execution_count": 28,
      "metadata": {
        "id": "Q3RXz72U1VbV"
      },
      "outputs": [],
      "source": [
        "df_dji = df_dji[[\"date\", \"close\"]]\n",
        "fst_day = df_dji[\"close\"][0]\n",
        "dji = pd.merge(\n",
        "    df_dji[\"date\"],\n",
        "    df_dji[\"close\"].div(fst_day).mul(100000),\n",
        "    how=\"outer\",\n",
        "    left_index=True,\n",
        "    right_index=True,\n",
        ").set_index(\"date\")"
      ]
    },
    {
      "cell_type": "markdown",
      "metadata": {
        "id": "W6vvNSC6h1jZ"
      },
      "source": [
        "<a id='4'></a>\n",
        "# Part 5: Backtesting Results\n",
        "Backtesting plays a key role in evaluating the performance of a trading strategy. Automated backtesting tool is preferred because it reduces the human error. We usually use the Quantopian pyfolio package to backtest our trading strategies. It is easy to use and consists of various individual plots that provide a comprehensive image of the performance of a trading strategy."
      ]
    },
    {
      "cell_type": "code",
      "execution_count": 29,
      "metadata": {
        "id": "KeDeGAc9VrEg"
      },
      "outputs": [
        {
          "name": "stdout",
          "output_type": "stream",
          "text": [
            "            account_value\n",
            "date                     \n",
            "2022-07-01       100000.0\n",
            "2022-07-05       100000.0\n",
            "2022-07-06       100000.0\n",
            "2022-07-07       100000.0\n",
            "2022-07-08       100000.0\n",
            "...                   ...\n",
            "2023-11-20       100000.0\n",
            "2023-11-21       100000.0\n",
            "2023-11-22       100000.0\n",
            "2023-11-24       100000.0\n",
            "2023-11-27       100000.0\n",
            "\n",
            "[354 rows x 1 columns]\n"
          ]
        }
      ],
      "source": [
        "df_result_a2c = (\n",
        "    df_account_value_a2c.set_index(df_account_value_a2c.columns[0])\n",
        "    if if_using_a2c\n",
        "    else None\n",
        ")\n",
        "df_result_ddpg = (\n",
        "    df_account_value_ddpg.set_index(df_account_value_ddpg.columns[0])\n",
        "    if if_using_ddpg\n",
        "    else None\n",
        ")\n",
        "df_result_ppo = (\n",
        "    df_account_value_ppo.set_index(df_account_value_ppo.columns[0])\n",
        "    if if_using_ppo\n",
        "    else None\n",
        ")\n",
        "df_result_td3 = (\n",
        "    df_account_value_td3.set_index(df_account_value_td3.columns[0])\n",
        "    if if_using_td3\n",
        "    else None\n",
        ")\n",
        "print(df_result_td3)\n",
        "df_result_sac = (\n",
        "    df_account_value_sac.set_index(df_account_value_sac.columns[0])\n",
        "    if if_using_sac\n",
        "    else None\n",
        ")\n",
        "\n",
        "result = pd.DataFrame(\n",
        "    {\n",
        "        \"a2c\": df_result_a2c[\"account_value\"] if if_using_a2c else None,\n",
        "        \"ddpg\": df_result_ddpg[\"account_value\"] if if_using_ddpg else None,\n",
        "        \"ppo\": df_result_ppo[\"account_value\"] if if_using_ppo else None,\n",
        "        \"td3\": df_result_td3[\"account_value\"] if if_using_td3 else None,\n",
        "        \"sac\": df_result_sac[\"account_value\"] if if_using_sac else None,\n",
        "        # \"mvo\": MVO_result[\"Mean Var\"],\n",
        "        \"AAPL\": dji[\"close\"],\n",
        "    }\n",
        ")"
      ]
    },
    {
      "cell_type": "code",
      "execution_count": 30,
      "metadata": {
        "colab": {
          "base_uri": "https://localhost:8080/",
          "height": 455
        },
        "id": "l4FZxyDt3XaE",
        "outputId": "2e739637-bf88-4698-9cf1-9a526452e465"
      },
      "outputs": [
        {
          "data": {
            "text/html": [
              "<div>\n",
              "<style scoped>\n",
              "    .dataframe tbody tr th:only-of-type {\n",
              "        vertical-align: middle;\n",
              "    }\n",
              "\n",
              "    .dataframe tbody tr th {\n",
              "        vertical-align: top;\n",
              "    }\n",
              "\n",
              "    .dataframe thead th {\n",
              "        text-align: right;\n",
              "    }\n",
              "</style>\n",
              "<table border=\"1\" class=\"dataframe\">\n",
              "  <thead>\n",
              "    <tr style=\"text-align: right;\">\n",
              "      <th></th>\n",
              "      <th>a2c</th>\n",
              "      <th>ddpg</th>\n",
              "      <th>ppo</th>\n",
              "      <th>td3</th>\n",
              "      <th>sac</th>\n",
              "      <th>AAPL</th>\n",
              "    </tr>\n",
              "    <tr>\n",
              "      <th>date</th>\n",
              "      <th></th>\n",
              "      <th></th>\n",
              "      <th></th>\n",
              "      <th></th>\n",
              "      <th></th>\n",
              "      <th></th>\n",
              "    </tr>\n",
              "  </thead>\n",
              "  <tbody>\n",
              "    <tr>\n",
              "      <th>2022-07-01</th>\n",
              "      <td>100000.000000</td>\n",
              "      <td>100000.0</td>\n",
              "      <td>100000.000000</td>\n",
              "      <td>100000.0</td>\n",
              "      <td>100000.000000</td>\n",
              "      <td>100000.000000</td>\n",
              "    </tr>\n",
              "    <tr>\n",
              "      <th>2022-07-05</th>\n",
              "      <td>100246.653337</td>\n",
              "      <td>100000.0</td>\n",
              "      <td>100246.653337</td>\n",
              "      <td>100000.0</td>\n",
              "      <td>100246.653337</td>\n",
              "      <td>101893.023249</td>\n",
              "    </tr>\n",
              "    <tr>\n",
              "      <th>2022-07-06</th>\n",
              "      <td>100501.963501</td>\n",
              "      <td>100000.0</td>\n",
              "      <td>100501.963501</td>\n",
              "      <td>100000.0</td>\n",
              "      <td>100501.963501</td>\n",
              "      <td>102871.957187</td>\n",
              "    </tr>\n",
              "    <tr>\n",
              "      <th>2022-07-07</th>\n",
              "      <td>101506.684290</td>\n",
              "      <td>100000.0</td>\n",
              "      <td>101506.684290</td>\n",
              "      <td>100000.0</td>\n",
              "      <td>101506.684290</td>\n",
              "      <td>105340.829156</td>\n",
              "    </tr>\n",
              "    <tr>\n",
              "      <th>2022-07-08</th>\n",
              "      <td>101765.466089</td>\n",
              "      <td>100000.0</td>\n",
              "      <td>101765.466089</td>\n",
              "      <td>100000.0</td>\n",
              "      <td>101765.466089</td>\n",
              "      <td>105837.460357</td>\n",
              "    </tr>\n",
              "    <tr>\n",
              "      <th>...</th>\n",
              "      <td>...</td>\n",
              "      <td>...</td>\n",
              "      <td>...</td>\n",
              "      <td>...</td>\n",
              "      <td>...</td>\n",
              "      <td>...</td>\n",
              "    </tr>\n",
              "    <tr>\n",
              "      <th>2023-11-21</th>\n",
              "      <td>124561.517220</td>\n",
              "      <td>100000.0</td>\n",
              "      <td>129230.578387</td>\n",
              "      <td>100000.0</td>\n",
              "      <td>133470.416085</td>\n",
              "      <td>138408.067747</td>\n",
              "    </tr>\n",
              "    <tr>\n",
              "      <th>2023-11-22</th>\n",
              "      <td>124913.183112</td>\n",
              "      <td>100000.0</td>\n",
              "      <td>129674.737947</td>\n",
              "      <td>100000.0</td>\n",
              "      <td>133939.485802</td>\n",
              "      <td>138894.491306</td>\n",
              "    </tr>\n",
              "    <tr>\n",
              "      <th>2023-11-24</th>\n",
              "      <td>124020.365917</td>\n",
              "      <td>100000.0</td>\n",
              "      <td>128824.740180</td>\n",
              "      <td>100000.0</td>\n",
              "      <td>133001.346368</td>\n",
              "      <td>137921.633080</td>\n",
              "    </tr>\n",
              "    <tr>\n",
              "      <th>2023-11-27</th>\n",
              "      <td>123902.253878</td>\n",
              "      <td>100000.0</td>\n",
              "      <td>128693.363587</td>\n",
              "      <td>100000.0</td>\n",
              "      <td>132875.321252</td>\n",
              "      <td>137790.944167</td>\n",
              "    </tr>\n",
              "    <tr>\n",
              "      <th>2023-11-28</th>\n",
              "      <td>NaN</td>\n",
              "      <td>NaN</td>\n",
              "      <td>NaN</td>\n",
              "      <td>NaN</td>\n",
              "      <td>NaN</td>\n",
              "      <td>138233.815862</td>\n",
              "    </tr>\n",
              "  </tbody>\n",
              "</table>\n",
              "<p>355 rows × 6 columns</p>\n",
              "</div>"
            ],
            "text/plain": [
              "                      a2c      ddpg            ppo       td3            sac  \\\n",
              "date                                                                          \n",
              "2022-07-01  100000.000000  100000.0  100000.000000  100000.0  100000.000000   \n",
              "2022-07-05  100246.653337  100000.0  100246.653337  100000.0  100246.653337   \n",
              "2022-07-06  100501.963501  100000.0  100501.963501  100000.0  100501.963501   \n",
              "2022-07-07  101506.684290  100000.0  101506.684290  100000.0  101506.684290   \n",
              "2022-07-08  101765.466089  100000.0  101765.466089  100000.0  101765.466089   \n",
              "...                   ...       ...            ...       ...            ...   \n",
              "2023-11-21  124561.517220  100000.0  129230.578387  100000.0  133470.416085   \n",
              "2023-11-22  124913.183112  100000.0  129674.737947  100000.0  133939.485802   \n",
              "2023-11-24  124020.365917  100000.0  128824.740180  100000.0  133001.346368   \n",
              "2023-11-27  123902.253878  100000.0  128693.363587  100000.0  132875.321252   \n",
              "2023-11-28            NaN       NaN            NaN       NaN            NaN   \n",
              "\n",
              "                     AAPL  \n",
              "date                       \n",
              "2022-07-01  100000.000000  \n",
              "2022-07-05  101893.023249  \n",
              "2022-07-06  102871.957187  \n",
              "2022-07-07  105340.829156  \n",
              "2022-07-08  105837.460357  \n",
              "...                   ...  \n",
              "2023-11-21  138408.067747  \n",
              "2023-11-22  138894.491306  \n",
              "2023-11-24  137921.633080  \n",
              "2023-11-27  137790.944167  \n",
              "2023-11-28  138233.815862  \n",
              "\n",
              "[355 rows x 6 columns]"
            ]
          },
          "execution_count": 30,
          "metadata": {},
          "output_type": "execute_result"
        }
      ],
      "source": [
        "result"
      ]
    },
    {
      "cell_type": "markdown",
      "metadata": {
        "id": "QQuc5hI9Yklt"
      },
      "source": [
        "Now, everything is ready, we can plot the backtest result."
      ]
    },
    {
      "cell_type": "code",
      "execution_count": 31,
      "metadata": {
        "colab": {
          "base_uri": "https://localhost:8080/",
          "height": 381
        },
        "id": "6xRfrqK4RVfq",
        "outputId": "469c9729-fd57-417c-9b13-2243426923e2"
      },
      "outputs": [
        {
          "data": {
            "text/plain": [
              "<Figure size 1500x500 with 0 Axes>"
            ]
          },
          "metadata": {},
          "output_type": "display_data"
        },
        {
          "data": {
            "image/png": "[encoded data removed]",
            "text/plain": [
              "<Figure size 1500x500 with 1 Axes>"
            ]
          },
          "metadata": {},
          "output_type": "display_data"
        }
      ],
      "source": [
        "plt.rcParams[\"figure.figsize\"] = (15,5)\n",
        "plt.figure()\n",
        "result.plot()\n",
        "plt.savefig(\"result.png\")"
      ]
    },
    {
      "cell_type": "code",
      "execution_count": null,
      "metadata": {},
      "outputs": [],
      "source": []
    },
    {
      "cell_type": "code",
      "execution_count": null,
      "metadata": {},
      "outputs": [],
      "source": []
    },
    {
      "cell_type": "code",
      "execution_count": null,
      "metadata": {},
      "outputs": [],
      "source": []
    },
    {
      "cell_type": "code",
      "execution_count": null,
      "metadata": {},
      "outputs": [],
      "source": []
    },
    {
      "cell_type": "code",
      "execution_count": null,
      "metadata": {},
      "outputs": [],
      "source": []
    }
  ],
  "metadata": {
    "colab": {
      "collapsed_sections": [
        "GfZ5vY5wRjkJ"
      ],
      "provenance": []
    },
    "kernelspec": {
      "display_name": "Python 3",
      "name": "python3"
    },
    "language_info": {
      "codemirror_mode": {
        "name": "ipython",
        "version": 3
      },
      "file_extension": ".py",
      "mimetype": "text/x-python",
      "name": "python",
      "nbconvert_exporter": "python",
      "pygments_lexer": "ipython3",
      "version": "3.10.14"
    }
  },
  "nbformat": 4,
  "nbformat_minor": 0
}
