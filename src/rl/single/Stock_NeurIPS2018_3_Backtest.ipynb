{
  "cells": [
    {
      "cell_type": "markdown",
      "metadata": {
        "id": "v7Cycmf3Zbok"
      },
      "source": [
        "# Stock NeurIPS2018 Part 3. Backtest\n",
        "This series is a reproduction of paper *the process in the paper Practical Deep Reinforcement Learning Approach for Stock Trading*. \n",
        "\n",
        "This is the third and last part of the NeurIPS2018 series, introducing how to use use the agents we trained to do backtest, and compare with baselines such as Mean Variance Optimization and DJIA index.\n",
        "\n",
        "Other demos can be found at the repo of [FinRL-Tutorials]((https://github.com/AI4Finance-Foundation/FinRL-Tutorials))."
      ]
    },
    {
      "cell_type": "markdown",
      "metadata": {
        "id": "1oWbj4HgqHBg"
      },
      "source": [
        "# Part 1. Install Packages"
      ]
    },
    {
      "cell_type": "code",
      "execution_count": 1,
      "metadata": {
        "id": "QJgoEYx3p_NG"
      },
      "outputs": [],
      "source": [
        "## install finrl library\n",
        "!pip install git+https://github.com/AI4Finance-Foundation/FinRL.git"
      ]
    },
    {
      "cell_type": "code",
      "execution_count": 540,
      "metadata": {
        "id": "mqfBOKz-qJYF"
      },
      "outputs": [],
      "source": [
        "import matplotlib.pyplot as plt\n",
        "import numpy as np\n",
        "import pandas as pd\n",
        "from stable_baselines3 import A2C, DDPG, PPO, SAC, TD3\n",
        "\n",
        "from finrl.agents.stablebaselines3.models import DRLAgent\n",
        "from finrl.config import INDICATORS, TRAINED_MODEL_DIR\n",
        "from finrl.meta.env_stock_trading.env_stocktrading import StockTradingEnv\n",
        "from finrl.meta.preprocessor.yahoodownloader import YahooDownloader\n",
        "\n",
        "%matplotlib inline"
      ]
    },
    {
      "cell_type": "markdown",
      "metadata": {
        "id": "mUF2P4hmqVjh"
      },
      "source": [
        "# Part 2. Backtesting"
      ]
    },
    {
      "cell_type": "markdown",
      "metadata": {
        "id": "BdU6qLsVWDxI"
      },
      "source": [
        "To backtest the agents, upload trade_data.csv in the same directory of this notebook. For Colab users, just upload trade_data.csv to the default directory."
      ]
    },
    {
      "cell_type": "code",
      "execution_count": 541,
      "metadata": {
        "id": "mSjBHn_MZr4U"
      },
      "outputs": [],
      "source": [
        "train = pd.read_csv('train_data_single.csv')\n",
        "trade = pd.read_csv('trade_data_single.csv')\n",
        "\n",
        "# If you are not using the data generated from part 1 of this tutorial, make sure \n",
        "# it has the columns and index in the form that could be make into the environment. \n",
        "# Then you can comment and skip the following lines.\n",
        "train = train.set_index(train.columns[0])\n",
        "train.index.names = ['']\n",
        "trade = trade.set_index(trade.columns[0])\n",
        "trade.index.names = ['']"
      ]
    },
    {
      "cell_type": "markdown",
      "metadata": {
        "id": "qu4Ey54b36oL"
      },
      "source": [
        "Then, upload the trained agent to the same directory, and set the corresponding variable to True."
      ]
    },
    {
      "cell_type": "code",
      "execution_count": 542,
      "metadata": {
        "id": "Z_mVZM4IIa55"
      },
      "outputs": [],
      "source": [
        "if_using_a2c = True\n",
        "if_using_ddpg = True\n",
        "if_using_ppo = True\n",
        "if_using_td3 = True\n",
        "if_using_sac = True"
      ]
    },
    {
      "cell_type": "markdown",
      "metadata": {
        "id": "73D4oRqAIkYj"
      },
      "source": [
        "Load the agents"
      ]
    },
    {
      "cell_type": "code",
      "execution_count": 543,
      "metadata": {
        "id": "6CagrX0I36ZN"
      },
      "outputs": [],
      "source": [
        "trained_a2c = A2C.load(TRAINED_MODEL_DIR + \"/agent_a2c\") if if_using_a2c else None\n",
        "trained_ddpg = DDPG.load(TRAINED_MODEL_DIR + \"/agent_ddpg\") if if_using_ddpg else None\n",
        "trained_ppo = PPO.load(TRAINED_MODEL_DIR + \"/agent_ppo\") if if_using_ppo else None\n",
        "trained_td3 = TD3.load(TRAINED_MODEL_DIR + \"/agent_td3\") if if_using_td3 else None\n",
        "trained_sac = SAC.load(TRAINED_MODEL_DIR + \"/agent_sac\") if if_using_sac else None"
      ]
    },
    {
      "cell_type": "markdown",
      "metadata": {
        "id": "U5mmgQF_h1jQ"
      },
      "source": [
        "### Trading (Out-of-sample Performance)\n",
        "\n",
        "We update periodically in order to take full advantage of the data, e.g., retrain quarterly, monthly or weekly. We also tune the parameters along the way, in this notebook we use the in-sample data from 2009-01 to 2020-07 to tune the parameters once, so there is some alpha decay here as the length of trade date extends. \n",
        "\n",
        "Numerous hyperparameters – e.g. the learning rate, the total number of samples to train on – influence the learning process and are usually determined by testing some variations."
      ]
    },
    {
      "cell_type": "code",
      "execution_count": 544,
      "metadata": {
        "colab": {
          "base_uri": "https://localhost:8080/"
        },
        "id": "4H_w3SaBAkKU",
        "outputId": "fdaed3a7-d3a9-4cde-d194-ee4576057175"
      },
      "outputs": [
        {
          "name": "stdout",
          "output_type": "stream",
          "text": [
            "Stock Dimension: 1, State Space: 11\n"
          ]
        }
      ],
      "source": [
        "stock_dimension = len(trade.tic.unique())\n",
        "state_space = 1 + 2 * stock_dimension + len(INDICATORS) * stock_dimension\n",
        "print(f\"Stock Dimension: {stock_dimension}, State Space: {state_space}\")"
      ]
    },
    {
      "cell_type": "code",
      "execution_count": 545,
      "metadata": {
        "id": "nKNmQMqGAknW"
      },
      "outputs": [],
      "source": [
        "buy_cost_list = sell_cost_list = [0.001] * stock_dimension\n",
        "num_stock_shares = [0] * stock_dimension\n",
        "\n",
        "env_kwargs = {\n",
        "    \"hmax\": 100,\n",
        "    \"initial_amount\": 10000,\n",
        "    \"num_stock_shares\": num_stock_shares,\n",
        "    \"buy_cost_pct\": buy_cost_list,\n",
        "    \"sell_cost_pct\": sell_cost_list,\n",
        "    \"state_space\": state_space,\n",
        "    \"stock_dim\": stock_dimension,\n",
        "    \"tech_indicator_list\": INDICATORS,\n",
        "    \"action_space\": stock_dimension,\n",
        "    \"reward_scaling\": 1e-4\n",
        "}"
      ]
    },
    {
      "cell_type": "code",
      "execution_count": 546,
      "metadata": {
        "id": "cIqoV0GSI52v"
      },
      "outputs": [],
      "source": [
        "e_trade_gym = StockTradingEnv(df = trade, turbulence_threshold = 70,risk_indicator_col='vix', **env_kwargs)\n",
        "# env_trade, obs_trade = e_trade_gym.get_sb_env()"
      ]
    },
    {
      "cell_type": "code",
      "execution_count": 547,
      "metadata": {
        "colab": {
          "base_uri": "https://localhost:8080/"
        },
        "id": "lbFchno5j3xs",
        "outputId": "44fffa47-3b47-4e7b-96c2-0a485e9efead"
      },
      "outputs": [
        {
          "name": "stdout",
          "output_type": "stream",
          "text": [
            "hit end!\n",
            "    actions        date\n",
            "0      [72]  2022-07-01\n",
            "1       NaN  2022-07-05\n",
            "2       NaN  2022-07-06\n",
            "3       NaN  2022-07-07\n",
            "4       NaN  2022-07-08\n",
            "..      ...         ...\n",
            "348     NaN  2023-11-17\n",
            "349     NaN  2023-11-20\n",
            "350     NaN  2023-11-21\n",
            "351     NaN  2023-11-22\n",
            "352     NaN  2023-11-24\n",
            "\n",
            "[353 rows x 2 columns]\n"
          ]
        }
      ],
      "source": [
        "df_account_value_a2c, df_actions_a2c = DRLAgent.DRL_prediction(\n",
        "    model=trained_a2c, \n",
        "    environment = e_trade_gym) if if_using_a2c else (None, None)\n",
        "\n",
        "df_actions_filled = df_actions_a2c.fillna(0)\n",
        "\n",
        "# Filter to keep only rows with at least one non-zero value\n",
        "non_zero_rows = df_actions_filled.loc[(df_actions_filled != 0).any(axis=1)]\n",
        "\n",
        "# For each row in the filtered DataFrame, keep only columns with non-zero values\n",
        "non_zero_actions_only = non_zero_rows.apply(lambda row: row[row != 0], axis=1)\n",
        "\n",
        "# Print the resulting DataFrame\n",
        "print(non_zero_actions_only)"
      ]
    },
    {
      "cell_type": "code",
      "execution_count": 548,
      "metadata": {
        "id": "JbYljWGjj3pH"
      },
      "outputs": [
        {
          "name": "stdout",
          "output_type": "stream",
          "text": [
            "hit end!\n",
            "           date  account_value\n",
            "0    2022-07-01   10000.000000\n",
            "1    2022-07-05   10177.590403\n",
            "2    2022-07-06   10167.498438\n",
            "3    2022-07-07   10398.584084\n",
            "4    2022-07-08   10447.089989\n",
            "..          ...            ...\n",
            "349  2023-11-20   13367.684600\n",
            "350  2023-11-21   13311.866363\n",
            "351  2023-11-22   13358.037277\n",
            "352  2023-11-24   13265.695449\n",
            "353  2023-11-27   13253.290694\n",
            "\n",
            "[354 rows x 2 columns]\n"
          ]
        },
        {
          "data": {
            "image/png": "[encoded data removed]",
            "text/plain": [
              "<Figure size 1500x500 with 2 Axes>"
            ]
          },
          "metadata": {},
          "output_type": "display_data"
        }
      ],
      "source": [
        "df_account_value_ddpg, df_actions_ddpg = DRLAgent.DRL_prediction(\n",
        "    model=trained_ddpg, \n",
        "    environment = e_trade_gym) if if_using_ddpg else (None, None)\n",
        "\n",
        "df_actions_filled = df_actions_ddpg.fillna(0)\n",
        "# Filter to keep only rows with at least one non-zero value\n",
        "non_zero_rows = df_actions_filled.loc[(df_actions_filled != 0).any(axis=1)]\n",
        "\n",
        "# For each row in the filtered DataFrame, keep only columns with non-zero values\n",
        "non_zero_actions_only = non_zero_rows.apply(lambda row: row[row != 0], axis=1)\n",
        "\n",
        "# Print the resulting DataFrame\n",
        "# print(non_zero_actions_only)\n",
        "\n",
        "\n",
        "# print actions between 11-01-2022 and 02-06-2023\n",
        "# # index by date\n",
        "# for i in range(len(df_actions_ddpg)):\n",
        "#     print(df_actions_ddpg.iloc[i])\n",
        "print(df_account_value_ddpg)\n",
        "# plot actions between 11-01-2022 and 02-06-2023\n",
        "plt.figure(figsize=(15, 5))\n",
        "plt.subplot(1, 2, 1)\n",
        "plt.title('DDPG')\n",
        "plt.plot(df_account_value_ddpg[\"account_value\"])\n",
        "plt.subplot(1, 2, 2)\n",
        "plt.title('DDPG Actions')\n",
        "plt.plot(df_actions_ddpg.index, df_actions_ddpg['actions'], marker='o', markersize=2, linestyle='')\n",
        "plt.show()"
      ]
    },
    {
      "cell_type": "code",
      "execution_count": 549,
      "metadata": {
        "id": "74jNP2DBj3hb"
      },
      "outputs": [
        {
          "name": "stdout",
          "output_type": "stream",
          "text": [
            "hit end!\n",
            "    actions        date\n",
            "0      [72]  2022-07-01\n",
            "1      [-8]  2022-07-05\n",
            "2       [8]  2022-07-06\n",
            "3     [-26]  2022-07-07\n",
            "4      [26]  2022-07-08\n",
            "..      ...         ...\n",
            "348     NaN  2023-11-17\n",
            "349     NaN  2023-11-20\n",
            "350   [-16]  2023-11-21\n",
            "351    [16]  2023-11-22\n",
            "352   [-24]  2023-11-24\n",
            "\n",
            "[353 rows x 2 columns]\n"
          ]
        }
      ],
      "source": [
        "df_account_value_ppo, df_actions_ppo = DRLAgent.DRL_prediction(\n",
        "    model=trained_ppo, \n",
        "    environment = e_trade_gym) if if_using_ppo else (None, None)\n",
        "df_actions_filled = df_actions_ppo.fillna(0)\n",
        "\n",
        "# Filter to keep only rows with at least one non-zero value\n",
        "non_zero_rows = df_actions_filled.loc[(df_actions_filled != 0).any(axis=1)]\n",
        "\n",
        "# For each row in the filtered DataFrame, keep only columns with non-zero values\n",
        "non_zero_actions_only = non_zero_rows.apply(lambda row: row[row != 0], axis=1)\n",
        "\n",
        "# Print the resulting DataFrame\n",
        "print(non_zero_actions_only)"
      ]
    },
    {
      "cell_type": "code",
      "execution_count": 550,
      "metadata": {
        "id": "S7VyGGJPj3SH"
      },
      "outputs": [
        {
          "name": "stdout",
          "output_type": "stream",
          "text": [
            "hit end!\n",
            "    actions        date\n",
            "0      [72]  2022-07-01\n",
            "1       NaN  2022-07-05\n",
            "2       NaN  2022-07-06\n",
            "3       NaN  2022-07-07\n",
            "4       NaN  2022-07-08\n",
            "..      ...         ...\n",
            "348     NaN  2023-11-17\n",
            "349     NaN  2023-11-20\n",
            "350     NaN  2023-11-21\n",
            "351     NaN  2023-11-22\n",
            "352     NaN  2023-11-24\n",
            "\n",
            "[353 rows x 2 columns]\n"
          ]
        }
      ],
      "source": [
        "df_account_value_td3, df_actions_td3 = DRLAgent.DRL_prediction(\n",
        "    model=trained_td3, \n",
        "    environment = e_trade_gym) if if_using_td3 else (None, None)\n",
        "\n",
        "# print actions_td3 to see the actions taken by the agent, but only where not zero\n",
        "df_actions_filled = df_actions_td3.fillna(0)\n",
        "\n",
        "# Filter to keep only rows with at least one non-zero value\n",
        "non_zero_rows = df_actions_filled.loc[(df_actions_filled != 0).any(axis=1)]\n",
        "\n",
        "# For each row in the filtered DataFrame, keep only columns with non-zero values\n",
        "non_zero_actions_only = non_zero_rows.apply(lambda row: row[row != 0], axis=1)\n",
        "\n",
        "# Print the resulting DataFrame\n",
        "print(non_zero_actions_only)\n",
        "\n",
        "# print the date july 3rd 2020\n",
        "\n"
      ]
    },
    {
      "cell_type": "code",
      "execution_count": 551,
      "metadata": {
        "colab": {
          "base_uri": "https://localhost:8080/"
        },
        "id": "eLOnL5eYh1jR",
        "outputId": "70e50e24-aed5-49f9-cdd7-de6b9689d9ce"
      },
      "outputs": [
        {
          "name": "stdout",
          "output_type": "stream",
          "text": [
            "hit end!\n",
            "    actions        date\n",
            "0      [72]  2022-07-01\n",
            "1       NaN  2022-07-05\n",
            "2       NaN  2022-07-06\n",
            "3       NaN  2022-07-07\n",
            "4       NaN  2022-07-08\n",
            "..      ...         ...\n",
            "348     NaN  2023-11-17\n",
            "349     NaN  2023-11-20\n",
            "350     NaN  2023-11-21\n",
            "351     NaN  2023-11-22\n",
            "352     NaN  2023-11-24\n",
            "\n",
            "[353 rows x 2 columns]\n"
          ]
        }
      ],
      "source": [
        "df_account_value_sac, df_actions_sac = DRLAgent.DRL_prediction(\n",
        "    model=trained_sac, \n",
        "    environment = e_trade_gym) if if_using_sac else (None, None)\n",
        "\n",
        "df_actions_filled = df_actions_sac\n",
        "\n",
        "# Filter to keep only rows with at least one non-zero value\n",
        "non_zero_rows = df_actions_filled.loc[(df_actions_filled != 0).any(axis=1)]\n",
        "\n",
        "# For each row in the filtered DataFrame, keep only columns with non-zero values\n",
        "non_zero_actions_only = non_zero_rows.apply(lambda row: row[row != 0], axis=1)\n",
        "\n",
        "# Print the resulting DataFrame\n",
        "print(non_zero_actions_only)"
      ]
    },
    {
      "cell_type": "markdown",
      "metadata": {
        "id": "GcE-t08w6DaW"
      },
      "source": [
        "# Part 3: Mean Variance Optimization"
      ]
    },
    {
      "cell_type": "markdown",
      "metadata": {
        "id": "17TUs71EWj09"
      },
      "source": [
        "Mean Variance optimization is a very classic strategy in portfolio management. Here, we go through the whole process to do the mean variance optimization and add it as a baseline to compare.\n",
        "\n",
        "First, process dataframe to the form for MVO weight calculation."
      ]
    },
    {
      "cell_type": "code",
      "execution_count": 552,
      "metadata": {
        "id": "wungSNOwPwKR"
      },
      "outputs": [],
      "source": [
        "def process_df_for_mvo(df):\n",
        "  return df.pivot(index=\"date\", columns=\"tic\", values=\"close\")"
      ]
    },
    {
      "cell_type": "markdown",
      "metadata": {
        "id": "SwEwkHJ1d_6u"
      },
      "source": [
        "### Helper functions for mean returns and variance-covariance matrix"
      ]
    },
    {
      "cell_type": "code",
      "execution_count": 553,
      "metadata": {
        "id": "6KvXkpyE8MFq"
      },
      "outputs": [],
      "source": [
        "# Codes in this section partially refer to Dr G A Vijayalakshmi Pai\n",
        "\n",
        "# https://www.kaggle.com/code/vijipai/lesson-5-mean-variance-optimization-of-portfolios/notebook\n",
        "\n",
        "def StockReturnsComputing(StockPrice, Rows, Columns): \n",
        "  import numpy as np \n",
        "  StockReturn = np.zeros([Rows-1, Columns]) \n",
        "  for j in range(Columns):        # j: Assets \n",
        "    for i in range(Rows-1):     # i: Daily Prices \n",
        "      StockReturn[i,j]=((StockPrice[i+1, j]-StockPrice[i,j])/StockPrice[i,j])* 100 \n",
        "      \n",
        "  return StockReturn"
      ]
    },
    {
      "cell_type": "markdown",
      "metadata": {
        "id": "IeVVbuwveJ_5"
      },
      "source": [
        "### Calculate the weights for mean-variance"
      ]
    },
    {
      "cell_type": "code",
      "execution_count": 554,
      "metadata": {
        "colab": {
          "base_uri": "https://localhost:8080/"
        },
        "id": "kE8nruKLQYLO",
        "outputId": "42d07c80-f309-49f8-f2b4-36a51987086f"
      },
      "outputs": [
        {
          "data": {
            "text/plain": [
              "array([[137.562],\n",
              "       [140.166],\n",
              "       [141.513],\n",
              "       [144.909],\n",
              "       [145.592],\n",
              "       [143.444],\n",
              "       [144.424],\n",
              "       [144.058],\n",
              "       [147.008],\n",
              "       [148.691],\n",
              "       [145.622],\n",
              "       [149.513],\n",
              "       [151.533],\n",
              "       [153.82 ],\n",
              "       [152.573],\n",
              "       [151.444],\n",
              "       [150.107],\n",
              "       [155.246],\n",
              "       [155.801],\n",
              "       [160.91 ],\n",
              "       [159.92 ],\n",
              "       [158.435],\n",
              "       [164.494],\n",
              "       [164.177],\n",
              "       [163.949],\n",
              "       [163.473],\n",
              "       [163.523],\n",
              "       [167.806],\n",
              "       [167.063],\n",
              "       [170.642],\n",
              "       [171.723],\n",
              "       [171.564],\n",
              "       [173.071],\n",
              "       [172.675],\n",
              "       [170.067],\n",
              "       [166.151],\n",
              "       [165.813],\n",
              "       [166.111],\n",
              "       [168.59 ],\n",
              "       [162.234],\n",
              "       [160.013],\n",
              "       [157.564],\n",
              "       [155.888],\n",
              "       [156.622],\n",
              "       [154.49 ],\n",
              "       [153.221],\n",
              "       [154.639],\n",
              "       [153.152],\n",
              "       [156.037],\n",
              "       [162.046],\n",
              "       [152.537],\n",
              "       [153.994],\n",
              "       [151.079],\n",
              "       [149.423],\n",
              "       [153.171],\n",
              "       [155.571],\n",
              "       [152.418],\n",
              "       [151.446],\n",
              "       [149.156],\n",
              "       [149.493],\n",
              "       [150.475],\n",
              "       [148.571],\n",
              "       [141.273],\n",
              "       [137.029],\n",
              "       [141.243],\n",
              "       [144.862],\n",
              "       [145.16 ],\n",
              "       [144.198],\n",
              "       [138.903],\n",
              "       [139.231],\n",
              "       [137.803],\n",
              "       [137.168],\n",
              "       [141.779],\n",
              "       [137.208],\n",
              "       [141.204],\n",
              "       [142.532],\n",
              "       [142.641],\n",
              "       [142.175],\n",
              "       [146.023],\n",
              "       [148.184],\n",
              "       [151.05 ],\n",
              "       [148.085],\n",
              "       [143.573],\n",
              "       [154.421],\n",
              "       [152.041],\n",
              "       [149.374],\n",
              "       [143.801],\n",
              "       [137.704],\n",
              "       [137.435],\n",
              "       [137.972],\n",
              "       [138.548],\n",
              "       [133.949],\n",
              "       [145.867],\n",
              "       [148.678],\n",
              "       [147.268],\n",
              "       [149.016],\n",
              "       [147.774],\n",
              "       [149.691],\n",
              "       [150.257],\n",
              "       [147.   ],\n",
              "       [149.155],\n",
              "       [150.039],\n",
              "       [147.099],\n",
              "       [143.236],\n",
              "       [140.206],\n",
              "       [147.02 ],\n",
              "       [147.298],\n",
              "       [146.801],\n",
              "       [145.629],\n",
              "       [141.935],\n",
              "       [139.978],\n",
              "       [141.676],\n",
              "       [141.19 ],\n",
              "       [143.504],\n",
              "       [144.477],\n",
              "       [142.232],\n",
              "       [135.568],\n",
              "       [133.592],\n",
              "       [131.466],\n",
              "       [131.397],\n",
              "       [134.525],\n",
              "       [131.327],\n",
              "       [130.96 ],\n",
              "       [129.142],\n",
              "       [125.18 ],\n",
              "       [128.725],\n",
              "       [129.043],\n",
              "       [124.216],\n",
              "       [125.498],\n",
              "       [124.167],\n",
              "       [128.735],\n",
              "       [129.262],\n",
              "       [129.838],\n",
              "       [132.579],\n",
              "       [132.499],\n",
              "       [133.84 ],\n",
              "       [135.012],\n",
              "       [134.287],\n",
              "       [134.347],\n",
              "       [136.929],\n",
              "       [140.147],\n",
              "       [141.557],\n",
              "       [140.892],\n",
              "       [142.977],\n",
              "       [144.934],\n",
              "       [142.024],\n",
              "       [143.305],\n",
              "       [144.437],\n",
              "       [149.791],\n",
              "       [153.445],\n",
              "       [150.694],\n",
              "       [153.594],\n",
              "       [150.883],\n",
              "       [149.84 ],\n",
              "       [150.208],\n",
              "       [153.033],\n",
              "       [152.387],\n",
              "       [154.505],\n",
              "       [152.894],\n",
              "       [151.74 ],\n",
              "       [147.692],\n",
              "       [148.119],\n",
              "       [148.607],\n",
              "       [145.931],\n",
              "       [147.135],\n",
              "       [146.627],\n",
              "       [144.538],\n",
              "       [145.135],\n",
              "       [150.228],\n",
              "       [153.013],\n",
              "       [150.795],\n",
              "       [152.058],\n",
              "       [149.79 ],\n",
              "       [147.712],\n",
              "       [149.671],\n",
              "       [151.78 ],\n",
              "       [152.178],\n",
              "       [155.023],\n",
              "       [154.177],\n",
              "       [156.564],\n",
              "       [158.434],\n",
              "       [156.992],\n",
              "       [158.086],\n",
              "       [159.399],\n",
              "       [157.44 ],\n",
              "       [156.813],\n",
              "       [159.916],\n",
              "       [161.498],\n",
              "       [164.024],\n",
              "       [165.288],\n",
              "       [164.751],\n",
              "       [162.891],\n",
              "       [163.786],\n",
              "       [161.17 ],\n",
              "       [159.946],\n",
              "       [159.25 ],\n",
              "       [164.681],\n",
              "       [164.333],\n",
              "       [164.353],\n",
              "       [165.586],\n",
              "       [166.74 ],\n",
              "       [165.765],\n",
              "       [164.144],\n",
              "       [164.452],\n",
              "       [162.9  ],\n",
              "       [162.891],\n",
              "       [167.516],\n",
              "       [168.779],\n",
              "       [168.69 ],\n",
              "       [167.645],\n",
              "       [166.561],\n",
              "       [164.91 ],\n",
              "       [172.648],\n",
              "       [172.579],\n",
              "       [170.858],\n",
              "       [172.639],\n",
              "       [172.827],\n",
              "       [171.891],\n",
              "       [171.393],\n",
              "       [171.393],\n",
              "       [172.011],\n",
              "       [174.361],\n",
              "       [174.471],\n",
              "       [173.515],\n",
              "       [170.885],\n",
              "       [171.164],\n",
              "       [172.31 ],\n",
              "       [174.74 ],\n",
              "       [176.603],\n",
              "       [176.553],\n",
              "       [179.382],\n",
              "       [180.238],\n",
              "       [178.874],\n",
              "       [178.505],\n",
              "       [177.121],\n",
              "       [179.86 ],\n",
              "       [180.248],\n",
              "       [183.067],\n",
              "       [182.589],\n",
              "       [183.226],\n",
              "       [185.278],\n",
              "       [184.193],\n",
              "       [184.282],\n",
              "       [183.236],\n",
              "       [186.264],\n",
              "       [185.946],\n",
              "       [184.541],\n",
              "       [187.32 ],\n",
              "       [188.506],\n",
              "       [188.844],\n",
              "       [193.207],\n",
              "       [191.703],\n",
              "       [190.577],\n",
              "       [191.056],\n",
              "       [189.93 ],\n",
              "       [187.868],\n",
              "       [187.34 ],\n",
              "       [189.024],\n",
              "       [189.79 ],\n",
              "       [189.94 ],\n",
              "       [193.227],\n",
              "       [192.968],\n",
              "       [194.333],\n",
              "       [192.37 ],\n",
              "       [191.185],\n",
              "       [191.992],\n",
              "       [192.858],\n",
              "       [193.735],\n",
              "       [192.46 ],\n",
              "       [195.06 ],\n",
              "       [195.677],\n",
              "       [194.841],\n",
              "       [191.822],\n",
              "       [190.418],\n",
              "       [181.274],\n",
              "       [178.146],\n",
              "       [179.093],\n",
              "       [177.489],\n",
              "       [177.27 ],\n",
              "       [177.33 ],\n",
              "       [178.995],\n",
              "       [176.991],\n",
              "       [176.113],\n",
              "       [173.55 ],\n",
              "       [174.038],\n",
              "       [175.385],\n",
              "       [176.771],\n",
              "       [180.651],\n",
              "       [175.923],\n",
              "       [178.148],\n",
              "       [179.724],\n",
              "       [183.643],\n",
              "       [187.164],\n",
              "       [187.384],\n",
              "       [188.97 ],\n",
              "       [189.209],\n",
              "       [182.437],\n",
              "       [177.1  ],\n",
              "       [177.719],\n",
              "       [178.896],\n",
              "       [175.844],\n",
              "       [173.759],\n",
              "       [175.285],\n",
              "       [174.557],\n",
              "       [177.509],\n",
              "       [178.606],\n",
              "       [175.036],\n",
              "       [173.48 ],\n",
              "       [174.338],\n",
              "       [175.624],\n",
              "       [171.515],\n",
              "       [169.989],\n",
              "       [170.248],\n",
              "       [170.767],\n",
              "       [173.3  ],\n",
              "       [171.954],\n",
              "       [173.21 ],\n",
              "       [174.457],\n",
              "       [177.031],\n",
              "       [178.527],\n",
              "       [177.928],\n",
              "       [179.335],\n",
              "       [180.242],\n",
              "       [178.387],\n",
              "       [178.257],\n",
              "       [176.691],\n",
              "       [175.385],\n",
              "       [175.006],\n",
              "       [172.433],\n",
              "       [172.552],\n",
              "       [172.991],\n",
              "       [170.657],\n",
              "       [166.458],\n",
              "       [167.785],\n",
              "       [169.849],\n",
              "       [170.328],\n",
              "       [173.52 ],\n",
              "       [177.11 ],\n",
              "       [176.193],\n",
              "       [178.766],\n",
              "       [181.349],\n",
              "       [182.417],\n",
              "       [181.938],\n",
              "       [186.162],\n",
              "       [184.564],\n",
              "       [187.201],\n",
              "       [187.77 ],\n",
              "       [189.468],\n",
              "       [189.448],\n",
              "       [191.206],\n",
              "       [190.397],\n",
              "       [191.066],\n",
              "       [189.728],\n",
              "       [189.548]])"
            ]
          },
          "execution_count": 554,
          "metadata": {},
          "output_type": "execute_result"
        }
      ],
      "source": [
        "StockData = process_df_for_mvo(train)\n",
        "TradeData = process_df_for_mvo(trade)\n",
        "\n",
        "TradeData.to_numpy()"
      ]
    },
    {
      "cell_type": "code",
      "execution_count": 555,
      "metadata": {
        "colab": {
          "base_uri": "https://localhost:8080/"
        },
        "id": "u6_O6vrn_uD4",
        "outputId": "0c2f8bf7-07e7-4fe5-c409-93312b95a8dd"
      },
      "outputs": [
        {
          "name": "stdout",
          "output_type": "stream",
          "text": [
            "Mean returns of assets in k-portfolio 1\n",
            " [0.131]\n",
            "Variance-Covariance matrix of returns\n",
            " 3.295793183919682\n"
          ]
        }
      ],
      "source": [
        "#compute asset returns\n",
        "arStockPrices = np.asarray(StockData)\n",
        "[Rows, Cols]=arStockPrices.shape\n",
        "arReturns = StockReturnsComputing(arStockPrices, Rows, Cols)\n",
        "\n",
        "#compute mean returns and variance covariance matrix of returns\n",
        "meanReturns = np.mean(arReturns, axis = 0)\n",
        "covReturns = np.cov(arReturns, rowvar=False)\n",
        " \n",
        "#set precision for printing results\n",
        "np.set_printoptions(precision=3, suppress = True)\n",
        "\n",
        "#display mean returns and variance-covariance matrix of returns\n",
        "print('Mean returns of assets in k-portfolio 1\\n', meanReturns)\n",
        "print('Variance-Covariance matrix of returns\\n', covReturns)"
      ]
    },
    {
      "cell_type": "markdown",
      "metadata": {
        "id": "zC7r-cI8RR1X"
      },
      "source": [
        "### Use PyPortfolioOpt"
      ]
    },
    {
      "cell_type": "code",
      "execution_count": 556,
      "metadata": {
        "colab": {
          "base_uri": "https://localhost:8080/"
        },
        "id": "b1btTONEdCU4",
        "outputId": "75096462-7dfb-4ce6-c6f4-4671f11e79fc"
      },
      "outputs": [
        {
          "ename": "ValueError",
          "evalue": "Covariance matrix does not match expected returns",
          "output_type": "error",
          "traceback": [
            "\u001b[0;31m---------------------------------------------------------------------------\u001b[0m",
            "\u001b[0;31mValueError\u001b[0m                                Traceback (most recent call last)",
            "Cell \u001b[0;32mIn[556], line 3\u001b[0m\n\u001b[1;32m      1\u001b[0m \u001b[38;5;28;01mfrom\u001b[39;00m \u001b[38;5;21;01mpypfopt\u001b[39;00m\u001b[38;5;21;01m.\u001b[39;00m\u001b[38;5;21;01mefficient_frontier\u001b[39;00m \u001b[38;5;28;01mimport\u001b[39;00m EfficientFrontier\n\u001b[0;32m----> 3\u001b[0m ef_mean \u001b[38;5;241m=\u001b[39m \u001b[43mEfficientFrontier\u001b[49m\u001b[43m(\u001b[49m\u001b[43mmeanReturns\u001b[49m\u001b[43m,\u001b[49m\u001b[43m \u001b[49m\u001b[43mcovReturns\u001b[49m\u001b[43m,\u001b[49m\u001b[43m \u001b[49m\u001b[43mweight_bounds\u001b[49m\u001b[38;5;241;43m=\u001b[39;49m\u001b[43m(\u001b[49m\u001b[38;5;241;43m0\u001b[39;49m\u001b[43m,\u001b[49m\u001b[43m \u001b[49m\u001b[38;5;241;43m0.5\u001b[39;49m\u001b[43m)\u001b[49m\u001b[43m)\u001b[49m\n\u001b[1;32m      4\u001b[0m raw_weights_mean \u001b[38;5;241m=\u001b[39m ef_mean\u001b[38;5;241m.\u001b[39mmax_sharpe()\n\u001b[1;32m      5\u001b[0m cleaned_weights_mean \u001b[38;5;241m=\u001b[39m ef_mean\u001b[38;5;241m.\u001b[39mclean_weights()\n",
            "File \u001b[0;32m/opt/homebrew/lib/python3.10/site-packages/pypfopt/efficient_frontier/efficient_frontier.py:105\u001b[0m, in \u001b[0;36mEfficientFrontier.__init__\u001b[0;34m(self, expected_returns, cov_matrix, weight_bounds, solver, verbose, solver_options)\u001b[0m\n\u001b[1;32m    103\u001b[0m \u001b[38;5;28;01mif\u001b[39;00m expected_returns \u001b[38;5;129;01mis\u001b[39;00m \u001b[38;5;129;01mnot\u001b[39;00m \u001b[38;5;28;01mNone\u001b[39;00m \u001b[38;5;129;01mand\u001b[39;00m cov_matrix \u001b[38;5;129;01mis\u001b[39;00m \u001b[38;5;129;01mnot\u001b[39;00m \u001b[38;5;28;01mNone\u001b[39;00m:\n\u001b[1;32m    104\u001b[0m     \u001b[38;5;28;01mif\u001b[39;00m cov_matrix\u001b[38;5;241m.\u001b[39mshape \u001b[38;5;241m!=\u001b[39m (num_assets, num_assets):\n\u001b[0;32m--> 105\u001b[0m         \u001b[38;5;28;01mraise\u001b[39;00m \u001b[38;5;167;01mValueError\u001b[39;00m(\u001b[38;5;124m\"\u001b[39m\u001b[38;5;124mCovariance matrix does not match expected returns\u001b[39m\u001b[38;5;124m\"\u001b[39m)\n\u001b[1;32m    107\u001b[0m \u001b[38;5;28msuper\u001b[39m()\u001b[38;5;241m.\u001b[39m\u001b[38;5;21m__init__\u001b[39m(\n\u001b[1;32m    108\u001b[0m     \u001b[38;5;28mlen\u001b[39m(tickers),\n\u001b[1;32m    109\u001b[0m     tickers,\n\u001b[0;32m   (...)\u001b[0m\n\u001b[1;32m    113\u001b[0m     solver_options\u001b[38;5;241m=\u001b[39msolver_options,\n\u001b[1;32m    114\u001b[0m )\n",
            "\u001b[0;31mValueError\u001b[0m: Covariance matrix does not match expected returns"
          ]
        }
      ],
      "source": [
        "from pypfopt.efficient_frontier import EfficientFrontier\n",
        "\n",
        "ef_mean = EfficientFrontier(meanReturns, covReturns, weight_bounds=(0, 0.5))\n",
        "raw_weights_mean = ef_mean.max_sharpe()\n",
        "cleaned_weights_mean = ef_mean.clean_weights()\n",
        "mvo_weights = np.array([10000 * cleaned_weights_mean[i] for i in range(len(cleaned_weights_mean))])\n",
        "mvo_weights"
      ]
    },
    {
      "cell_type": "code",
      "execution_count": 557,
      "metadata": {
        "colab": {
          "base_uri": "https://localhost:8080/"
        },
        "id": "F38NJRJJgOmj",
        "outputId": "f575651b-1e9b-4015-ae71-c9fc2c3a3dae"
      },
      "outputs": [
        {
          "data": {
            "text/plain": [
              "array([ 0.   ,  0.   ,  8.861,  0.   ,  0.   ,  0.   ,  0.   ,  0.   ,\n",
              "        0.   ,  0.   ,  0.   ,  0.   ,  0.   ,  0.   ,  0.   ,  0.   ,\n",
              "        0.   ,  0.   ,  0.   ,  0.   ,  0.   ,  0.   ,  0.   ,  0.   ,\n",
              "        0.   ,  0.   ,  0.   ,  0.   ,  0.99 ,  0.   ,  0.   ,  0.   ,\n",
              "        0.   ,  0.   ,  0.   ,  0.   ,  0.   ,  0.   ,  0.   ,  3.026,\n",
              "        0.   ,  0.   ,  4.214,  0.   ,  0.   ,  0.   ,  0.   ,  0.   ,\n",
              "        0.   ,  0.   ,  0.   ,  0.   ,  0.   ,  0.   ,  0.   ,  0.   ,\n",
              "        0.   ,  0.   ,  0.   ,  0.   ,  0.   ,  0.   ,  0.   ,  0.   ,\n",
              "        0.   ,  0.   ,  0.   ,  0.   ,  0.   ,  0.   ,  0.   ,  0.   ,\n",
              "        0.   ,  0.   ,  0.   ,  0.   ,  0.   ,  0.   ,  0.   ,  0.   ,\n",
              "        0.   ,  0.   ,  0.   ,  0.   ,  0.   ,  0.   ,  0.   ,  0.   ,\n",
              "        2.513,  0.   ,  0.   ,  0.   ,  0.   ,  0.   ,  0.   ,  0.   ,\n",
              "        0.   ,  0.   ,  0.   ,  0.   ,  0.   ,  0.   ,  0.   ,  0.   ,\n",
              "        0.   ,  0.   ,  0.   ,  0.   ,  0.   ,  0.   ,  0.   ,  0.   ,\n",
              "        0.   ,  0.   ,  0.   ,  0.   ,  0.   ,  0.   ,  0.   ,  0.   ,\n",
              "        1.289,  0.   ,  0.   , 14.709,  0.   ,  0.   ,  0.   ,  0.   ,\n",
              "        0.   ,  5.002,  0.   ,  0.   ,  0.   ,  0.   ,  0.   ,  0.   ,\n",
              "        0.   ,  0.   ,  0.   ,  0.   ,  0.   ,  0.   ,  0.   ,  0.   ,\n",
              "        0.   ,  0.   ,  0.   ,  0.   ,  0.   ,  0.   ,  0.73 ,  0.   ,\n",
              "        0.   ,  0.   ,  0.   ,  0.   ,  0.   ,  0.   ,  0.   ,  0.   ,\n",
              "        0.   ,  0.   ,  0.   ,  0.   ,  0.   ,  0.   ,  0.   ,  0.   ,\n",
              "        0.   ,  0.   ,  0.   ,  0.   ,  0.   ,  0.   ,  0.   ,  0.   ,\n",
              "        0.   ,  0.   ,  0.   ,  0.   ,  0.   ,  0.   ,  0.   ,  0.   ,\n",
              "        0.   ,  0.   ,  0.   ,  0.   ,  0.   ,  0.   ,  0.   ,  0.   ,\n",
              "        2.12 ,  0.   ,  0.   ,  0.   ,  0.   ,  0.   ,  0.   ,  0.   ,\n",
              "        0.   ,  0.   ,  0.   ,  0.   ,  0.   ,  0.   ,  0.   ,  0.   ,\n",
              "        0.   ,  0.   ,  0.   ,  0.   ,  0.   ,  0.   ,  0.   ,  0.   ,\n",
              "        0.   ,  0.   ,  0.   ,  0.   ,  0.   ,  0.   ,  0.   ,  8.461,\n",
              "        0.   ,  0.   ,  0.   ,  0.   ,  0.   ,  0.   ,  0.   ,  0.   ,\n",
              "        0.   ,  0.   ,  0.   ,  0.   ,  0.   ,  0.   ,  3.62 ,  0.   ,\n",
              "        0.   ,  0.   ,  0.   ,  1.578,  0.   ,  0.   ,  0.   ,  0.   ,\n",
              "        0.   ,  0.   ,  0.   ,  0.   ,  0.   ,  0.   ,  0.   ,  0.   ,\n",
              "        0.   ,  0.   ,  0.   ,  0.   ,  0.   ,  1.586,  0.   ,  0.   ,\n",
              "        0.   ,  0.   ,  0.   ,  0.153,  0.   ,  0.   ,  0.   ,  0.   ,\n",
              "        0.   ,  0.   ,  0.   ,  0.   ,  0.   ,  0.   ,  0.   ,  0.   ,\n",
              "        0.   ,  0.   ,  0.   ,  0.   ,  4.302,  0.   ,  0.   ,  1.847,\n",
              "        0.   ,  0.   ,  0.   ,  0.   ,  0.   ,  0.   ,  0.   ,  0.   ,\n",
              "        0.   ,  0.   ,  0.   ,  0.   ,  0.   ,  0.   ,  0.   ,  0.   ,\n",
              "        0.   ,  0.   ,  0.   ,  0.   ,  0.   ,  0.   ,  0.   ,  0.   ,\n",
              "        0.   ,  0.   ,  0.   ,  0.   ,  0.   ,  0.   ,  0.   ,  0.   ,\n",
              "        0.   ,  0.   ,  0.   ,  0.   ,  0.   ,  0.   ,  0.   ,  0.   ,\n",
              "        0.   ,  0.   ,  0.   ,  0.   ,  2.221,  0.   ,  0.   ,  0.   ,\n",
              "        0.   ,  0.   ,  0.   ,  0.   ,  0.   ,  0.   ,  0.   ,  0.   ,\n",
              "        0.   ,  0.   ,  0.   ,  0.   ,  0.   ,  0.   ,  0.   ,  0.   ,\n",
              "        0.   ,  0.   ,  0.   ,  0.   ,  0.   ,  0.   ,  0.   ,  0.   ,\n",
              "        0.   ,  0.   ,  0.107,  0.   ,  0.   ,  0.   ,  0.   ,  0.   ,\n",
              "        0.   ,  3.659,  0.   ,  0.   ,  0.   ,  0.   ,  0.   ,  0.   ,\n",
              "        0.   ,  0.   ,  0.   ,  0.   ,  0.   ,  0.   ,  0.   ,  0.   ,\n",
              "        0.   ,  0.   ,  0.   ,  0.   ,  0.   ,  0.   ,  0.   ,  0.   ,\n",
              "        0.   ,  0.   ,  2.764,  0.329,  0.   ,  0.   ,  0.   ,  0.   ,\n",
              "        0.   ,  0.   ,  0.   ,  0.   ,  0.   ,  0.   ,  0.   ,  0.   ,\n",
              "        0.   ,  0.   ,  0.   ,  0.   ,  0.   ,  0.   ,  0.   ,  0.   ,\n",
              "        0.   ,  0.   ,  0.   ,  0.   ,  0.   ,  0.   ,  0.   ,  0.   ,\n",
              "        0.   ,  0.   ,  0.   ,  0.   ,  0.   ])"
            ]
          },
          "execution_count": 557,
          "metadata": {},
          "output_type": "execute_result"
        }
      ],
      "source": [
        "LastPrice = np.array([1/p for p in StockData.tail(1).to_numpy()[0]])\n",
        "Initial_Portfolio = np.multiply(mvo_weights, LastPrice)\n",
        "Initial_Portfolio"
      ]
    },
    {
      "cell_type": "code",
      "execution_count": 558,
      "metadata": {
        "id": "ZAd1iXqZhQ6X"
      },
      "outputs": [
        {
          "ename": "ValueError",
          "evalue": "Dot product shape mismatch, (354, 1) vs (429,)",
          "output_type": "error",
          "traceback": [
            "\u001b[0;31m---------------------------------------------------------------------------\u001b[0m",
            "\u001b[0;31mValueError\u001b[0m                                Traceback (most recent call last)",
            "\u001b[0;32m/var/folders/9r/vylr0zxj0tv53ckbdbqmywzw0000gn/T/ipykernel_87555/3664978768.py\u001b[0m in \u001b[0;36m?\u001b[0;34m()\u001b[0m\n\u001b[0;32m----> 1\u001b[0;31m \u001b[0mPortfolio_Assets\u001b[0m \u001b[0;34m=\u001b[0m \u001b[0mTradeData\u001b[0m \u001b[0;34m@\u001b[0m \u001b[0mInitial_Portfolio\u001b[0m\u001b[0;34m\u001b[0m\u001b[0;34m\u001b[0m\u001b[0m\n\u001b[0m\u001b[1;32m      2\u001b[0m \u001b[0mMVO_result\u001b[0m \u001b[0;34m=\u001b[0m \u001b[0mpd\u001b[0m\u001b[0;34m.\u001b[0m\u001b[0mDataFrame\u001b[0m\u001b[0;34m(\u001b[0m\u001b[0mPortfolio_Assets\u001b[0m\u001b[0;34m,\u001b[0m \u001b[0mcolumns\u001b[0m\u001b[0;34m=\u001b[0m\u001b[0;34m[\u001b[0m\u001b[0;34m\"Mean Var\"\u001b[0m\u001b[0;34m]\u001b[0m\u001b[0;34m)\u001b[0m\u001b[0;34m\u001b[0m\u001b[0;34m\u001b[0m\u001b[0m\n\u001b[1;32m      3\u001b[0m \u001b[0mMVO_result\u001b[0m\u001b[0;34m\u001b[0m\u001b[0;34m\u001b[0m\u001b[0m\n",
            "\u001b[0;32m/opt/homebrew/lib/python3.10/site-packages/pandas/core/frame.py\u001b[0m in \u001b[0;36m?\u001b[0;34m(self, other)\u001b[0m\n\u001b[1;32m   1783\u001b[0m     \u001b[0;32mdef\u001b[0m \u001b[0m__matmul__\u001b[0m\u001b[0;34m(\u001b[0m\u001b[0mself\u001b[0m\u001b[0;34m,\u001b[0m \u001b[0mother\u001b[0m\u001b[0;34m:\u001b[0m \u001b[0mAnyArrayLike\u001b[0m \u001b[0;34m|\u001b[0m \u001b[0mDataFrame\u001b[0m\u001b[0;34m)\u001b[0m \u001b[0;34m->\u001b[0m \u001b[0mDataFrame\u001b[0m \u001b[0;34m|\u001b[0m \u001b[0mSeries\u001b[0m\u001b[0;34m:\u001b[0m\u001b[0;34m\u001b[0m\u001b[0;34m\u001b[0m\u001b[0m\n\u001b[1;32m   1784\u001b[0m         \"\"\"\n\u001b[1;32m   1785\u001b[0m         \u001b[0mMatrix\u001b[0m \u001b[0mmultiplication\u001b[0m \u001b[0musing\u001b[0m \u001b[0mbinary\u001b[0m\u001b[0;31m \u001b[0m\u001b[0;31m`\u001b[0m\u001b[0;34m@\u001b[0m\u001b[0;31m`\u001b[0m \u001b[0moperator\u001b[0m\u001b[0;34m.\u001b[0m\u001b[0;34m\u001b[0m\u001b[0;34m\u001b[0m\u001b[0m\n\u001b[1;32m   1786\u001b[0m         \"\"\"\n\u001b[0;32m-> 1787\u001b[0;31m         \u001b[0;32mreturn\u001b[0m \u001b[0mself\u001b[0m\u001b[0;34m.\u001b[0m\u001b[0mdot\u001b[0m\u001b[0;34m(\u001b[0m\u001b[0mother\u001b[0m\u001b[0;34m)\u001b[0m\u001b[0;34m\u001b[0m\u001b[0;34m\u001b[0m\u001b[0m\n\u001b[0m",
            "\u001b[0;32m/opt/homebrew/lib/python3.10/site-packages/pandas/core/frame.py\u001b[0m in \u001b[0;36m?\u001b[0;34m(self, other)\u001b[0m\n\u001b[1;32m   1744\u001b[0m             \u001b[0mleft\u001b[0m \u001b[0;34m=\u001b[0m \u001b[0mself\u001b[0m\u001b[0;34m\u001b[0m\u001b[0;34m\u001b[0m\u001b[0m\n\u001b[1;32m   1745\u001b[0m             \u001b[0mlvals\u001b[0m \u001b[0;34m=\u001b[0m \u001b[0mself\u001b[0m\u001b[0;34m.\u001b[0m\u001b[0mvalues\u001b[0m\u001b[0;34m\u001b[0m\u001b[0;34m\u001b[0m\u001b[0m\n\u001b[1;32m   1746\u001b[0m             \u001b[0mrvals\u001b[0m \u001b[0;34m=\u001b[0m \u001b[0mnp\u001b[0m\u001b[0;34m.\u001b[0m\u001b[0masarray\u001b[0m\u001b[0;34m(\u001b[0m\u001b[0mother\u001b[0m\u001b[0;34m)\u001b[0m\u001b[0;34m\u001b[0m\u001b[0;34m\u001b[0m\u001b[0m\n\u001b[1;32m   1747\u001b[0m             \u001b[0;32mif\u001b[0m \u001b[0mlvals\u001b[0m\u001b[0;34m.\u001b[0m\u001b[0mshape\u001b[0m\u001b[0;34m[\u001b[0m\u001b[0;36m1\u001b[0m\u001b[0;34m]\u001b[0m \u001b[0;34m!=\u001b[0m \u001b[0mrvals\u001b[0m\u001b[0;34m.\u001b[0m\u001b[0mshape\u001b[0m\u001b[0;34m[\u001b[0m\u001b[0;36m0\u001b[0m\u001b[0;34m]\u001b[0m\u001b[0;34m:\u001b[0m\u001b[0;34m\u001b[0m\u001b[0;34m\u001b[0m\u001b[0m\n\u001b[0;32m-> 1748\u001b[0;31m                 raise ValueError(\n\u001b[0m\u001b[1;32m   1749\u001b[0m                     \u001b[0;34mf\"Dot product shape mismatch, {lvals.shape} vs {rvals.shape}\"\u001b[0m\u001b[0;34m\u001b[0m\u001b[0;34m\u001b[0m\u001b[0m\n\u001b[1;32m   1750\u001b[0m                 )\n\u001b[1;32m   1751\u001b[0m \u001b[0;34m\u001b[0m\u001b[0m\n",
            "\u001b[0;31mValueError\u001b[0m: Dot product shape mismatch, (354, 1) vs (429,)"
          ]
        }
      ],
      "source": [
        "Portfolio_Assets = TradeData @ Initial_Portfolio\n",
        "MVO_result = pd.DataFrame(Portfolio_Assets, columns=[\"Mean Var\"])\n",
        "MVO_result"
      ]
    },
    {
      "cell_type": "markdown",
      "metadata": {
        "id": "I5sgGe7g1HsL"
      },
      "source": [
        "# Part 4: DJIA index"
      ]
    },
    {
      "cell_type": "markdown",
      "metadata": {
        "id": "sVe_ufxTY2CW"
      },
      "source": [
        "Add DJIA index as a baseline to compare with."
      ]
    },
    {
      "cell_type": "code",
      "execution_count": 559,
      "metadata": {
        "id": "sACPzsI-6k8q"
      },
      "outputs": [],
      "source": [
        "TRAIN_START_DATE = \"2009-01-01\"\n",
        "TRAIN_END_DATE = \"2022-07-01\"\n",
        "TRADE_START_DATE = \"2022-07-01\"\n",
        "TRADE_END_DATE = \"2023-11-29\""
      ]
    },
    {
      "cell_type": "code",
      "execution_count": 560,
      "metadata": {
        "colab": {
          "base_uri": "https://localhost:8080/"
        },
        "id": "TuszW-OB1K0m",
        "outputId": "b89a8350-de58-4fea-8e4b-856efa872712"
      },
      "outputs": [
        {
          "name": "stdout",
          "output_type": "stream",
          "text": [
            "[*********************100%%**********************]  1 of 1 completed\n",
            "Shape of DataFrame:  (355, 8)\n"
          ]
        },
        {
          "name": "stderr",
          "output_type": "stream",
          "text": [
            "/opt/homebrew/lib/python3.10/site-packages/yfinance/utils.py:771: FutureWarning: The 'unit' keyword in TimedeltaIndex construction is deprecated and will be removed in a future version. Use pd.to_timedelta instead.\n",
            "  df.index += _pd.TimedeltaIndex(dst_error_hours, 'h')\n"
          ]
        }
      ],
      "source": [
        "df_dji = YahooDownloader(\n",
        "    start_date=TRADE_START_DATE, end_date=TRADE_END_DATE, ticker_list=[\"AAPL\"]\n",
        ").fetch_data()"
      ]
    },
    {
      "cell_type": "code",
      "execution_count": 561,
      "metadata": {
        "id": "Q3RXz72U1VbV"
      },
      "outputs": [],
      "source": [
        "df_dji = df_dji[[\"date\", \"close\"]]\n",
        "fst_day = df_dji[\"close\"][0]\n",
        "dji = pd.merge(\n",
        "    df_dji[\"date\"],\n",
        "    df_dji[\"close\"].div(fst_day).mul(10000),\n",
        "    how=\"outer\",\n",
        "    left_index=True,\n",
        "    right_index=True,\n",
        ").set_index(\"date\")"
      ]
    },
    {
      "cell_type": "markdown",
      "metadata": {
        "id": "W6vvNSC6h1jZ"
      },
      "source": [
        "<a id='4'></a>\n",
        "# Part 5: Backtesting Results\n",
        "Backtesting plays a key role in evaluating the performance of a trading strategy. Automated backtesting tool is preferred because it reduces the human error. We usually use the Quantopian pyfolio package to backtest our trading strategies. It is easy to use and consists of various individual plots that provide a comprehensive image of the performance of a trading strategy."
      ]
    },
    {
      "cell_type": "code",
      "execution_count": 562,
      "metadata": {
        "id": "KeDeGAc9VrEg"
      },
      "outputs": [
        {
          "name": "stdout",
          "output_type": "stream",
          "text": [
            "            account_value\n",
            "date                     \n",
            "2022-07-01   10000.000000\n",
            "2022-07-05   10177.590403\n",
            "2022-07-06   10274.548044\n",
            "2022-07-07   10519.077341\n",
            "2022-07-08   10568.266428\n",
            "...                   ...\n",
            "2023-11-20   13852.457834\n",
            "2023-11-21   13794.212717\n",
            "2023-11-22   13842.391062\n",
            "2023-11-24   13746.034372\n",
            "2023-11-27   13733.090281\n",
            "\n",
            "[354 rows x 1 columns]\n"
          ]
        }
      ],
      "source": [
        "df_result_a2c = (\n",
        "    df_account_value_a2c.set_index(df_account_value_a2c.columns[0])\n",
        "    if if_using_a2c\n",
        "    else None\n",
        ")\n",
        "df_result_ddpg = (\n",
        "    df_account_value_ddpg.set_index(df_account_value_ddpg.columns[0])\n",
        "    if if_using_ddpg\n",
        "    else None\n",
        ")\n",
        "df_result_ppo = (\n",
        "    df_account_value_ppo.set_index(df_account_value_ppo.columns[0])\n",
        "    if if_using_ppo\n",
        "    else None\n",
        ")\n",
        "df_result_td3 = (\n",
        "    df_account_value_td3.set_index(df_account_value_td3.columns[0])\n",
        "    if if_using_td3\n",
        "    else None\n",
        ")\n",
        "print(df_result_td3)\n",
        "df_result_sac = (\n",
        "    df_account_value_sac.set_index(df_account_value_sac.columns[0])\n",
        "    if if_using_sac\n",
        "    else None\n",
        ")\n",
        "\n",
        "result = pd.DataFrame(\n",
        "    {\n",
        "        \"a2c\": df_result_a2c[\"account_value\"] if if_using_a2c else None,\n",
        "        \"ddpg\": df_result_ddpg[\"account_value\"] if if_using_ddpg else None,\n",
        "        \"ppo\": df_result_ppo[\"account_value\"] if if_using_ppo else None,\n",
        "        \"td3\": df_result_td3[\"account_value\"] if if_using_td3 else None,\n",
        "        \"sac\": df_result_sac[\"account_value\"] if if_using_sac else None,\n",
        "        # \"mvo\": MVO_result[\"Mean Var\"],\n",
        "        \"AAPL\": dji[\"close\"],\n",
        "    }\n",
        ")"
      ]
    },
    {
      "cell_type": "code",
      "execution_count": 563,
      "metadata": {
        "colab": {
          "base_uri": "https://localhost:8080/",
          "height": 455
        },
        "id": "l4FZxyDt3XaE",
        "outputId": "2e739637-bf88-4698-9cf1-9a526452e465"
      },
      "outputs": [
        {
          "data": {
            "text/html": [
              "<div>\n",
              "<style scoped>\n",
              "    .dataframe tbody tr th:only-of-type {\n",
              "        vertical-align: middle;\n",
              "    }\n",
              "\n",
              "    .dataframe tbody tr th {\n",
              "        vertical-align: top;\n",
              "    }\n",
              "\n",
              "    .dataframe thead th {\n",
              "        text-align: right;\n",
              "    }\n",
              "</style>\n",
              "<table border=\"1\" class=\"dataframe\">\n",
              "  <thead>\n",
              "    <tr style=\"text-align: right;\">\n",
              "      <th></th>\n",
              "      <th>a2c</th>\n",
              "      <th>ddpg</th>\n",
              "      <th>ppo</th>\n",
              "      <th>td3</th>\n",
              "      <th>sac</th>\n",
              "      <th>AAPL</th>\n",
              "    </tr>\n",
              "    <tr>\n",
              "      <th>date</th>\n",
              "      <th></th>\n",
              "      <th></th>\n",
              "      <th></th>\n",
              "      <th></th>\n",
              "      <th></th>\n",
              "      <th></th>\n",
              "    </tr>\n",
              "  </thead>\n",
              "  <tbody>\n",
              "    <tr>\n",
              "      <th>2022-07-01</th>\n",
              "      <td>10000.000000</td>\n",
              "      <td>10000.000000</td>\n",
              "      <td>10000.000000</td>\n",
              "      <td>10000.000000</td>\n",
              "      <td>10000.000000</td>\n",
              "      <td>10000.000000</td>\n",
              "    </tr>\n",
              "    <tr>\n",
              "      <th>2022-07-05</th>\n",
              "      <td>10177.590403</td>\n",
              "      <td>10177.590403</td>\n",
              "      <td>10177.590403</td>\n",
              "      <td>10177.590403</td>\n",
              "      <td>10177.590403</td>\n",
              "      <td>10189.302130</td>\n",
              "    </tr>\n",
              "    <tr>\n",
              "      <th>2022-07-06</th>\n",
              "      <td>10274.548044</td>\n",
              "      <td>10167.498438</td>\n",
              "      <td>10262.653644</td>\n",
              "      <td>10274.548044</td>\n",
              "      <td>10274.548044</td>\n",
              "      <td>10287.192698</td>\n",
              "    </tr>\n",
              "    <tr>\n",
              "      <th>2022-07-07</th>\n",
              "      <td>10519.077341</td>\n",
              "      <td>10398.584084</td>\n",
              "      <td>10506.050838</td>\n",
              "      <td>10519.077341</td>\n",
              "      <td>10519.077341</td>\n",
              "      <td>10534.081560</td>\n",
              "    </tr>\n",
              "    <tr>\n",
              "      <th>2022-07-08</th>\n",
              "      <td>10568.266428</td>\n",
              "      <td>10447.089989</td>\n",
              "      <td>10533.709563</td>\n",
              "      <td>10568.266428</td>\n",
              "      <td>10568.266428</td>\n",
              "      <td>10583.743961</td>\n",
              "    </tr>\n",
              "    <tr>\n",
              "      <th>...</th>\n",
              "      <td>...</td>\n",
              "      <td>...</td>\n",
              "      <td>...</td>\n",
              "      <td>...</td>\n",
              "      <td>...</td>\n",
              "      <td>...</td>\n",
              "    </tr>\n",
              "    <tr>\n",
              "      <th>2023-11-21</th>\n",
              "      <td>13794.212717</td>\n",
              "      <td>13311.866363</td>\n",
              "      <td>12726.276576</td>\n",
              "      <td>13794.212717</td>\n",
              "      <td>13794.212717</td>\n",
              "      <td>13840.805229</td>\n",
              "    </tr>\n",
              "    <tr>\n",
              "      <th>2023-11-22</th>\n",
              "      <td>13842.391062</td>\n",
              "      <td>13358.037277</td>\n",
              "      <td>12756.687407</td>\n",
              "      <td>13842.391062</td>\n",
              "      <td>13842.391062</td>\n",
              "      <td>13889.448248</td>\n",
              "    </tr>\n",
              "    <tr>\n",
              "      <th>2023-11-24</th>\n",
              "      <td>13746.034372</td>\n",
              "      <td>13265.695449</td>\n",
              "      <td>12665.303382</td>\n",
              "      <td>13746.034372</td>\n",
              "      <td>13746.034372</td>\n",
              "      <td>13792.162210</td>\n",
              "    </tr>\n",
              "    <tr>\n",
              "      <th>2023-11-27</th>\n",
              "      <td>13733.090281</td>\n",
              "      <td>13253.290694</td>\n",
              "      <td>12653.199192</td>\n",
              "      <td>13733.090281</td>\n",
              "      <td>13733.090281</td>\n",
              "      <td>13779.093274</td>\n",
              "    </tr>\n",
              "    <tr>\n",
              "      <th>2023-11-28</th>\n",
              "      <td>NaN</td>\n",
              "      <td>NaN</td>\n",
              "      <td>NaN</td>\n",
              "      <td>NaN</td>\n",
              "      <td>NaN</td>\n",
              "      <td>13823.380351</td>\n",
              "    </tr>\n",
              "  </tbody>\n",
              "</table>\n",
              "<p>355 rows × 6 columns</p>\n",
              "</div>"
            ],
            "text/plain": [
              "                     a2c          ddpg           ppo           td3  \\\n",
              "date                                                                 \n",
              "2022-07-01  10000.000000  10000.000000  10000.000000  10000.000000   \n",
              "2022-07-05  10177.590403  10177.590403  10177.590403  10177.590403   \n",
              "2022-07-06  10274.548044  10167.498438  10262.653644  10274.548044   \n",
              "2022-07-07  10519.077341  10398.584084  10506.050838  10519.077341   \n",
              "2022-07-08  10568.266428  10447.089989  10533.709563  10568.266428   \n",
              "...                  ...           ...           ...           ...   \n",
              "2023-11-21  13794.212717  13311.866363  12726.276576  13794.212717   \n",
              "2023-11-22  13842.391062  13358.037277  12756.687407  13842.391062   \n",
              "2023-11-24  13746.034372  13265.695449  12665.303382  13746.034372   \n",
              "2023-11-27  13733.090281  13253.290694  12653.199192  13733.090281   \n",
              "2023-11-28           NaN           NaN           NaN           NaN   \n",
              "\n",
              "                     sac          AAPL  \n",
              "date                                    \n",
              "2022-07-01  10000.000000  10000.000000  \n",
              "2022-07-05  10177.590403  10189.302130  \n",
              "2022-07-06  10274.548044  10287.192698  \n",
              "2022-07-07  10519.077341  10534.081560  \n",
              "2022-07-08  10568.266428  10583.743961  \n",
              "...                  ...           ...  \n",
              "2023-11-21  13794.212717  13840.805229  \n",
              "2023-11-22  13842.391062  13889.448248  \n",
              "2023-11-24  13746.034372  13792.162210  \n",
              "2023-11-27  13733.090281  13779.093274  \n",
              "2023-11-28           NaN  13823.380351  \n",
              "\n",
              "[355 rows x 6 columns]"
            ]
          },
          "execution_count": 563,
          "metadata": {},
          "output_type": "execute_result"
        }
      ],
      "source": [
        "result"
      ]
    },
    {
      "cell_type": "markdown",
      "metadata": {
        "id": "QQuc5hI9Yklt"
      },
      "source": [
        "Now, everything is ready, we can plot the backtest result."
      ]
    },
    {
      "cell_type": "code",
      "execution_count": 564,
      "metadata": {
        "colab": {
          "base_uri": "https://localhost:8080/",
          "height": 381
        },
        "id": "6xRfrqK4RVfq",
        "outputId": "469c9729-fd57-417c-9b13-2243426923e2"
      },
      "outputs": [
        {
          "data": {
            "text/plain": [
              "<Figure size 1500x500 with 0 Axes>"
            ]
          },
          "metadata": {},
          "output_type": "display_data"
        },
        {
          "data": {
            "image/png": "[encoded data removed]",
            "text/plain": [
              "<Figure size 1500x500 with 1 Axes>"
            ]
          },
          "metadata": {},
          "output_type": "display_data"
        }
      ],
      "source": [
        "plt.rcParams[\"figure.figsize\"] = (15,5)\n",
        "plt.figure()\n",
        "result.plot()\n",
        "plt.savefig(\"result.png\")"
      ]
    },
    {
      "cell_type": "code",
      "execution_count": null,
      "metadata": {},
      "outputs": [],
      "source": []
    },
    {
      "cell_type": "code",
      "execution_count": null,
      "metadata": {},
      "outputs": [],
      "source": []
    },
    {
      "cell_type": "code",
      "execution_count": null,
      "metadata": {},
      "outputs": [],
      "source": []
    },
    {
      "cell_type": "code",
      "execution_count": null,
      "metadata": {},
      "outputs": [],
      "source": []
    },
    {
      "cell_type": "code",
      "execution_count": null,
      "metadata": {},
      "outputs": [],
      "source": []
    }
  ],
  "metadata": {
    "colab": {
      "collapsed_sections": [
        "GfZ5vY5wRjkJ"
      ],
      "provenance": []
    },
    "kernelspec": {
      "display_name": "Python 3",
      "name": "python3"
    },
    "language_info": {
      "codemirror_mode": {
        "name": "ipython",
        "version": 3
      },
      "file_extension": ".py",
      "mimetype": "text/x-python",
      "name": "python",
      "nbconvert_exporter": "python",
      "pygments_lexer": "ipython3",
      "version": "3.10.14"
    }
  },
  "nbformat": 4,
  "nbformat_minor": 0
}
