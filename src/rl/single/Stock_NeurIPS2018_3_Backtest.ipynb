{
  "cells": [
    {
      "cell_type": "markdown",
      "metadata": {
        "id": "v7Cycmf3Zbok"
      },
      "source": [
        "# Stock NeurIPS2018 Part 3. Backtest\n",
        "This series is a reproduction of paper *the process in the paper Practical Deep Reinforcement Learning Approach for Stock Trading*. \n",
        "\n",
        "This is the third and last part of the NeurIPS2018 series, introducing how to use use the agents we trained to do backtest, and compare with baselines such as Mean Variance Optimization and DJIA index.\n",
        "\n",
        "Other demos can be found at the repo of [FinRL-Tutorials]((https://github.com/AI4Finance-Foundation/FinRL-Tutorials))."
      ]
    },
    {
      "cell_type": "markdown",
      "metadata": {
        "id": "1oWbj4HgqHBg"
      },
      "source": [
        "# Part 1. Install Packages"
      ]
    },
    {
      "cell_type": "code",
      "execution_count": 1,
      "metadata": {
        "id": "QJgoEYx3p_NG"
      },
      "outputs": [],
      "source": [
        "## install finrl library\n",
        "!pip install git+https://github.com/AI4Finance-Foundation/FinRL.git"
      ]
    },
    {
      "cell_type": "code",
      "execution_count": 1,
      "metadata": {
        "id": "mqfBOKz-qJYF"
      },
      "outputs": [],
      "source": [
        "import matplotlib.pyplot as plt\n",
        "import numpy as np\n",
        "import pandas as pd\n",
        "from stable_baselines3 import A2C, DDPG, PPO, SAC, TD3\n",
        "\n",
        "# from customDRL import DRLAgent\n",
        "from custommodels import DRLAgent\n",
        "# from finrl.agents.stablebaselines3.models import DRLAgent\n",
        "\n",
        "\n",
        "from finrl.config import INDICATORS, TRAINED_MODEL_DIR\n",
        "# from finrl.meta.env_stock_trading.env_stocktrading import StockTradingEnv\n",
        "from customenv import StockTradingEnv\n",
        "from finrl.meta.preprocessor.yahoodownloader import YahooDownloader\n",
        "\n",
        "%matplotlib inline"
      ]
    },
    {
      "cell_type": "markdown",
      "metadata": {
        "id": "mUF2P4hmqVjh"
      },
      "source": [
        "# Part 2. Backtesting"
      ]
    },
    {
      "cell_type": "markdown",
      "metadata": {
        "id": "BdU6qLsVWDxI"
      },
      "source": [
        "To backtest the agents, upload trade_data.csv in the same directory of this notebook. For Colab users, just upload trade_data.csv to the default directory."
      ]
    },
    {
      "cell_type": "code",
      "execution_count": 2,
      "metadata": {
        "id": "mSjBHn_MZr4U"
      },
      "outputs": [],
      "source": [
        "train = pd.read_csv('train_data.csv')\n",
        "trade = pd.read_csv('trade_data.csv')\n",
        "\n",
        "# If you are not using the data generated from part 1 of this tutorial, make sure \n",
        "# it has the columns and index in the form that could be make into the environment. \n",
        "# Then you can comment and skip the following lines.\n",
        "train = train.set_index(train.columns[0])\n",
        "train.index.names = ['']\n",
        "trade = trade.set_index(trade.columns[0])\n",
        "trade.index.names = ['']"
      ]
    },
    {
      "cell_type": "markdown",
      "metadata": {
        "id": "qu4Ey54b36oL"
      },
      "source": [
        "Then, upload the trained agent to the same directory, and set the corresponding variable to True."
      ]
    },
    {
      "cell_type": "code",
      "execution_count": 25,
      "metadata": {
        "id": "Z_mVZM4IIa55"
      },
      "outputs": [],
      "source": [
        "if_using_a2c = True\n",
        "if_using_ddpg = True\n",
        "if_using_ddpg_good = False\n",
        "if_using_ppo = True\n",
        "if_using_td3 = True\n",
        "if_using_sac = False"
      ]
    },
    {
      "cell_type": "markdown",
      "metadata": {
        "id": "73D4oRqAIkYj"
      },
      "source": [
        "Load the agents"
      ]
    },
    {
      "cell_type": "code",
      "execution_count": 28,
      "metadata": {
        "id": "6CagrX0I36ZN"
      },
      "outputs": [
        {
          "name": "stderr",
          "output_type": "stream",
          "text": [
            "/opt/homebrew/lib/python3.10/site-packages/stable_baselines3/common/buffers.py:241: UserWarning: This system does not have apparently enough memory to store the complete replay buffer 36.05GB > 4.80GB\n",
            "  warnings.warn(\n"
          ]
        }
      ],
      "source": [
        "trained_a2c = A2C.load(TRAINED_MODEL_DIR + \"/agent_a2c\") if if_using_a2c else None\n",
        "trained_ddpg = DDPG.load(TRAINED_MODEL_DIR + \"/agent_ddpg\") if if_using_ddpg else None\n",
        "trained_ddpg_good = DDPG.load(TRAINED_MODEL_DIR + \"/agent_ddpg_good\") if if_using_ddpg_good else None\n",
        "trained_ppo = PPO.load(TRAINED_MODEL_DIR + \"/agent_ppo_goat\") if if_using_ppo else None\n",
        "trained_td3 = TD3.load(TRAINED_MODEL_DIR + \"/agent_td3\") if if_using_td3 else None\n",
        "trained_sac = SAC.load(TRAINED_MODEL_DIR + \"/agent_sac\") if if_using_sac else None"
      ]
    },
    {
      "cell_type": "markdown",
      "metadata": {
        "id": "U5mmgQF_h1jQ"
      },
      "source": [
        "### Trading (Out-of-sample Performance)\n",
        "\n",
        "We update periodically in order to take full advantage of the data, e.g., retrain quarterly, monthly or weekly. We also tune the parameters along the way, in this notebook we use the in-sample data from 2009-01 to 2020-07 to tune the parameters once, so there is some alpha decay here as the length of trade date extends. \n",
        "\n",
        "Numerous hyperparameters – e.g. the learning rate, the total number of samples to train on – influence the learning process and are usually determined by testing some variations."
      ]
    },
    {
      "cell_type": "code",
      "execution_count": 5,
      "metadata": {
        "colab": {
          "base_uri": "https://localhost:8080/"
        },
        "id": "4H_w3SaBAkKU",
        "outputId": "fdaed3a7-d3a9-4cde-d194-ee4576057175"
      },
      "outputs": [
        {
          "name": "stdout",
          "output_type": "stream",
          "text": [
            "Stock Dimension: 429, State Space: 4291\n"
          ]
        }
      ],
      "source": [
        "stock_dimension = len(trade.tic.unique())\n",
        "state_space = 1 + 2 * stock_dimension + len(INDICATORS) * stock_dimension\n",
        "print(f\"Stock Dimension: {stock_dimension}, State Space: {state_space}\")"
      ]
    },
    {
      "cell_type": "code",
      "execution_count": 6,
      "metadata": {
        "id": "nKNmQMqGAknW"
      },
      "outputs": [],
      "source": [
        "buy_cost_list = sell_cost_list = [0.001] * stock_dimension\n",
        "num_stock_shares = [0] * stock_dimension\n",
        "\n",
        "env_kwargs = {\n",
        "    \"hmax\": 100,\n",
        "    \"initial_amount\": 10000,\n",
        "    \"num_stock_shares\": num_stock_shares,\n",
        "    \"buy_cost_pct\": buy_cost_list,\n",
        "    \"sell_cost_pct\": sell_cost_list,\n",
        "    \"state_space\": state_space,\n",
        "    \"stock_dim\": stock_dimension,\n",
        "    \"tech_indicator_list\": INDICATORS,\n",
        "    \"action_space\": stock_dimension,\n",
        "    \"reward_scaling\": 1e-3,\n",
        "}"
      ]
    },
    {
      "cell_type": "code",
      "execution_count": 7,
      "metadata": {
        "id": "cIqoV0GSI52v"
      },
      "outputs": [],
      "source": [
        "e_trade_gym = StockTradingEnv(df = trade, turbulence_threshold = 70,risk_indicator_col='vix', **env_kwargs)\n",
        "# env_trade, obs_trade = e_trade_gym.get_sb_env()"
      ]
    },
    {
      "cell_type": "code",
      "execution_count": 9,
      "metadata": {
        "colab": {
          "base_uri": "https://localhost:8080/"
        },
        "id": "lbFchno5j3xs",
        "outputId": "44fffa47-3b47-4e7b-96c2-0a485e9efead"
      },
      "outputs": [
        {
          "name": "stdout",
          "output_type": "stream",
          "text": [
            "hit end lsdjflskdjflks!\n",
            "            IVZ  NKE  NUE  RHI\n",
            "date                          \n",
            "2022-07-01    2   43   35   29\n"
          ]
        }
      ],
      "source": [
        "df_account_value_a2c, df_actions_a2c = DRLAgent.DRL_prediction(\n",
        "    model=trained_a2c, \n",
        "    environment = e_trade_gym) if if_using_a2c else (None, None)\n",
        "\n",
        "df_actions_filled = df_actions_a2c.fillna(0)\n",
        "\n",
        "# Filter to keep only rows with at least one non-zero value\n",
        "non_zero_rows = df_actions_filled.loc[(df_actions_filled != 0).any(axis=1)]\n",
        "\n",
        "# For each row in the filtered DataFrame, keep only columns with non-zero values\n",
        "non_zero_actions_only = non_zero_rows.apply(lambda row: row[row != 0], axis=1)\n",
        "\n",
        "# # Print the resulting DataFrame\n",
        "print(non_zero_actions_only)"
      ]
    },
    {
      "cell_type": "code",
      "execution_count": 10,
      "metadata": {
        "id": "JbYljWGjj3pH"
      },
      "outputs": [
        {
          "name": "stdout",
          "output_type": "stream",
          "text": [
            "hit end lsdjflskdjflks!\n",
            "            F   J\n",
            "date             \n",
            "2022-07-01  2  80\n",
            "           date  account_value\n",
            "0    2022-07-01   10000.000000\n",
            "1    2022-07-05    9809.203394\n",
            "2    2022-07-06    9902.812332\n",
            "3    2022-07-07   10027.649586\n",
            "4    2022-07-08    9966.081667\n",
            "..          ...            ...\n",
            "349  2023-11-20   10958.389992\n",
            "350  2023-11-21   10008.008152\n",
            "351  2023-11-22    9918.723698\n",
            "352  2023-11-24    9871.891237\n",
            "353  2023-11-27    9795.128883\n",
            "\n",
            "[354 rows x 2 columns]\n"
          ]
        }
      ],
      "source": [
        "df_account_value_ddpg, df_actions_ddpg = DRLAgent.DRL_prediction(\n",
        "    model=trained_ddpg, \n",
        "    environment = e_trade_gym) if if_using_ddpg else (None, None)\n",
        "\n",
        "df_actions_filled = df_actions_ddpg.fillna(0)\n",
        "# Filter to keep only rows with at least one non-zero value\n",
        "non_zero_rows = df_actions_filled.loc[(df_actions_filled != 0).any(axis=1)]\n",
        "\n",
        "# For each row in the filtered DataFrame, keep only columns with non-zero values\n",
        "non_zero_actions_only = non_zero_rows.apply(lambda row: row[row != 0], axis=1)\n",
        "\n",
        "# Print the resulting DataFrame\n",
        "print(non_zero_actions_only)\n",
        "\n",
        "\n",
        "# print actions between 11-01-2022 and 02-06-2023\n",
        "# # index by date\n",
        "# for i in range(len(df_actions_ddpg)):\n",
        "#     print(df_actions_ddpg.iloc[i])\n",
        "print(df_account_value_ddpg)\n",
        "# plot actions between 11-01-2022 and 02-06-2023\n",
        "# plt.figure(figsize=(15, 5))\n",
        "# plt.subplot(1, 2, 1)\n",
        "# plt.title('DDPG')\n",
        "# plt.plot(df_account_value_ddpg[\"account_value\"])\n",
        "# plt.subplot(1, 2, 2)\n",
        "# plt.title('DDPG Actions')\n",
        "# plt.plot(df_actions_ddpg.index, df_actions_ddpg['actions'], marker='o', markersize=2, linestyle='')\n",
        "# plt.show()"
      ]
    },
    {
      "cell_type": "code",
      "execution_count": null,
      "metadata": {},
      "outputs": [
        {
          "name": "stderr",
          "output_type": "stream",
          "text": [
            "/opt/homebrew/lib/python3.10/site-packages/stable_baselines3/common/evaluation.py:67: UserWarning: Evaluation environment is not wrapped with a ``Monitor`` wrapper. This may result in reporting modified episode lengths and rewards, if other wrappers happen to modify these. Consider wrapping environment first with ``Monitor`` wrapper.\n",
            "  warnings.warn(\n"
          ]
        },
        {
          "name": "stdout",
          "output_type": "stream",
          "text": [
            "day: 353, episode: 20\n",
            "begin_total_asset: 10000.00\n",
            "end_total_asset: 12595.44\n",
            "total_reward: 2595.44\n",
            "total_cost: 9.99\n",
            "total_trades: 72365\n",
            "Sharpe: 0.737\n",
            "=================================\n",
            "day: 353, episode: 30\n",
            "begin_total_asset: 10000.00\n",
            "end_total_asset: 12595.44\n",
            "total_reward: 2595.44\n",
            "total_cost: 9.99\n",
            "total_trades: 72365\n",
            "Sharpe: 0.737\n",
            "=================================\n"
          ]
        },
        {
          "ename": "KeyboardInterrupt",
          "evalue": "",
          "output_type": "error",
          "traceback": [
            "\u001b[0;31m---------------------------------------------------------------------------\u001b[0m",
            "\u001b[0;31mKeyboardInterrupt\u001b[0m                         Traceback (most recent call last)",
            "Cell \u001b[0;32mIn[77], line 3\u001b[0m\n\u001b[1;32m      1\u001b[0m \u001b[38;5;28;01mfrom\u001b[39;00m \u001b[38;5;21;01mstable_baselines3\u001b[39;00m\u001b[38;5;21;01m.\u001b[39;00m\u001b[38;5;21;01mcommon\u001b[39;00m\u001b[38;5;21;01m.\u001b[39;00m\u001b[38;5;21;01mevaluation\u001b[39;00m \u001b[38;5;28;01mimport\u001b[39;00m evaluate_policy\n\u001b[0;32m----> 3\u001b[0m mean_reward, std_reward \u001b[38;5;241m=\u001b[39m \u001b[43mevaluate_policy\u001b[49m\u001b[43m(\u001b[49m\u001b[43mtrained_a2c\u001b[49m\u001b[43m,\u001b[49m\u001b[43m \u001b[49m\u001b[43me_trade_gym\u001b[49m\u001b[43m,\u001b[49m\u001b[43m \u001b[49m\u001b[43mn_eval_episodes\u001b[49m\u001b[38;5;241;43m=\u001b[39;49m\u001b[38;5;241;43m30\u001b[39;49m\u001b[43m)\u001b[49m\n\u001b[1;32m      4\u001b[0m \u001b[38;5;28mprint\u001b[39m(\u001b[38;5;124mf\u001b[39m\u001b[38;5;124m\"\u001b[39m\u001b[38;5;124mMean reward: \u001b[39m\u001b[38;5;132;01m{\u001b[39;00mmean_reward\u001b[38;5;132;01m}\u001b[39;00m\u001b[38;5;124m, Std reward: \u001b[39m\u001b[38;5;132;01m{\u001b[39;00mstd_reward\u001b[38;5;132;01m}\u001b[39;00m\u001b[38;5;124m\"\u001b[39m)\n",
            "File \u001b[0;32m/opt/homebrew/lib/python3.10/site-packages/stable_baselines3/common/evaluation.py:94\u001b[0m, in \u001b[0;36mevaluate_policy\u001b[0;34m(model, env, n_eval_episodes, deterministic, render, callback, reward_threshold, return_episode_rewards, warn)\u001b[0m\n\u001b[1;32m     87\u001b[0m \u001b[38;5;28;01mwhile\u001b[39;00m (episode_counts \u001b[38;5;241m<\u001b[39m episode_count_targets)\u001b[38;5;241m.\u001b[39many():\n\u001b[1;32m     88\u001b[0m     actions, states \u001b[38;5;241m=\u001b[39m model\u001b[38;5;241m.\u001b[39mpredict(\n\u001b[1;32m     89\u001b[0m         observations,  \u001b[38;5;66;03m# type: ignore[arg-type]\u001b[39;00m\n\u001b[1;32m     90\u001b[0m         state\u001b[38;5;241m=\u001b[39mstates,\n\u001b[1;32m     91\u001b[0m         episode_start\u001b[38;5;241m=\u001b[39mepisode_starts,\n\u001b[1;32m     92\u001b[0m         deterministic\u001b[38;5;241m=\u001b[39mdeterministic,\n\u001b[1;32m     93\u001b[0m     )\n\u001b[0;32m---> 94\u001b[0m     new_observations, rewards, dones, infos \u001b[38;5;241m=\u001b[39m \u001b[43menv\u001b[49m\u001b[38;5;241;43m.\u001b[39;49m\u001b[43mstep\u001b[49m\u001b[43m(\u001b[49m\u001b[43mactions\u001b[49m\u001b[43m)\u001b[49m\n\u001b[1;32m     95\u001b[0m     current_rewards \u001b[38;5;241m+\u001b[39m\u001b[38;5;241m=\u001b[39m rewards\n\u001b[1;32m     96\u001b[0m     current_lengths \u001b[38;5;241m+\u001b[39m\u001b[38;5;241m=\u001b[39m \u001b[38;5;241m1\u001b[39m\n",
            "File \u001b[0;32m/opt/homebrew/lib/python3.10/site-packages/stable_baselines3/common/vec_env/base_vec_env.py:206\u001b[0m, in \u001b[0;36mVecEnv.step\u001b[0;34m(self, actions)\u001b[0m\n\u001b[1;32m    199\u001b[0m \u001b[38;5;250m\u001b[39m\u001b[38;5;124;03m\"\"\"\u001b[39;00m\n\u001b[1;32m    200\u001b[0m \u001b[38;5;124;03mStep the environments with the given action\u001b[39;00m\n\u001b[1;32m    201\u001b[0m \n\u001b[1;32m    202\u001b[0m \u001b[38;5;124;03m:param actions: the action\u001b[39;00m\n\u001b[1;32m    203\u001b[0m \u001b[38;5;124;03m:return: observation, reward, done, information\u001b[39;00m\n\u001b[1;32m    204\u001b[0m \u001b[38;5;124;03m\"\"\"\u001b[39;00m\n\u001b[1;32m    205\u001b[0m \u001b[38;5;28mself\u001b[39m\u001b[38;5;241m.\u001b[39mstep_async(actions)\n\u001b[0;32m--> 206\u001b[0m \u001b[38;5;28;01mreturn\u001b[39;00m \u001b[38;5;28;43mself\u001b[39;49m\u001b[38;5;241;43m.\u001b[39;49m\u001b[43mstep_wait\u001b[49m\u001b[43m(\u001b[49m\u001b[43m)\u001b[49m\n",
            "File \u001b[0;32m/opt/homebrew/lib/python3.10/site-packages/stable_baselines3/common/vec_env/dummy_vec_env.py:58\u001b[0m, in \u001b[0;36mDummyVecEnv.step_wait\u001b[0;34m(self)\u001b[0m\n\u001b[1;32m     55\u001b[0m \u001b[38;5;28;01mdef\u001b[39;00m \u001b[38;5;21mstep_wait\u001b[39m(\u001b[38;5;28mself\u001b[39m) \u001b[38;5;241m-\u001b[39m\u001b[38;5;241m>\u001b[39m VecEnvStepReturn:\n\u001b[1;32m     56\u001b[0m     \u001b[38;5;66;03m# Avoid circular imports\u001b[39;00m\n\u001b[1;32m     57\u001b[0m     \u001b[38;5;28;01mfor\u001b[39;00m env_idx \u001b[38;5;129;01min\u001b[39;00m \u001b[38;5;28mrange\u001b[39m(\u001b[38;5;28mself\u001b[39m\u001b[38;5;241m.\u001b[39mnum_envs):\n\u001b[0;32m---> 58\u001b[0m         obs, \u001b[38;5;28mself\u001b[39m\u001b[38;5;241m.\u001b[39mbuf_rews[env_idx], terminated, truncated, \u001b[38;5;28mself\u001b[39m\u001b[38;5;241m.\u001b[39mbuf_infos[env_idx] \u001b[38;5;241m=\u001b[39m \u001b[38;5;28;43mself\u001b[39;49m\u001b[38;5;241;43m.\u001b[39;49m\u001b[43menvs\u001b[49m\u001b[43m[\u001b[49m\u001b[43menv_idx\u001b[49m\u001b[43m]\u001b[49m\u001b[38;5;241;43m.\u001b[39;49m\u001b[43mstep\u001b[49m\u001b[43m(\u001b[49m\n\u001b[1;32m     59\u001b[0m \u001b[43m            \u001b[49m\u001b[38;5;28;43mself\u001b[39;49m\u001b[38;5;241;43m.\u001b[39;49m\u001b[43mactions\u001b[49m\u001b[43m[\u001b[49m\u001b[43menv_idx\u001b[49m\u001b[43m]\u001b[49m\n\u001b[1;32m     60\u001b[0m \u001b[43m        \u001b[49m\u001b[43m)\u001b[49m\n\u001b[1;32m     61\u001b[0m         \u001b[38;5;66;03m# convert to SB3 VecEnv api\u001b[39;00m\n\u001b[1;32m     62\u001b[0m         \u001b[38;5;28mself\u001b[39m\u001b[38;5;241m.\u001b[39mbuf_dones[env_idx] \u001b[38;5;241m=\u001b[39m terminated \u001b[38;5;129;01mor\u001b[39;00m truncated\n",
            "File \u001b[0;32m~/Cornell SP24/CS 4701/ai-trading/src/rl/single/customenv.py:310\u001b[0m, in \u001b[0;36mStockTradingEnv.step\u001b[0;34m(self, actions)\u001b[0m\n\u001b[1;32m    307\u001b[0m \u001b[38;5;28mself\u001b[39m\u001b[38;5;241m.\u001b[39mactions_memory\u001b[38;5;241m.\u001b[39mappend(actions)\n\u001b[1;32m    309\u001b[0m \u001b[38;5;28mself\u001b[39m\u001b[38;5;241m.\u001b[39mday \u001b[38;5;241m+\u001b[39m\u001b[38;5;241m=\u001b[39m \u001b[38;5;241m1\u001b[39m\n\u001b[0;32m--> 310\u001b[0m \u001b[38;5;28mself\u001b[39m\u001b[38;5;241m.\u001b[39mdata \u001b[38;5;241m=\u001b[39m \u001b[38;5;28;43mself\u001b[39;49m\u001b[38;5;241;43m.\u001b[39;49m\u001b[43mdf\u001b[49m\u001b[38;5;241;43m.\u001b[39;49m\u001b[43mloc\u001b[49m\u001b[43m[\u001b[49m\u001b[38;5;28;43mself\u001b[39;49m\u001b[38;5;241;43m.\u001b[39;49m\u001b[43mday\u001b[49m\u001b[43m,\u001b[49m\u001b[43m \u001b[49m\u001b[43m:\u001b[49m\u001b[43m]\u001b[49m\n\u001b[1;32m    311\u001b[0m \u001b[38;5;28;01mif\u001b[39;00m \u001b[38;5;28mself\u001b[39m\u001b[38;5;241m.\u001b[39mturbulence_threshold \u001b[38;5;129;01mis\u001b[39;00m \u001b[38;5;129;01mnot\u001b[39;00m \u001b[38;5;28;01mNone\u001b[39;00m:\n\u001b[1;32m    312\u001b[0m     \u001b[38;5;28;01mif\u001b[39;00m \u001b[38;5;28mlen\u001b[39m(\u001b[38;5;28mself\u001b[39m\u001b[38;5;241m.\u001b[39mdf\u001b[38;5;241m.\u001b[39mtic\u001b[38;5;241m.\u001b[39munique()) \u001b[38;5;241m==\u001b[39m \u001b[38;5;241m1\u001b[39m:\n",
            "File \u001b[0;32m/opt/homebrew/lib/python3.10/site-packages/pandas/core/indexing.py:1184\u001b[0m, in \u001b[0;36m_LocationIndexer.__getitem__\u001b[0;34m(self, key)\u001b[0m\n\u001b[1;32m   1182\u001b[0m     \u001b[38;5;28;01mif\u001b[39;00m \u001b[38;5;28mself\u001b[39m\u001b[38;5;241m.\u001b[39m_is_scalar_access(key):\n\u001b[1;32m   1183\u001b[0m         \u001b[38;5;28;01mreturn\u001b[39;00m \u001b[38;5;28mself\u001b[39m\u001b[38;5;241m.\u001b[39mobj\u001b[38;5;241m.\u001b[39m_get_value(\u001b[38;5;241m*\u001b[39mkey, takeable\u001b[38;5;241m=\u001b[39m\u001b[38;5;28mself\u001b[39m\u001b[38;5;241m.\u001b[39m_takeable)\n\u001b[0;32m-> 1184\u001b[0m     \u001b[38;5;28;01mreturn\u001b[39;00m \u001b[38;5;28;43mself\u001b[39;49m\u001b[38;5;241;43m.\u001b[39;49m\u001b[43m_getitem_tuple\u001b[49m\u001b[43m(\u001b[49m\u001b[43mkey\u001b[49m\u001b[43m)\u001b[49m\n\u001b[1;32m   1185\u001b[0m \u001b[38;5;28;01melse\u001b[39;00m:\n\u001b[1;32m   1186\u001b[0m     \u001b[38;5;66;03m# we by definition only have the 0th axis\u001b[39;00m\n\u001b[1;32m   1187\u001b[0m     axis \u001b[38;5;241m=\u001b[39m \u001b[38;5;28mself\u001b[39m\u001b[38;5;241m.\u001b[39maxis \u001b[38;5;129;01mor\u001b[39;00m \u001b[38;5;241m0\u001b[39m\n",
            "File \u001b[0;32m/opt/homebrew/lib/python3.10/site-packages/pandas/core/indexing.py:1368\u001b[0m, in \u001b[0;36m_LocIndexer._getitem_tuple\u001b[0;34m(self, tup)\u001b[0m\n\u001b[1;32m   1366\u001b[0m \u001b[38;5;28;01mwith\u001b[39;00m suppress(IndexingError):\n\u001b[1;32m   1367\u001b[0m     tup \u001b[38;5;241m=\u001b[39m \u001b[38;5;28mself\u001b[39m\u001b[38;5;241m.\u001b[39m_expand_ellipsis(tup)\n\u001b[0;32m-> 1368\u001b[0m     \u001b[38;5;28;01mreturn\u001b[39;00m \u001b[38;5;28;43mself\u001b[39;49m\u001b[38;5;241;43m.\u001b[39;49m\u001b[43m_getitem_lowerdim\u001b[49m\u001b[43m(\u001b[49m\u001b[43mtup\u001b[49m\u001b[43m)\u001b[49m\n\u001b[1;32m   1370\u001b[0m \u001b[38;5;66;03m# no multi-index, so validate all of the indexers\u001b[39;00m\n\u001b[1;32m   1371\u001b[0m tup \u001b[38;5;241m=\u001b[39m \u001b[38;5;28mself\u001b[39m\u001b[38;5;241m.\u001b[39m_validate_tuple_indexer(tup)\n",
            "File \u001b[0;32m/opt/homebrew/lib/python3.10/site-packages/pandas/core/indexing.py:1065\u001b[0m, in \u001b[0;36m_LocationIndexer._getitem_lowerdim\u001b[0;34m(self, tup)\u001b[0m\n\u001b[1;32m   1061\u001b[0m \u001b[38;5;28;01mfor\u001b[39;00m i, key \u001b[38;5;129;01min\u001b[39;00m \u001b[38;5;28menumerate\u001b[39m(tup):\n\u001b[1;32m   1062\u001b[0m     \u001b[38;5;28;01mif\u001b[39;00m is_label_like(key):\n\u001b[1;32m   1063\u001b[0m         \u001b[38;5;66;03m# We don't need to check for tuples here because those are\u001b[39;00m\n\u001b[1;32m   1064\u001b[0m         \u001b[38;5;66;03m#  caught by the _is_nested_tuple_indexer check above.\u001b[39;00m\n\u001b[0;32m-> 1065\u001b[0m         section \u001b[38;5;241m=\u001b[39m \u001b[38;5;28;43mself\u001b[39;49m\u001b[38;5;241;43m.\u001b[39;49m\u001b[43m_getitem_axis\u001b[49m\u001b[43m(\u001b[49m\u001b[43mkey\u001b[49m\u001b[43m,\u001b[49m\u001b[43m \u001b[49m\u001b[43maxis\u001b[49m\u001b[38;5;241;43m=\u001b[39;49m\u001b[43mi\u001b[49m\u001b[43m)\u001b[49m\n\u001b[1;32m   1067\u001b[0m         \u001b[38;5;66;03m# We should never have a scalar section here, because\u001b[39;00m\n\u001b[1;32m   1068\u001b[0m         \u001b[38;5;66;03m#  _getitem_lowerdim is only called after a check for\u001b[39;00m\n\u001b[1;32m   1069\u001b[0m         \u001b[38;5;66;03m#  is_scalar_access, which that would be.\u001b[39;00m\n\u001b[1;32m   1070\u001b[0m         \u001b[38;5;28;01mif\u001b[39;00m section\u001b[38;5;241m.\u001b[39mndim \u001b[38;5;241m==\u001b[39m \u001b[38;5;28mself\u001b[39m\u001b[38;5;241m.\u001b[39mndim:\n\u001b[1;32m   1071\u001b[0m             \u001b[38;5;66;03m# we're in the middle of slicing through a MultiIndex\u001b[39;00m\n\u001b[1;32m   1072\u001b[0m             \u001b[38;5;66;03m# revise the key wrt to `section` by inserting an _NS\u001b[39;00m\n",
            "File \u001b[0;32m/opt/homebrew/lib/python3.10/site-packages/pandas/core/indexing.py:1431\u001b[0m, in \u001b[0;36m_LocIndexer._getitem_axis\u001b[0;34m(self, key, axis)\u001b[0m\n\u001b[1;32m   1429\u001b[0m \u001b[38;5;66;03m# fall thru to straight lookup\u001b[39;00m\n\u001b[1;32m   1430\u001b[0m \u001b[38;5;28mself\u001b[39m\u001b[38;5;241m.\u001b[39m_validate_key(key, axis)\n\u001b[0;32m-> 1431\u001b[0m \u001b[38;5;28;01mreturn\u001b[39;00m \u001b[38;5;28;43mself\u001b[39;49m\u001b[38;5;241;43m.\u001b[39;49m\u001b[43m_get_label\u001b[49m\u001b[43m(\u001b[49m\u001b[43mkey\u001b[49m\u001b[43m,\u001b[49m\u001b[43m \u001b[49m\u001b[43maxis\u001b[49m\u001b[38;5;241;43m=\u001b[39;49m\u001b[43maxis\u001b[49m\u001b[43m)\u001b[49m\n",
            "File \u001b[0;32m/opt/homebrew/lib/python3.10/site-packages/pandas/core/indexing.py:1381\u001b[0m, in \u001b[0;36m_LocIndexer._get_label\u001b[0;34m(self, label, axis)\u001b[0m\n\u001b[1;32m   1379\u001b[0m \u001b[38;5;28;01mdef\u001b[39;00m \u001b[38;5;21m_get_label\u001b[39m(\u001b[38;5;28mself\u001b[39m, label, axis: AxisInt):\n\u001b[1;32m   1380\u001b[0m     \u001b[38;5;66;03m# GH#5567 this will fail if the label is not present in the axis.\u001b[39;00m\n\u001b[0;32m-> 1381\u001b[0m     \u001b[38;5;28;01mreturn\u001b[39;00m \u001b[38;5;28;43mself\u001b[39;49m\u001b[38;5;241;43m.\u001b[39;49m\u001b[43mobj\u001b[49m\u001b[38;5;241;43m.\u001b[39;49m\u001b[43mxs\u001b[49m\u001b[43m(\u001b[49m\u001b[43mlabel\u001b[49m\u001b[43m,\u001b[49m\u001b[43m \u001b[49m\u001b[43maxis\u001b[49m\u001b[38;5;241;43m=\u001b[39;49m\u001b[43maxis\u001b[49m\u001b[43m)\u001b[49m\n",
            "File \u001b[0;32m/opt/homebrew/lib/python3.10/site-packages/pandas/core/generic.py:4311\u001b[0m, in \u001b[0;36mNDFrame.xs\u001b[0;34m(self, key, axis, level, drop_level)\u001b[0m\n\u001b[1;32m   4308\u001b[0m             \u001b[38;5;28;01mreturn\u001b[39;00m \u001b[38;5;28mself\u001b[39m\u001b[38;5;241m.\u001b[39m_take_with_is_copy(loc, axis\u001b[38;5;241m=\u001b[39maxis)\n\u001b[1;32m   4310\u001b[0m     \u001b[38;5;28;01mif\u001b[39;00m \u001b[38;5;129;01mnot\u001b[39;00m is_scalar(loc):\n\u001b[0;32m-> 4311\u001b[0m         new_index \u001b[38;5;241m=\u001b[39m \u001b[43mindex\u001b[49m\u001b[43m[\u001b[49m\u001b[43mloc\u001b[49m\u001b[43m]\u001b[49m\n\u001b[1;32m   4313\u001b[0m \u001b[38;5;28;01mif\u001b[39;00m is_scalar(loc) \u001b[38;5;129;01mand\u001b[39;00m axis \u001b[38;5;241m==\u001b[39m \u001b[38;5;241m0\u001b[39m:\n\u001b[1;32m   4314\u001b[0m     \u001b[38;5;66;03m# In this case loc should be an integer\u001b[39;00m\n\u001b[1;32m   4315\u001b[0m     \u001b[38;5;28;01mif\u001b[39;00m \u001b[38;5;28mself\u001b[39m\u001b[38;5;241m.\u001b[39mndim \u001b[38;5;241m==\u001b[39m \u001b[38;5;241m1\u001b[39m:\n\u001b[1;32m   4316\u001b[0m         \u001b[38;5;66;03m# if we encounter an array-like and we only have 1 dim\u001b[39;00m\n\u001b[1;32m   4317\u001b[0m         \u001b[38;5;66;03m# that means that their are list/ndarrays inside the Series!\u001b[39;00m\n\u001b[1;32m   4318\u001b[0m         \u001b[38;5;66;03m# so just return them (GH 6394)\u001b[39;00m\n",
            "File \u001b[0;32m/opt/homebrew/lib/python3.10/site-packages/pandas/core/indexes/base.py:5394\u001b[0m, in \u001b[0;36mIndex.__getitem__\u001b[0;34m(self, key)\u001b[0m\n\u001b[1;32m   5389\u001b[0m     \u001b[38;5;28;01mreturn\u001b[39;00m getitem(key)\n\u001b[1;32m   5391\u001b[0m \u001b[38;5;28;01mif\u001b[39;00m \u001b[38;5;28misinstance\u001b[39m(key, \u001b[38;5;28mslice\u001b[39m):\n\u001b[1;32m   5392\u001b[0m     \u001b[38;5;66;03m# This case is separated from the conditional above to avoid\u001b[39;00m\n\u001b[1;32m   5393\u001b[0m     \u001b[38;5;66;03m# pessimization com.is_bool_indexer and ndim checks.\u001b[39;00m\n\u001b[0;32m-> 5394\u001b[0m     \u001b[38;5;28;01mreturn\u001b[39;00m \u001b[38;5;28;43mself\u001b[39;49m\u001b[38;5;241;43m.\u001b[39;49m\u001b[43m_getitem_slice\u001b[49m\u001b[43m(\u001b[49m\u001b[43mkey\u001b[49m\u001b[43m)\u001b[49m\n\u001b[1;32m   5396\u001b[0m \u001b[38;5;28;01mif\u001b[39;00m com\u001b[38;5;241m.\u001b[39mis_bool_indexer(key):\n\u001b[1;32m   5397\u001b[0m     \u001b[38;5;66;03m# if we have list[bools, length=1e5] then doing this check+convert\u001b[39;00m\n\u001b[1;32m   5398\u001b[0m     \u001b[38;5;66;03m#  takes 166 µs + 2.1 ms and cuts the ndarray.__getitem__\u001b[39;00m\n\u001b[1;32m   5399\u001b[0m     \u001b[38;5;66;03m#  time below from 3.8 ms to 496 µs\u001b[39;00m\n\u001b[1;32m   5400\u001b[0m     \u001b[38;5;66;03m# if we already have ndarray[bool], the overhead is 1.4 µs or .25%\u001b[39;00m\n\u001b[1;32m   5401\u001b[0m     \u001b[38;5;28;01mif\u001b[39;00m \u001b[38;5;28misinstance\u001b[39m(\u001b[38;5;28mgetattr\u001b[39m(key, \u001b[38;5;124m\"\u001b[39m\u001b[38;5;124mdtype\u001b[39m\u001b[38;5;124m\"\u001b[39m, \u001b[38;5;28;01mNone\u001b[39;00m), ExtensionDtype):\n",
            "File \u001b[0;32m/opt/homebrew/lib/python3.10/site-packages/pandas/core/indexes/base.py:5433\u001b[0m, in \u001b[0;36mIndex._getitem_slice\u001b[0;34m(self, slobj)\u001b[0m\n\u001b[1;32m   5431\u001b[0m \u001b[38;5;28;01mif\u001b[39;00m \u001b[38;5;124m\"\u001b[39m\u001b[38;5;124m_engine\u001b[39m\u001b[38;5;124m\"\u001b[39m \u001b[38;5;129;01min\u001b[39;00m \u001b[38;5;28mself\u001b[39m\u001b[38;5;241m.\u001b[39m_cache:\n\u001b[1;32m   5432\u001b[0m     reverse \u001b[38;5;241m=\u001b[39m slobj\u001b[38;5;241m.\u001b[39mstep \u001b[38;5;129;01mis\u001b[39;00m \u001b[38;5;129;01mnot\u001b[39;00m \u001b[38;5;28;01mNone\u001b[39;00m \u001b[38;5;129;01mand\u001b[39;00m slobj\u001b[38;5;241m.\u001b[39mstep \u001b[38;5;241m<\u001b[39m \u001b[38;5;241m0\u001b[39m\n\u001b[0;32m-> 5433\u001b[0m     \u001b[43mresult\u001b[49m\u001b[38;5;241;43m.\u001b[39;49m\u001b[43m_engine\u001b[49m\u001b[38;5;241m.\u001b[39m_update_from_sliced(\u001b[38;5;28mself\u001b[39m\u001b[38;5;241m.\u001b[39m_engine, reverse\u001b[38;5;241m=\u001b[39mreverse)  \u001b[38;5;66;03m# type: ignore[union-attr]\u001b[39;00m\n\u001b[1;32m   5435\u001b[0m \u001b[38;5;28;01mreturn\u001b[39;00m result\n",
            "File \u001b[0;32mproperties.pyx:36\u001b[0m, in \u001b[0;36mpandas._libs.properties.CachedProperty.__get__\u001b[0;34m()\u001b[0m\n",
            "File \u001b[0;32m/opt/homebrew/lib/python3.10/site-packages/pandas/core/indexes/base.py:889\u001b[0m, in \u001b[0;36mIndex._engine\u001b[0;34m(self)\u001b[0m\n\u001b[1;32m    885\u001b[0m     target_values \u001b[38;5;241m=\u001b[39m \u001b[38;5;28mself\u001b[39m\u001b[38;5;241m.\u001b[39m_data\u001b[38;5;241m.\u001b[39m_ndarray  \u001b[38;5;66;03m# type: ignore[union-attr]\u001b[39;00m\n\u001b[1;32m    887\u001b[0m \u001b[38;5;66;03m# error: Argument 1 to \"ExtensionEngine\" has incompatible type\u001b[39;00m\n\u001b[1;32m    888\u001b[0m \u001b[38;5;66;03m# \"ndarray[Any, Any]\"; expected \"ExtensionArray\"\u001b[39;00m\n\u001b[0;32m--> 889\u001b[0m \u001b[38;5;28;01mreturn\u001b[39;00m \u001b[38;5;28;43mself\u001b[39;49m\u001b[38;5;241;43m.\u001b[39;49m\u001b[43m_engine_type\u001b[49m(target_values)\n",
            "File \u001b[0;32m/opt/homebrew/lib/python3.10/site-packages/pandas/core/indexes/base.py:460\u001b[0m, in \u001b[0;36mIndex._engine_type\u001b[0;34m(self)\u001b[0m\n\u001b[1;32m    456\u001b[0m \u001b[38;5;129m@property\u001b[39m\n\u001b[1;32m    457\u001b[0m \u001b[38;5;28;01mdef\u001b[39;00m \u001b[38;5;21m_engine_type\u001b[39m(\n\u001b[1;32m    458\u001b[0m     \u001b[38;5;28mself\u001b[39m,\n\u001b[1;32m    459\u001b[0m ) \u001b[38;5;241m-\u001b[39m\u001b[38;5;241m>\u001b[39m \u001b[38;5;28mtype\u001b[39m[libindex\u001b[38;5;241m.\u001b[39mIndexEngine \u001b[38;5;241m|\u001b[39m libindex\u001b[38;5;241m.\u001b[39mExtensionEngine]:\n\u001b[0;32m--> 460\u001b[0m     \u001b[38;5;28;01mreturn\u001b[39;00m \u001b[38;5;28;43mself\u001b[39;49m\u001b[38;5;241;43m.\u001b[39;49m\u001b[43m_engine_types\u001b[49m\u001b[38;5;241;43m.\u001b[39;49m\u001b[43mget\u001b[49m\u001b[43m(\u001b[49m\u001b[38;5;28;43mself\u001b[39;49m\u001b[38;5;241;43m.\u001b[39;49m\u001b[43mdtype\u001b[49m\u001b[43m,\u001b[49m\u001b[43m \u001b[49m\u001b[43mlibindex\u001b[49m\u001b[38;5;241;43m.\u001b[39;49m\u001b[43mObjectEngine\u001b[49m\u001b[43m)\u001b[49m\n",
            "\u001b[0;31mKeyboardInterrupt\u001b[0m: "
          ]
        }
      ],
      "source": [
        "from stable_baselines3.common.evaluation import evaluate_policy\n",
        "\n",
        "mean_reward, std_reward = evaluate_policy(trained_a2c, e_trade_gym, n_eval_episodes=30)\n",
        "print(f\"Mean reward: {mean_reward}, Std reward: {std_reward}\")"
      ]
    },
    {
      "cell_type": "code",
      "execution_count": 11,
      "metadata": {
        "id": "74jNP2DBj3hb"
      },
      "outputs": [
        {
          "name": "stdout",
          "output_type": "stream",
          "text": [
            "day: 353, episode: 10\n",
            "begin_total_asset: 10000.00\n",
            "end_total_asset: 20011.78\n",
            "total_reward: 10011.78\n",
            "total_cost: 9.98\n",
            "total_trades: 73432\n",
            "Sharpe: 1.876\n",
            "=================================\n",
            "hit end lsdjflskdjflks!\n",
            "            AAL  BR  DHI  MDLZ  NVDA  RJF\n",
            "date                                     \n",
            "2022-07-01    3  22   22    22    22    9\n"
          ]
        }
      ],
      "source": [
        "df_account_value_ppo, df_actions_ppo = DRLAgent.DRL_prediction(\n",
        "    model=trained_ppo, \n",
        "    environment = e_trade_gym) if if_using_ppo else (None, None)\n",
        "df_actions_filled = df_actions_ppo.fillna(0)\n",
        "\n",
        "# Filter to keep only rows with at least one non-zero value\n",
        "non_zero_rows = df_actions_filled.loc[(df_actions_filled != 0).any(axis=1)]\n",
        "\n",
        "# For each row in the filtered DataFrame, keep only columns with non-zero values\n",
        "non_zero_actions_only = non_zero_rows.apply(lambda row: row[row != 0], axis=1)\n",
        "\n",
        "# Print the resulting DataFrame\n",
        "print(non_zero_actions_only)"
      ]
    },
    {
      "cell_type": "code",
      "execution_count": 29,
      "metadata": {
        "id": "S7VyGGJPj3SH"
      },
      "outputs": [
        {
          "name": "stdout",
          "output_type": "stream",
          "text": [
            "hit end lsdjflskdjflks!\n",
            "            FCX  HBAN  ZBRA\n",
            "date                       \n",
            "2022-07-01    3     2    33\n"
          ]
        }
      ],
      "source": [
        "df_account_value_td3, df_actions_td3 = DRLAgent.DRL_prediction(\n",
        "    model=trained_td3, \n",
        "    environment = e_trade_gym) if if_using_td3 else (None, None)\n",
        "\n",
        "# print actions_td3 to see the actions taken by the agent, but only where not zero\n",
        "df_actions_filled = df_actions_td3.fillna(0)\n",
        "\n",
        "# Filter to keep only rows with at least one non-zero value\n",
        "non_zero_rows = df_actions_filled.loc[(df_actions_filled != 0).any(axis=1)]\n",
        "\n",
        "# For each row in the filtered DataFrame, keep only columns with non-zero values\n",
        "non_zero_actions_only = non_zero_rows.apply(lambda row: row[row != 0], axis=1)\n",
        "\n",
        "# Print the resulting DataFrame\n",
        "print(non_zero_actions_only)\n",
        "\n",
        "# print the date july 3rd 2020\n",
        "\n"
      ]
    },
    {
      "cell_type": "code",
      "execution_count": null,
      "metadata": {
        "colab": {
          "base_uri": "https://localhost:8080/"
        },
        "id": "eLOnL5eYh1jR",
        "outputId": "70e50e24-aed5-49f9-cdd7-de6b9689d9ce"
      },
      "outputs": [
        {
          "ename": "AttributeError",
          "evalue": "'NoneType' object has no attribute 'loc'",
          "output_type": "error",
          "traceback": [
            "\u001b[0;31m---------------------------------------------------------------------------\u001b[0m",
            "\u001b[0;31mAttributeError\u001b[0m                            Traceback (most recent call last)",
            "Cell \u001b[0;32mIn[89], line 8\u001b[0m\n\u001b[1;32m      5\u001b[0m df_actions_filled \u001b[38;5;241m=\u001b[39m df_actions_sac\n\u001b[1;32m      7\u001b[0m \u001b[38;5;66;03m# Filter to keep only rows with at least one non-zero value\u001b[39;00m\n\u001b[0;32m----> 8\u001b[0m non_zero_rows \u001b[38;5;241m=\u001b[39m \u001b[43mdf_actions_filled\u001b[49m\u001b[38;5;241;43m.\u001b[39;49m\u001b[43mloc\u001b[49m[(df_actions_filled \u001b[38;5;241m!=\u001b[39m \u001b[38;5;241m0\u001b[39m)\u001b[38;5;241m.\u001b[39many(axis\u001b[38;5;241m=\u001b[39m\u001b[38;5;241m1\u001b[39m)]\n\u001b[1;32m     10\u001b[0m \u001b[38;5;66;03m# For each row in the filtered DataFrame, keep only columns with non-zero values\u001b[39;00m\n\u001b[1;32m     11\u001b[0m non_zero_actions_only \u001b[38;5;241m=\u001b[39m non_zero_rows\u001b[38;5;241m.\u001b[39mapply(\u001b[38;5;28;01mlambda\u001b[39;00m row: row[row \u001b[38;5;241m!=\u001b[39m \u001b[38;5;241m0\u001b[39m], axis\u001b[38;5;241m=\u001b[39m\u001b[38;5;241m1\u001b[39m)\n",
            "\u001b[0;31mAttributeError\u001b[0m: 'NoneType' object has no attribute 'loc'"
          ]
        }
      ],
      "source": [
        "df_account_value_sac, df_actions_sac = DRLAgent.DRL_prediction(\n",
        "    model=trained_sac, \n",
        "    environment = e_trade_gym) if if_using_sac else (None, None)\n",
        "\n",
        "df_actions_filled = df_actions_sac\n",
        "\n",
        "# Filter to keep only rows with at least one non-zero value\n",
        "non_zero_rows = df_actions_filled.loc[(df_actions_filled != 0).any(axis=1)]\n",
        "\n",
        "# For each row in the filtered DataFrame, keep only columns with non-zero values\n",
        "non_zero_actions_only = non_zero_rows.apply(lambda row: row[row != 0], axis=1)\n",
        "\n",
        "# Print the resulting DataFrame\n",
        "print(non_zero_actions_only)"
      ]
    },
    {
      "cell_type": "code",
      "execution_count": null,
      "metadata": {},
      "outputs": [],
      "source": [
        "df_account_value_ddpg_good, df_actions_ddpg_good = (\n",
        "    DRLAgent.DRL_prediction(model=trained_ddpg_good, environment=e_trade_gym)\n",
        "    if if_using_ddpg_good\n",
        "    else (None, None)\n",
        ")"
      ]
    },
    {
      "cell_type": "markdown",
      "metadata": {
        "id": "GcE-t08w6DaW"
      },
      "source": [
        "# Part 3: Mean Variance Optimization"
      ]
    },
    {
      "cell_type": "markdown",
      "metadata": {
        "id": "17TUs71EWj09"
      },
      "source": [
        "Mean Variance optimization is a very classic strategy in portfolio management. Here, we go through the whole process to do the mean variance optimization and add it as a baseline to compare.\n",
        "\n",
        "First, process dataframe to the form for MVO weight calculation."
      ]
    },
    {
      "cell_type": "code",
      "execution_count": 30,
      "metadata": {
        "id": "wungSNOwPwKR"
      },
      "outputs": [],
      "source": [
        "def process_df_for_mvo(df):\n",
        "  return df.pivot(index=\"date\", columns=\"tic\", values=\"close\")"
      ]
    },
    {
      "cell_type": "markdown",
      "metadata": {
        "id": "SwEwkHJ1d_6u"
      },
      "source": [
        "### Helper functions for mean returns and variance-covariance matrix"
      ]
    },
    {
      "cell_type": "code",
      "execution_count": 31,
      "metadata": {
        "id": "6KvXkpyE8MFq"
      },
      "outputs": [],
      "source": [
        "# Codes in this section partially refer to Dr G A Vijayalakshmi Pai\n",
        "\n",
        "# https://www.kaggle.com/code/vijipai/lesson-5-mean-variance-optimization-of-portfolios/notebook\n",
        "\n",
        "def StockReturnsComputing(StockPrice, Rows, Columns): \n",
        "  import numpy as np \n",
        "  StockReturn = np.zeros([Rows-1, Columns]) \n",
        "  for j in range(Columns):        # j: Assets \n",
        "    for i in range(Rows-1):     # i: Daily Prices \n",
        "      StockReturn[i,j]=((StockPrice[i+1, j]-StockPrice[i,j])/StockPrice[i,j])* 100 \n",
        "      \n",
        "  return StockReturn"
      ]
    },
    {
      "cell_type": "markdown",
      "metadata": {
        "id": "IeVVbuwveJ_5"
      },
      "source": [
        "### Calculate the weights for mean-variance"
      ]
    },
    {
      "cell_type": "code",
      "execution_count": 32,
      "metadata": {
        "colab": {
          "base_uri": "https://localhost:8080/"
        },
        "id": "kE8nruKLQYLO",
        "outputId": "42d07c80-f309-49f8-f2b4-36a51987086f"
      },
      "outputs": [
        {
          "data": {
            "text/plain": [
              "array([[117.778,  13.13 , 137.562, ..., 112.91 , 105.806, 299.34 ],\n",
              "       [119.112,  13.88 , 140.166, ..., 113.51 , 105.432, 302.33 ],\n",
              "       [119.725,  13.89 , 141.513, ..., 113.027, 104.287, 294.53 ],\n",
              "       ...,\n",
              "       [123.58 ,  12.31 , 191.066, ..., 127.694, 113.39 , 225.86 ],\n",
              "       [126.201,  12.31 , 189.728, ..., 127.268, 112.992, 228.92 ],\n",
              "       [124.597,  12.18 , 189.548, ..., 127.054, 113.4  , 231.5  ]])"
            ]
          },
          "execution_count": 32,
          "metadata": {},
          "output_type": "execute_result"
        }
      ],
      "source": [
        "StockData = process_df_for_mvo(train)\n",
        "TradeData = process_df_for_mvo(trade)\n",
        "\n",
        "TradeData.to_numpy()"
      ]
    },
    {
      "cell_type": "code",
      "execution_count": 33,
      "metadata": {
        "colab": {
          "base_uri": "https://localhost:8080/"
        },
        "id": "u6_O6vrn_uD4",
        "outputId": "0c2f8bf7-07e7-4fe5-c409-93312b95a8dd"
      },
      "outputs": [
        {
          "name": "stdout",
          "output_type": "stream",
          "text": [
            "Mean returns of assets in k-portfolio 1\n",
            " [0.089 0.082 0.131 0.061 0.064 0.082 0.102 0.087 0.053 0.072 0.09  0.054\n",
            " 0.054 0.058 0.064 0.083 0.077 0.077 0.081 0.1   0.139 0.064 0.097 0.169\n",
            " 0.077 0.062 0.105 0.081 0.131 0.079 0.068 0.093 0.036 0.069 0.086 0.057\n",
            " 0.066 0.066 0.073 0.077 0.135 0.089 0.092 0.067 0.072 0.07  0.04  0.096\n",
            " 0.068 0.053 0.036 0.044 0.071 0.07  0.041 0.116 0.045 0.194 0.072 0.059\n",
            " 0.087 0.066 0.065 0.062 0.129 0.048 0.038 0.052 0.047 0.07  0.06  0.126\n",
            " 0.087 0.022 0.129 0.098 0.103 0.07  0.039 0.102 0.071 0.041 0.047 0.079\n",
            " 0.064 0.078 0.114 0.088 0.076 0.112 0.054 0.078 0.099 0.06  0.08  0.082\n",
            " 0.035 0.095 0.079 0.081 0.115 0.052 0.105 0.086 0.101 0.077 0.078 0.054\n",
            " 0.05  0.047 0.071 0.064 0.085 0.106 0.107 0.045 0.102 0.084 0.059 0.076\n",
            " 0.09  0.045 0.073 0.154 0.079 0.066 0.05  0.049 0.046 0.186 0.081 0.077\n",
            " 0.058 0.05  0.074 0.059 0.044 0.102 0.094 0.081 0.049 0.071 0.098 0.066\n",
            " 0.059 0.058 0.066 0.075 0.035 0.059 0.109 0.03  0.049 0.101 0.115 0.083\n",
            " 0.076 0.085 0.081 0.06  0.024 0.081 0.077 0.119 0.068 0.106 0.074 0.046\n",
            " 0.035 0.059 0.015 0.061 0.048 0.048 0.069 0.063 0.091 0.091 0.061 0.073\n",
            " 0.078 0.063 0.073 0.06  0.059 0.078 0.093 0.059 0.091 0.069 0.07  0.053\n",
            " 0.069 0.06  0.067 0.071 0.073 0.099 0.039 0.07  0.103 0.076 0.062 0.093\n",
            " 0.132 0.056 0.101 0.078 0.091 0.062 0.1   0.094 0.069 0.048 0.049 0.072\n",
            " 0.097 0.068 0.08  0.049 0.041 0.071 0.034 0.097 0.069 0.054 0.12  0.049\n",
            " 0.098 0.049 0.059 0.037 0.055 0.103 0.05  0.078 0.063 0.083 0.086 0.07\n",
            " 0.063 0.084 0.121 0.165 0.068 0.11  0.117 0.11  0.079 0.085 0.083 0.059\n",
            " 0.086 0.081 0.099 0.055 0.049 0.063 0.086 0.063 0.064 0.131 0.058 0.073\n",
            " 0.046 0.103 0.061 0.127 0.051 0.135 0.057 0.063 0.083 0.114 0.097 0.093\n",
            " 0.064 0.112 0.099 0.137 0.074 0.097 0.074 0.045 0.162 0.082 0.08  0.092\n",
            " 0.046 0.071 0.075 0.046 0.057 0.168 0.084 0.07  0.121 0.093 0.049 0.117\n",
            " 0.058 0.103 0.052 0.074 0.067 0.058 0.022 0.046 0.05  0.058 0.081 0.043\n",
            " 0.085 0.077 0.077 0.098 0.087 0.052 0.075 0.055 0.049 0.146 0.112 0.071\n",
            " 0.027 0.084 0.069 0.088 0.077 0.068 0.087 0.049 0.135 0.081 0.066 0.09\n",
            " 0.052 0.092 0.081 0.086 0.079 0.087 0.067 0.053 0.087 0.1   0.103 0.069\n",
            " 0.089 0.052 0.031 0.107 0.071 0.095 0.045 0.066 0.101 0.058 0.084 0.096\n",
            " 0.059 0.135 0.098 0.061 0.124 0.064 0.064 0.037 0.026 0.127 0.079 0.068\n",
            " 0.082 0.121 0.054 0.065 0.067 0.088 0.095 0.082 0.054 0.074 0.066 0.06\n",
            " 0.112 0.089 0.096 0.111 0.092 0.08  0.115 0.093 0.072 0.074 0.15  0.108\n",
            " 0.086 0.058 0.144 0.051 0.097 0.093 0.049 0.083 0.103 0.056 0.028 0.039\n",
            " 0.065 0.078 0.038 0.043 0.083 0.067 0.062 0.051 0.064 0.08  0.039 0.066\n",
            " 0.098 0.053 0.066 0.071 0.06  0.029 0.068 0.045 0.102]\n",
            "Variance-Covariance matrix of returns\n",
            " [[ 3.501  2.475  1.604 ...  1.355  1.497  2.041]\n",
            " [ 2.475 13.87   1.939 ...  2.181  2.247  2.351]\n",
            " [ 1.604  1.939  3.296 ...  1.191  1.136  1.73 ]\n",
            " ...\n",
            " [ 1.355  2.181  1.191 ...  2.584  1.177  1.278]\n",
            " [ 1.497  2.247  1.136 ...  1.177  2.855  1.36 ]\n",
            " [ 2.041  2.351  1.73  ...  1.278  1.36   4.81 ]]\n"
          ]
        }
      ],
      "source": [
        "#compute asset returns\n",
        "arStockPrices = np.asarray(StockData)\n",
        "[Rows, Cols]=arStockPrices.shape\n",
        "arReturns = StockReturnsComputing(arStockPrices, Rows, Cols)\n",
        "\n",
        "#compute mean returns and variance covariance matrix of returns\n",
        "meanReturns = np.mean(arReturns, axis = 0)\n",
        "covReturns = np.cov(arReturns, rowvar=False)\n",
        " \n",
        "#set precision for printing results\n",
        "np.set_printoptions(precision=3, suppress = True)\n",
        "\n",
        "#display mean returns and variance-covariance matrix of returns\n",
        "print('Mean returns of assets in k-portfolio 1\\n', meanReturns)\n",
        "print('Variance-Covariance matrix of returns\\n', covReturns)"
      ]
    },
    {
      "cell_type": "markdown",
      "metadata": {
        "id": "zC7r-cI8RR1X"
      },
      "source": [
        "### Use PyPortfolioOpt"
      ]
    },
    {
      "cell_type": "code",
      "execution_count": 34,
      "metadata": {
        "colab": {
          "base_uri": "https://localhost:8080/"
        },
        "id": "b1btTONEdCU4",
        "outputId": "75096462-7dfb-4ce6-c6f4-4671f11e79fc"
      },
      "outputs": [
        {
          "name": "stderr",
          "output_type": "stream",
          "text": [
            "/opt/homebrew/lib/python3.10/site-packages/cvxpy/problems/problem.py:1403: UserWarning: Solution may be inaccurate. Try another solver, adjusting the solver settings, or solve with verbose=True for more information.\n",
            "  warnings.warn(\n"
          ]
        },
        {
          "data": {
            "text/plain": [
              "array([   0. ,    0. , 1199.5,    0. ,    0. ,    0. ,    0. ,    0. ,\n",
              "          0. ,    0. ,    0. ,    0. ,    0. ,    0. ,    0. ,    0. ,\n",
              "          0. ,    0. ,    0. ,    0. ,    0. ,    0. ,    0. ,    0. ,\n",
              "          0. ,    0. ,    0. ,    0. ,  134. ,    0. ,    0. ,    0. ,\n",
              "          0. ,    0. ,    0. ,    0. ,    0. ,    0. ,    0. ,  409.7,\n",
              "          0. ,    0. ,  570.5,    0. ,    0. ,    0. ,    0. ,    0. ,\n",
              "          0. ,    0. ,    0. ,    0. ,    0. ,    0. ,    0. ,    0. ,\n",
              "          0. ,    0. ,    0. ,    0. ,    0. ,    0. ,    0. ,    0. ,\n",
              "          0. ,    0. ,    0. ,    0. ,    0. ,    0. ,    0. ,    0. ,\n",
              "          0. ,    0. ,    0. ,    0. ,    0. ,    0. ,    0. ,    0. ,\n",
              "          0. ,    0. ,    0. ,    0. ,    0. ,    0. ,    0. ,    0. ,\n",
              "        340.2,    0. ,    0. ,    0. ,    0. ,    0. ,    0. ,    0. ,\n",
              "          0. ,    0. ,    0. ,    0. ,    0. ,    0. ,    0. ,    0. ,\n",
              "          0. ,    0. ,    0. ,    0. ,    0. ,    0. ,    0. ,    0. ,\n",
              "          0. ,    0. ,    0. ,    0. ,    0. ,    0. ,    0. ,    0. ,\n",
              "        174.5,    0. ,    0. , 1991.2,    0. ,    0. ,    0. ,    0. ,\n",
              "          0. ,  677.1,    0. ,    0. ,    0. ,    0. ,    0. ,    0. ,\n",
              "          0. ,    0. ,    0. ,    0. ,    0. ,    0. ,    0. ,    0. ,\n",
              "          0. ,    0. ,    0. ,    0. ,    0. ,    0. ,   98.8,    0. ,\n",
              "          0. ,    0. ,    0. ,    0. ,    0. ,    0. ,    0. ,    0. ,\n",
              "          0. ,    0. ,    0. ,    0. ,    0. ,    0. ,    0. ,    0. ,\n",
              "          0. ,    0. ,    0. ,    0. ,    0. ,    0. ,    0. ,    0. ,\n",
              "          0. ,    0. ,    0. ,    0. ,    0. ,    0. ,    0. ,    0. ,\n",
              "          0. ,    0. ,    0. ,    0. ,    0. ,    0. ,    0. ,    0. ,\n",
              "        287. ,    0. ,    0. ,    0. ,    0. ,    0. ,    0. ,    0. ,\n",
              "          0. ,    0. ,    0. ,    0. ,    0. ,    0. ,    0. ,    0. ,\n",
              "          0. ,    0. ,    0. ,    0. ,    0. ,    0. ,    0. ,    0. ,\n",
              "          0. ,    0. ,    0. ,    0. ,    0. ,    0. ,    0. , 1145.4,\n",
              "          0. ,    0. ,    0. ,    0. ,    0. ,    0. ,    0. ,    0. ,\n",
              "          0. ,    0. ,    0. ,    0. ,    0. ,    0. ,  490. ,    0. ,\n",
              "          0. ,    0. ,    0. ,  213.6,    0. ,    0. ,    0. ,    0. ,\n",
              "          0. ,    0. ,    0. ,    0. ,    0. ,    0. ,    0. ,    0. ,\n",
              "          0. ,    0. ,    0. ,    0. ,    0. ,  214.7,    0. ,    0. ,\n",
              "          0. ,    0. ,    0. ,   20.7,    0. ,    0. ,    0. ,    0. ,\n",
              "          0. ,    0. ,    0. ,    0. ,    0. ,    0. ,    0. ,    0. ,\n",
              "          0. ,    0. ,    0. ,    0. ,  582.4,    0. ,    0. ,  250.1,\n",
              "          0. ,    0. ,    0. ,    0. ,    0. ,    0. ,    0. ,    0. ,\n",
              "          0. ,    0. ,    0. ,    0. ,    0. ,    0. ,    0. ,    0. ,\n",
              "          0. ,    0. ,    0. ,    0. ,    0. ,    0. ,    0. ,    0. ,\n",
              "          0. ,    0. ,    0. ,    0. ,    0. ,    0. ,    0. ,    0. ,\n",
              "          0. ,    0. ,    0. ,    0. ,    0. ,    0. ,    0. ,    0. ,\n",
              "          0. ,    0. ,    0. ,    0. ,  300.6,    0. ,    0. ,    0. ,\n",
              "          0. ,    0. ,    0. ,    0. ,    0. ,    0. ,    0. ,    0. ,\n",
              "          0. ,    0. ,    0. ,    0. ,    0. ,    0. ,    0. ,    0. ,\n",
              "          0. ,    0. ,    0. ,    0. ,    0. ,    0. ,    0. ,    0. ,\n",
              "          0. ,    0. ,   14.5,    0. ,    0. ,    0. ,    0. ,    0. ,\n",
              "          0. ,  495.4,    0. ,    0. ,    0. ,    0. ,    0. ,    0. ,\n",
              "          0. ,    0. ,    0. ,    0. ,    0. ,    0. ,    0. ,    0. ,\n",
              "          0. ,    0. ,    0. ,    0. ,    0. ,    0. ,    0. ,    0. ,\n",
              "          0. ,    0. ,  374.2,   44.6,    0. ,    0. ,    0. ,    0. ,\n",
              "          0. ,    0. ,    0. ,    0. ,    0. ,    0. ,    0. ,    0. ,\n",
              "          0. ,    0. ,    0. ,    0. ,    0. ,    0. ,    0. ,    0. ,\n",
              "          0. ,    0. ,    0. ,    0. ,    0. ,    0. ,    0. ,    0. ,\n",
              "          0. ,    0. ,    0. ,    0. ,    0. ])"
            ]
          },
          "execution_count": 34,
          "metadata": {},
          "output_type": "execute_result"
        }
      ],
      "source": [
        "from pypfopt.efficient_frontier import EfficientFrontier\n",
        "\n",
        "ef_mean = EfficientFrontier(meanReturns, covReturns, weight_bounds=(0, 0.5))\n",
        "raw_weights_mean = ef_mean.max_sharpe()\n",
        "cleaned_weights_mean = ef_mean.clean_weights()\n",
        "mvo_weights = np.array(\n",
        "    [10000 * cleaned_weights_mean[i] for i in range(len(cleaned_weights_mean))]\n",
        ")\n",
        "mvo_weights"
      ]
    },
    {
      "cell_type": "code",
      "execution_count": 35,
      "metadata": {
        "colab": {
          "base_uri": "https://localhost:8080/"
        },
        "id": "F38NJRJJgOmj",
        "outputId": "f575651b-1e9b-4015-ae71-c9fc2c3a3dae"
      },
      "outputs": [
        {
          "data": {
            "text/plain": [
              "array([ 0.   ,  0.   ,  8.861,  0.   ,  0.   ,  0.   ,  0.   ,  0.   ,\n",
              "        0.   ,  0.   ,  0.   ,  0.   ,  0.   ,  0.   ,  0.   ,  0.   ,\n",
              "        0.   ,  0.   ,  0.   ,  0.   ,  0.   ,  0.   ,  0.   ,  0.   ,\n",
              "        0.   ,  0.   ,  0.   ,  0.   ,  1.262,  0.   ,  0.   ,  0.   ,\n",
              "        0.   ,  0.   ,  0.   ,  0.   ,  0.   ,  0.   ,  0.   ,  2.85 ,\n",
              "        0.   ,  0.   ,  0.265,  0.   ,  0.   ,  0.   ,  0.   ,  0.   ,\n",
              "        0.   ,  0.   ,  0.   ,  0.   ,  0.   ,  0.   ,  0.   ,  0.   ,\n",
              "        0.   ,  0.   ,  0.   ,  0.   ,  0.   ,  0.   ,  0.   ,  0.   ,\n",
              "        0.   ,  0.   ,  0.   ,  0.   ,  0.   ,  0.   ,  0.   ,  0.   ,\n",
              "        0.   ,  0.   ,  0.   ,  0.   ,  0.   ,  0.   ,  0.   ,  0.   ,\n",
              "        0.   ,  0.   ,  0.   ,  0.   ,  0.   ,  0.   ,  0.   ,  0.   ,\n",
              "        5.336,  0.   ,  0.   ,  0.   ,  0.   ,  0.   ,  0.   ,  0.   ,\n",
              "        0.   ,  0.   ,  0.   ,  0.   ,  0.   ,  0.   ,  0.   ,  0.   ,\n",
              "        0.   ,  0.   ,  0.   ,  0.   ,  0.   ,  0.   ,  0.   ,  0.   ,\n",
              "        0.   ,  0.   ,  0.   ,  0.   ,  0.   ,  0.   ,  0.   ,  0.   ,\n",
              "        1.12 ,  0.   ,  0.   ,  5.232,  0.   ,  0.   ,  0.   ,  0.   ,\n",
              "        0.   ,  9.085,  0.   ,  0.   ,  0.   ,  0.   ,  0.   ,  0.   ,\n",
              "        0.   ,  0.   ,  0.   ,  0.   ,  0.   ,  0.   ,  0.   ,  0.   ,\n",
              "        0.   ,  0.   ,  0.   ,  0.   ,  0.   ,  0.   ,  1.039,  0.   ,\n",
              "        0.   ,  0.   ,  0.   ,  0.   ,  0.   ,  0.   ,  0.   ,  0.   ,\n",
              "        0.   ,  0.   ,  0.   ,  0.   ,  0.   ,  0.   ,  0.   ,  0.   ,\n",
              "        0.   ,  0.   ,  0.   ,  0.   ,  0.   ,  0.   ,  0.   ,  0.   ,\n",
              "        0.   ,  0.   ,  0.   ,  0.   ,  0.   ,  0.   ,  0.   ,  0.   ,\n",
              "        0.   ,  0.   ,  0.   ,  0.   ,  0.   ,  0.   ,  0.   ,  0.   ,\n",
              "        6.411,  0.   ,  0.   ,  0.   ,  0.   ,  0.   ,  0.   ,  0.   ,\n",
              "        0.   ,  0.   ,  0.   ,  0.   ,  0.   ,  0.   ,  0.   ,  0.   ,\n",
              "        0.   ,  0.   ,  0.   ,  0.   ,  0.   ,  0.   ,  0.   ,  0.   ,\n",
              "        0.   ,  0.   ,  0.   ,  0.   ,  0.   ,  0.   ,  0.   , 33.811,\n",
              "        0.   ,  0.   ,  0.   ,  0.   ,  0.   ,  0.   ,  0.   ,  0.   ,\n",
              "        0.   ,  0.   ,  0.   ,  0.   ,  0.   ,  0.   ,  1.538,  0.   ,\n",
              "        0.   ,  0.   ,  0.   ,  0.784,  0.   ,  0.   ,  0.   ,  0.   ,\n",
              "        0.   ,  0.   ,  0.   ,  0.   ,  0.   ,  0.   ,  0.   ,  0.   ,\n",
              "        0.   ,  0.   ,  0.   ,  0.   ,  0.   ,  0.855,  0.   ,  0.   ,\n",
              "        0.   ,  0.   ,  0.   ,  0.074,  0.   ,  0.   ,  0.   ,  0.   ,\n",
              "        0.   ,  0.   ,  0.   ,  0.   ,  0.   ,  0.   ,  0.   ,  0.   ,\n",
              "        0.   ,  0.   ,  0.   ,  0.   ,  3.33 ,  0.   ,  0.   ,  0.537,\n",
              "        0.   ,  0.   ,  0.   ,  0.   ,  0.   ,  0.   ,  0.   ,  0.   ,\n",
              "        0.   ,  0.   ,  0.   ,  0.   ,  0.   ,  0.   ,  0.   ,  0.   ,\n",
              "        0.   ,  0.   ,  0.   ,  0.   ,  0.   ,  0.   ,  0.   ,  0.   ,\n",
              "        0.   ,  0.   ,  0.   ,  0.   ,  0.   ,  0.   ,  0.   ,  0.   ,\n",
              "        0.   ,  0.   ,  0.   ,  0.   ,  0.   ,  0.   ,  0.   ,  0.   ,\n",
              "        0.   ,  0.   ,  0.   ,  0.   ,  0.509,  0.   ,  0.   ,  0.   ,\n",
              "        0.   ,  0.   ,  0.   ,  0.   ,  0.   ,  0.   ,  0.   ,  0.   ,\n",
              "        0.   ,  0.   ,  0.   ,  0.   ,  0.   ,  0.   ,  0.   ,  0.   ,\n",
              "        0.   ,  0.   ,  0.   ,  0.   ,  0.   ,  0.   ,  0.   ,  0.   ,\n",
              "        0.   ,  0.   ,  0.064,  0.   ,  0.   ,  0.   ,  0.   ,  0.   ,\n",
              "        0.   ,  0.984,  0.   ,  0.   ,  0.   ,  0.   ,  0.   ,  0.   ,\n",
              "        0.   ,  0.   ,  0.   ,  0.   ,  0.   ,  0.   ,  0.   ,  0.   ,\n",
              "        0.   ,  0.   ,  0.   ,  0.   ,  0.   ,  0.   ,  0.   ,  0.   ,\n",
              "        0.   ,  0.   ,  0.971,  0.089,  0.   ,  0.   ,  0.   ,  0.   ,\n",
              "        0.   ,  0.   ,  0.   ,  0.   ,  0.   ,  0.   ,  0.   ,  0.   ,\n",
              "        0.   ,  0.   ,  0.   ,  0.   ,  0.   ,  0.   ,  0.   ,  0.   ,\n",
              "        0.   ,  0.   ,  0.   ,  0.   ,  0.   ,  0.   ,  0.   ,  0.   ,\n",
              "        0.   ,  0.   ,  0.   ,  0.   ,  0.   ])"
            ]
          },
          "execution_count": 35,
          "metadata": {},
          "output_type": "execute_result"
        }
      ],
      "source": [
        "LastPrice = np.array([1/p for p in StockData.tail(1).to_numpy()[0]])\n",
        "Initial_Portfolio = np.multiply(mvo_weights, LastPrice)\n",
        "Initial_Portfolio"
      ]
    },
    {
      "cell_type": "code",
      "execution_count": 36,
      "metadata": {
        "id": "ZAd1iXqZhQ6X"
      },
      "outputs": [
        {
          "data": {
            "text/html": [
              "<div>\n",
              "<style scoped>\n",
              "    .dataframe tbody tr th:only-of-type {\n",
              "        vertical-align: middle;\n",
              "    }\n",
              "\n",
              "    .dataframe tbody tr th {\n",
              "        vertical-align: top;\n",
              "    }\n",
              "\n",
              "    .dataframe thead th {\n",
              "        text-align: right;\n",
              "    }\n",
              "</style>\n",
              "<table border=\"1\" class=\"dataframe\">\n",
              "  <thead>\n",
              "    <tr style=\"text-align: right;\">\n",
              "      <th></th>\n",
              "      <th>Mean Var</th>\n",
              "    </tr>\n",
              "    <tr>\n",
              "      <th>date</th>\n",
              "      <th></th>\n",
              "    </tr>\n",
              "  </thead>\n",
              "  <tbody>\n",
              "    <tr>\n",
              "      <th>2022-07-01</th>\n",
              "      <td>10222.866730</td>\n",
              "    </tr>\n",
              "    <tr>\n",
              "      <th>2022-07-05</th>\n",
              "      <td>10224.437485</td>\n",
              "    </tr>\n",
              "    <tr>\n",
              "      <th>2022-07-06</th>\n",
              "      <td>10260.649426</td>\n",
              "    </tr>\n",
              "    <tr>\n",
              "      <th>2022-07-07</th>\n",
              "      <td>10417.374878</td>\n",
              "    </tr>\n",
              "    <tr>\n",
              "      <th>2022-07-08</th>\n",
              "      <td>10392.260425</td>\n",
              "    </tr>\n",
              "    <tr>\n",
              "      <th>...</th>\n",
              "      <td>...</td>\n",
              "    </tr>\n",
              "    <tr>\n",
              "      <th>2023-11-20</th>\n",
              "      <td>12737.658774</td>\n",
              "    </tr>\n",
              "    <tr>\n",
              "      <th>2023-11-21</th>\n",
              "      <td>12751.615074</td>\n",
              "    </tr>\n",
              "    <tr>\n",
              "      <th>2023-11-22</th>\n",
              "      <td>12813.272291</td>\n",
              "    </tr>\n",
              "    <tr>\n",
              "      <th>2023-11-24</th>\n",
              "      <td>12868.357210</td>\n",
              "    </tr>\n",
              "    <tr>\n",
              "      <th>2023-11-27</th>\n",
              "      <td>12920.193659</td>\n",
              "    </tr>\n",
              "  </tbody>\n",
              "</table>\n",
              "<p>354 rows × 1 columns</p>\n",
              "</div>"
            ],
            "text/plain": [
              "                Mean Var\n",
              "date                    \n",
              "2022-07-01  10222.866730\n",
              "2022-07-05  10224.437485\n",
              "2022-07-06  10260.649426\n",
              "2022-07-07  10417.374878\n",
              "2022-07-08  10392.260425\n",
              "...                  ...\n",
              "2023-11-20  12737.658774\n",
              "2023-11-21  12751.615074\n",
              "2023-11-22  12813.272291\n",
              "2023-11-24  12868.357210\n",
              "2023-11-27  12920.193659\n",
              "\n",
              "[354 rows x 1 columns]"
            ]
          },
          "execution_count": 36,
          "metadata": {},
          "output_type": "execute_result"
        }
      ],
      "source": [
        "Portfolio_Assets = TradeData @ Initial_Portfolio\n",
        "MVO_result = pd.DataFrame(Portfolio_Assets, columns=[\"Mean Var\"])\n",
        "MVO_result"
      ]
    },
    {
      "cell_type": "markdown",
      "metadata": {
        "id": "I5sgGe7g1HsL"
      },
      "source": [
        "# Part 4: DJIA index"
      ]
    },
    {
      "cell_type": "markdown",
      "metadata": {
        "id": "sVe_ufxTY2CW"
      },
      "source": [
        "Add DJIA index as a baseline to compare with."
      ]
    },
    {
      "cell_type": "code",
      "execution_count": 37,
      "metadata": {
        "id": "sACPzsI-6k8q"
      },
      "outputs": [],
      "source": [
        "TRAIN_START_DATE = \"2009-01-01\"\n",
        "TRAIN_END_DATE = \"2022-07-01\"\n",
        "TRADE_START_DATE = \"2022-07-01\"\n",
        "TRADE_END_DATE = \"2023-11-29\""
      ]
    },
    {
      "cell_type": "code",
      "execution_count": 38,
      "metadata": {
        "colab": {
          "base_uri": "https://localhost:8080/"
        },
        "id": "TuszW-OB1K0m",
        "outputId": "b89a8350-de58-4fea-8e4b-856efa872712"
      },
      "outputs": [
        {
          "name": "stdout",
          "output_type": "stream",
          "text": [
            "[*********************100%%**********************]  1 of 1 completed\n",
            "Shape of DataFrame:  (355, 8)\n",
            "[*********************100%%**********************]  1 of 1 completed"
          ]
        },
        {
          "name": "stderr",
          "output_type": "stream",
          "text": [
            "/opt/homebrew/lib/python3.10/site-packages/yfinance/utils.py:771: FutureWarning: The 'unit' keyword in TimedeltaIndex construction is deprecated and will be removed in a future version. Use pd.to_timedelta instead.\n",
            "  df.index += _pd.TimedeltaIndex(dst_error_hours, 'h')\n",
            "/opt/homebrew/lib/python3.10/site-packages/yfinance/utils.py:771: FutureWarning: The 'unit' keyword in TimedeltaIndex construction is deprecated and will be removed in a future version. Use pd.to_timedelta instead.\n",
            "  df.index += _pd.TimedeltaIndex(dst_error_hours, 'h')\n"
          ]
        },
        {
          "name": "stdout",
          "output_type": "stream",
          "text": [
            "\n",
            "Shape of DataFrame:  (355, 8)\n",
            "[*********************100%%**********************]  1 of 1 completed\n",
            "Shape of DataFrame:  (355, 8)\n",
            "[*********************100%%**********************]  1 of 1 completed"
          ]
        },
        {
          "name": "stderr",
          "output_type": "stream",
          "text": [
            "/opt/homebrew/lib/python3.10/site-packages/yfinance/utils.py:771: FutureWarning: The 'unit' keyword in TimedeltaIndex construction is deprecated and will be removed in a future version. Use pd.to_timedelta instead.\n",
            "  df.index += _pd.TimedeltaIndex(dst_error_hours, 'h')\n",
            "/opt/homebrew/lib/python3.10/site-packages/yfinance/utils.py:771: FutureWarning: The 'unit' keyword in TimedeltaIndex construction is deprecated and will be removed in a future version. Use pd.to_timedelta instead.\n",
            "  df.index += _pd.TimedeltaIndex(dst_error_hours, 'h')\n"
          ]
        },
        {
          "name": "stdout",
          "output_type": "stream",
          "text": [
            "\n",
            "Shape of DataFrame:  (355, 8)\n",
            "[*********************100%%**********************]  1 of 1 completed\n",
            "Shape of DataFrame:  (355, 8)\n"
          ]
        },
        {
          "name": "stderr",
          "output_type": "stream",
          "text": [
            "/opt/homebrew/lib/python3.10/site-packages/yfinance/utils.py:771: FutureWarning: The 'unit' keyword in TimedeltaIndex construction is deprecated and will be removed in a future version. Use pd.to_timedelta instead.\n",
            "  df.index += _pd.TimedeltaIndex(dst_error_hours, 'h')\n"
          ]
        }
      ],
      "source": [
        "df_apple = YahooDownloader(\n",
        "    start_date=TRADE_START_DATE, end_date=TRADE_END_DATE, ticker_list=[\"AAPL\"]\n",
        ").fetch_data()\n",
        "\n",
        "df_crox = YahooDownloader(\n",
        "    start_date=TRADE_START_DATE, end_date=TRADE_END_DATE, ticker_list=[\"CROX\"]\n",
        ").fetch_data()\n",
        "\n",
        "df_lly = YahooDownloader(\n",
        "    start_date=TRADE_START_DATE, end_date=TRADE_END_DATE, ticker_list=[\"LLY\"]\n",
        ").fetch_data()\n",
        "\n",
        "df_de = YahooDownloader(\n",
        "    start_date=TRADE_START_DATE, end_date=TRADE_END_DATE, ticker_list=[\"DE\"]\n",
        ").fetch_data()\n",
        "\n",
        "df_sp500 = YahooDownloader(\n",
        "    start_date=TRADE_START_DATE, end_date=TRADE_END_DATE, ticker_list=[\"^GSPC\"]\n",
        ").fetch_data()\n",
        "\n"
      ]
    },
    {
      "cell_type": "code",
      "execution_count": 39,
      "metadata": {
        "id": "Q3RXz72U1VbV"
      },
      "outputs": [],
      "source": [
        "df_apple = df_apple[[\"date\", \"close\"]]\n",
        "fst_day = df_apple[\"close\"][0]\n",
        "apple = pd.merge(\n",
        "    df_apple[\"date\"],\n",
        "   df_apple[\"close\"].div(fst_day).mul(10000),\n",
        "    how=\"outer\",\n",
        "    left_index=True,\n",
        "    right_index=True,\n",
        ").set_index(\"date\")\n",
        "\n",
        "df_crox = df_crox[[\"date\", \"close\"]]\n",
        "fst_day = df_crox[\"close\"][0]\n",
        "crox = pd.merge(\n",
        "    df_crox[\"date\"],\n",
        "    df_crox[\"close\"].div(fst_day).mul(10000),\n",
        "    how=\"outer\",\n",
        "    left_index=True,\n",
        "    right_index=True,\n",
        ").set_index(\"date\")\n",
        "\n",
        "df_lly = df_lly[[\"date\", \"close\"]]\n",
        "fst_day = df_lly[\"close\"][0]\n",
        "lly = pd.merge(\n",
        "    df_lly[\"date\"],\n",
        "    df_lly[\"close\"].div(fst_day).mul(10000),\n",
        "    how=\"outer\",\n",
        "    left_index=True,\n",
        "    right_index=True,\n",
        ").set_index(\"date\")\n",
        "\n",
        "df_de = df_de[[\"date\", \"close\"]]\n",
        "fst_day = df_de[\"close\"][0]\n",
        "de = pd.merge(\n",
        "    df_de[\"date\"],\n",
        "    df_de[\"close\"].div(fst_day).mul(10000),\n",
        "    how=\"outer\",\n",
        "    left_index=True,\n",
        "    right_index=True,\n",
        ").set_index(\"date\")\n",
        "\n",
        "df_sp500 = df_sp500[[\"date\", \"close\"]]\n",
        "fst_day = df_sp500[\"close\"][0]\n",
        "sp500 = pd.merge(\n",
        "    df_sp500[\"date\"],\n",
        "    df_sp500[\"close\"].div(fst_day).mul(10000),\n",
        "    how=\"outer\",\n",
        "    left_index=True,\n",
        "    right_index=True,\n",
        ").set_index(\"date\")"
      ]
    },
    {
      "cell_type": "markdown",
      "metadata": {
        "id": "W6vvNSC6h1jZ"
      },
      "source": [
        "<a id='4'></a>\n",
        "# Part 5: Backtesting Results\n",
        "Backtesting plays a key role in evaluating the performance of a trading strategy. Automated backtesting tool is preferred because it reduces the human error. We usually use the Quantopian pyfolio package to backtest our trading strategies. It is easy to use and consists of various individual plots that provide a comprehensive image of the performance of a trading strategy."
      ]
    },
    {
      "cell_type": "code",
      "execution_count": 40,
      "metadata": {
        "id": "KeDeGAc9VrEg"
      },
      "outputs": [],
      "source": [
        "df_result_a2c = (\n",
        "    df_account_value_a2c.set_index(df_account_value_a2c.columns[0])\n",
        "    if if_using_a2c\n",
        "    else None\n",
        ")\n",
        "df_result_ddpg = (\n",
        "    df_account_value_ddpg.set_index(df_account_value_ddpg.columns[0])\n",
        "    if if_using_ddpg\n",
        "    else None\n",
        ")\n",
        "df_result_ppo = (\n",
        "    df_account_value_ppo.set_index(df_account_value_ppo.columns[0])\n",
        "    if if_using_ppo\n",
        "    else None\n",
        ")\n",
        "df_result_td3 = (\n",
        "    df_account_value_td3.set_index(df_account_value_td3.columns[0])\n",
        "    if if_using_td3\n",
        "    else None\n",
        ")\n",
        "df_result_sac = (\n",
        "    df_account_value_sac.set_index(df_account_value_sac.columns[0])\n",
        "    if if_using_sac\n",
        "    else None\n",
        ")\n",
        "\n",
        "df_result_ddpg_good = (\n",
        "    df_account_value_ddpg_good.set_index(df_account_value_ddpg_good.columns[0])\n",
        "    if if_using_ddpg_good\n",
        "    else None\n",
        ")\n",
        "\n",
        "result = pd.DataFrame(\n",
        "    {\n",
        "        \"a2c\": df_result_a2c[\"account_value\"] if if_using_a2c else None,\n",
        "        \"ddpg\": df_result_ddpg[\"account_value\"] if if_using_ddpg else None,\n",
        "        \"ppo\": df_result_ppo[\"account_value\"] if if_using_ppo else None,\n",
        "        \"td3\": df_result_td3[\"account_value\"] if if_using_td3 else None,\n",
        "        \"sac\": df_result_sac[\"account_value\"] if if_using_sac else None,\n",
        "        \"ddpg_good\": df_result_ddpg_good[\"account_value\"] if if_using_ddpg_good else None,\n",
        "        \"mvo\": MVO_result[\"Mean Var\"],\n",
        "        # \"AAPL\": apple[\"close\"],\n",
        "        # \"CROX\": crox[\"close\"],\n",
        "        # \"LLY\": lly[\"close\"],\n",
        "        # \"DE\": de[\"close\"],\n",
        "        \"SP500\": sp500[\"close\"],\n",
        "    }\n",
        ")"
      ]
    },
    {
      "cell_type": "code",
      "execution_count": 41,
      "metadata": {
        "colab": {
          "base_uri": "https://localhost:8080/",
          "height": 455
        },
        "id": "l4FZxyDt3XaE",
        "outputId": "2e739637-bf88-4698-9cf1-9a526452e465"
      },
      "outputs": [
        {
          "data": {
            "text/html": [
              "<div>\n",
              "<style scoped>\n",
              "    .dataframe tbody tr th:only-of-type {\n",
              "        vertical-align: middle;\n",
              "    }\n",
              "\n",
              "    .dataframe tbody tr th {\n",
              "        vertical-align: top;\n",
              "    }\n",
              "\n",
              "    .dataframe thead th {\n",
              "        text-align: right;\n",
              "    }\n",
              "</style>\n",
              "<table border=\"1\" class=\"dataframe\">\n",
              "  <thead>\n",
              "    <tr style=\"text-align: right;\">\n",
              "      <th></th>\n",
              "      <th>a2c</th>\n",
              "      <th>ddpg</th>\n",
              "      <th>ppo</th>\n",
              "      <th>td3</th>\n",
              "      <th>sac</th>\n",
              "      <th>ddpg_good</th>\n",
              "      <th>mvo</th>\n",
              "      <th>SP500</th>\n",
              "    </tr>\n",
              "    <tr>\n",
              "      <th>date</th>\n",
              "      <th></th>\n",
              "      <th></th>\n",
              "      <th></th>\n",
              "      <th></th>\n",
              "      <th></th>\n",
              "      <th></th>\n",
              "      <th></th>\n",
              "      <th></th>\n",
              "    </tr>\n",
              "  </thead>\n",
              "  <tbody>\n",
              "    <tr>\n",
              "      <th>2022-07-01</th>\n",
              "      <td>10000.000000</td>\n",
              "      <td>10000.000000</td>\n",
              "      <td>10000.000000</td>\n",
              "      <td>10000.000000</td>\n",
              "      <td>None</td>\n",
              "      <td>None</td>\n",
              "      <td>10222.866730</td>\n",
              "      <td>10000.000000</td>\n",
              "    </tr>\n",
              "    <tr>\n",
              "      <th>2022-07-05</th>\n",
              "      <td>10137.574694</td>\n",
              "      <td>9809.203394</td>\n",
              "      <td>10131.290061</td>\n",
              "      <td>10083.103868</td>\n",
              "      <td>None</td>\n",
              "      <td>None</td>\n",
              "      <td>10224.437485</td>\n",
              "      <td>10015.841285</td>\n",
              "    </tr>\n",
              "    <tr>\n",
              "      <th>2022-07-06</th>\n",
              "      <td>10195.568836</td>\n",
              "      <td>9902.812332</td>\n",
              "      <td>10202.139833</td>\n",
              "      <td>9826.052858</td>\n",
              "      <td>None</td>\n",
              "      <td>None</td>\n",
              "      <td>10260.649426</td>\n",
              "      <td>10051.629532</td>\n",
              "    </tr>\n",
              "    <tr>\n",
              "      <th>2022-07-07</th>\n",
              "      <td>10570.122316</td>\n",
              "      <td>10027.649586</td>\n",
              "      <td>10401.561993</td>\n",
              "      <td>10181.985905</td>\n",
              "      <td>None</td>\n",
              "      <td>None</td>\n",
              "      <td>10417.374878</td>\n",
              "      <td>10202.048026</td>\n",
              "    </tr>\n",
              "    <tr>\n",
              "      <th>2022-07-08</th>\n",
              "      <td>10475.262919</td>\n",
              "      <td>9966.081667</td>\n",
              "      <td>10408.411395</td>\n",
              "      <td>9992.779777</td>\n",
              "      <td>None</td>\n",
              "      <td>None</td>\n",
              "      <td>10392.260425</td>\n",
              "      <td>10193.577556</td>\n",
              "    </tr>\n",
              "    <tr>\n",
              "      <th>...</th>\n",
              "      <td>...</td>\n",
              "      <td>...</td>\n",
              "      <td>...</td>\n",
              "      <td>...</td>\n",
              "      <td>...</td>\n",
              "      <td>...</td>\n",
              "      <td>...</td>\n",
              "      <td>...</td>\n",
              "    </tr>\n",
              "    <tr>\n",
              "      <th>2023-11-21</th>\n",
              "      <td>12406.556976</td>\n",
              "      <td>10008.008152</td>\n",
              "      <td>20324.529815</td>\n",
              "      <td>7475.917093</td>\n",
              "      <td>None</td>\n",
              "      <td>None</td>\n",
              "      <td>12751.615074</td>\n",
              "      <td>11863.525104</td>\n",
              "    </tr>\n",
              "    <tr>\n",
              "      <th>2023-11-22</th>\n",
              "      <td>12463.210133</td>\n",
              "      <td>9918.723698</td>\n",
              "      <td>20109.435584</td>\n",
              "      <td>7589.380564</td>\n",
              "      <td>None</td>\n",
              "      <td>None</td>\n",
              "      <td>12813.272291</td>\n",
              "      <td>11911.704413</td>\n",
              "    </tr>\n",
              "    <tr>\n",
              "      <th>2023-11-24</th>\n",
              "      <td>12435.045252</td>\n",
              "      <td>9871.891237</td>\n",
              "      <td>19918.259070</td>\n",
              "      <td>7690.231010</td>\n",
              "      <td>None</td>\n",
              "      <td>None</td>\n",
              "      <td>12868.357210</td>\n",
              "      <td>11918.814195</td>\n",
              "    </tr>\n",
              "    <tr>\n",
              "      <th>2023-11-27</th>\n",
              "      <td>12595.439203</td>\n",
              "      <td>9795.128883</td>\n",
              "      <td>20011.780790</td>\n",
              "      <td>7774.469763</td>\n",
              "      <td>None</td>\n",
              "      <td>None</td>\n",
              "      <td>12920.193659</td>\n",
              "      <td>11895.522956</td>\n",
              "    </tr>\n",
              "    <tr>\n",
              "      <th>2023-11-28</th>\n",
              "      <td>NaN</td>\n",
              "      <td>NaN</td>\n",
              "      <td>NaN</td>\n",
              "      <td>NaN</td>\n",
              "      <td>None</td>\n",
              "      <td>None</td>\n",
              "      <td>NaN</td>\n",
              "      <td>11907.181978</td>\n",
              "    </tr>\n",
              "  </tbody>\n",
              "</table>\n",
              "<p>355 rows × 8 columns</p>\n",
              "</div>"
            ],
            "text/plain": [
              "                     a2c          ddpg           ppo           td3   sac  \\\n",
              "date                                                                       \n",
              "2022-07-01  10000.000000  10000.000000  10000.000000  10000.000000  None   \n",
              "2022-07-05  10137.574694   9809.203394  10131.290061  10083.103868  None   \n",
              "2022-07-06  10195.568836   9902.812332  10202.139833   9826.052858  None   \n",
              "2022-07-07  10570.122316  10027.649586  10401.561993  10181.985905  None   \n",
              "2022-07-08  10475.262919   9966.081667  10408.411395   9992.779777  None   \n",
              "...                  ...           ...           ...           ...   ...   \n",
              "2023-11-21  12406.556976  10008.008152  20324.529815   7475.917093  None   \n",
              "2023-11-22  12463.210133   9918.723698  20109.435584   7589.380564  None   \n",
              "2023-11-24  12435.045252   9871.891237  19918.259070   7690.231010  None   \n",
              "2023-11-27  12595.439203   9795.128883  20011.780790   7774.469763  None   \n",
              "2023-11-28           NaN           NaN           NaN           NaN  None   \n",
              "\n",
              "           ddpg_good           mvo         SP500  \n",
              "date                                              \n",
              "2022-07-01      None  10222.866730  10000.000000  \n",
              "2022-07-05      None  10224.437485  10015.841285  \n",
              "2022-07-06      None  10260.649426  10051.629532  \n",
              "2022-07-07      None  10417.374878  10202.048026  \n",
              "2022-07-08      None  10392.260425  10193.577556  \n",
              "...              ...           ...           ...  \n",
              "2023-11-21      None  12751.615074  11863.525104  \n",
              "2023-11-22      None  12813.272291  11911.704413  \n",
              "2023-11-24      None  12868.357210  11918.814195  \n",
              "2023-11-27      None  12920.193659  11895.522956  \n",
              "2023-11-28      None           NaN  11907.181978  \n",
              "\n",
              "[355 rows x 8 columns]"
            ]
          },
          "execution_count": 41,
          "metadata": {},
          "output_type": "execute_result"
        }
      ],
      "source": [
        "result"
      ]
    },
    {
      "cell_type": "markdown",
      "metadata": {
        "id": "QQuc5hI9Yklt"
      },
      "source": [
        "Now, everything is ready, we can plot the backtest result."
      ]
    },
    {
      "cell_type": "code",
      "execution_count": 42,
      "metadata": {
        "colab": {
          "base_uri": "https://localhost:8080/",
          "height": 381
        },
        "id": "6xRfrqK4RVfq",
        "outputId": "469c9729-fd57-417c-9b13-2243426923e2"
      },
      "outputs": [
        {
          "data": {
            "text/plain": [
              "<Figure size 1500x500 with 0 Axes>"
            ]
          },
          "metadata": {},
          "output_type": "display_data"
        },
        {
          "data": {
            "image/png": "[encoded data removed]",
            "text/plain": [
              "<Figure size 1500x500 with 1 Axes>"
            ]
          },
          "metadata": {},
          "output_type": "display_data"
        }
      ],
      "source": [
        "plt.rcParams[\"figure.figsize\"] = (15,5)\n",
        "plt.figure()\n",
        "result.plot()\n",
        "plt.savefig(\"result.png\")"
      ]
    },
    {
      "cell_type": "code",
      "execution_count": null,
      "metadata": {},
      "outputs": [],
      "source": []
    },
    {
      "cell_type": "code",
      "execution_count": null,
      "metadata": {},
      "outputs": [],
      "source": []
    },
    {
      "cell_type": "code",
      "execution_count": null,
      "metadata": {},
      "outputs": [],
      "source": []
    },
    {
      "cell_type": "code",
      "execution_count": null,
      "metadata": {},
      "outputs": [],
      "source": []
    },
    {
      "cell_type": "code",
      "execution_count": null,
      "metadata": {},
      "outputs": [],
      "source": []
    },
    {
      "cell_type": "code",
      "execution_count": null,
      "metadata": {},
      "outputs": [],
      "source": []
    }
  ],
  "metadata": {
    "colab": {
      "collapsed_sections": [
        "GfZ5vY5wRjkJ"
      ],
      "provenance": []
    },
    "kernelspec": {
      "display_name": "Python 3",
      "name": "python3"
    },
    "language_info": {
      "codemirror_mode": {
        "name": "ipython",
        "version": 3
      },
      "file_extension": ".py",
      "mimetype": "text/x-python",
      "name": "python",
      "nbconvert_exporter": "python",
      "pygments_lexer": "ipython3",
      "version": "3.10.14"
    }
  },
  "nbformat": 4,
  "nbformat_minor": 0
}
