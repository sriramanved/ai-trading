{
  "cells": [
    {
      "cell_type": "markdown",
      "metadata": {
        "id": "1oWbj4HgqHBg"
      },
      "source": [
        "# Part 1. Install Packages"
      ]
    },
    {
      "cell_type": "code",
      "execution_count": 1,
      "metadata": {
        "id": "QJgoEYx3p_NG"
      },
      "outputs": [],
      "source": [
        "## install finrl library\n",
        "!pip install git+https://github.com/AI4Finance-Foundation/FinRL.git"
      ]
    },
    {
      "cell_type": "code",
      "execution_count": 1,
      "metadata": {
        "id": "mqfBOKz-qJYF"
      },
      "outputs": [],
      "source": [
        "import matplotlib.pyplot as plt\n",
        "import numpy as np\n",
        "import pandas as pd\n",
        "from stable_baselines3 import A2C, DDPG, PPO, SAC, TD3\n",
        "\n",
        "# from customDRL import DRLAgent\n",
        "from custommodels import DRLAgent\n",
        "# from finrl.agents.stablebaselines3.models import DRLAgent\n",
        "\n",
        "\n",
        "from finrl.config import INDICATORS, TRAINED_MODEL_DIR\n",
        "# from finrl.meta.env_stock_trading.env_stocktrading import StockTradingEnv\n",
        "from customenv import StockTradingEnv\n",
        "from finrl.meta.preprocessor.yahoodownloader import YahooDownloader\n",
        "\n",
        "%matplotlib inline"
      ]
    },
    {
      "cell_type": "markdown",
      "metadata": {
        "id": "mUF2P4hmqVjh"
      },
      "source": [
        "# Part 2. Backtesting"
      ]
    },
    {
      "cell_type": "markdown",
      "metadata": {
        "id": "BdU6qLsVWDxI"
      },
      "source": [
        "To backtest the agents, upload trade_data.csv in the same directory of this notebook. For Colab users, just upload trade_data.csv to the default directory."
      ]
    },
    {
      "cell_type": "code",
      "execution_count": 2,
      "metadata": {
        "id": "mSjBHn_MZr4U"
      },
      "outputs": [],
      "source": [
        "train = pd.read_csv('train_data_single.csv')\n",
        "trade = pd.read_csv('trade_data_single.csv')\n",
        "\n",
        "# If you are not using the data generated from part 1 of this tutorial, make sure \n",
        "# it has the columns and index in the form that could be make into the environment. \n",
        "# Then you can comment and skip the following lines.\n",
        "train = train.set_index(train.columns[0])\n",
        "train.index.names = ['']\n",
        "trade = trade.set_index(trade.columns[0])\n",
        "trade.index.names = ['']"
      ]
    },
    {
      "cell_type": "markdown",
      "metadata": {
        "id": "qu4Ey54b36oL"
      },
      "source": [
        "Then, upload the trained agent to the same directory, and set the corresponding variable to True."
      ]
    },
    {
      "cell_type": "code",
      "execution_count": 3,
      "metadata": {
        "id": "Z_mVZM4IIa55"
      },
      "outputs": [],
      "source": [
        "if_using_a2c = True\n",
        "if_using_ddpg = True\n",
        "if_using_ddpg_good = True\n",
        "if_using_ppo = True\n",
        "if_using_td3 = True\n",
        "if_using_sac = True"
      ]
    },
    {
      "cell_type": "markdown",
      "metadata": {
        "id": "73D4oRqAIkYj"
      },
      "source": [
        "Load the agents"
      ]
    },
    {
      "cell_type": "code",
      "execution_count": 27,
      "metadata": {
        "id": "6CagrX0I36ZN"
      },
      "outputs": [],
      "source": [
        "trained_a2c = A2C.load(TRAINED_MODEL_DIR + \"/agent_a2c\") if if_using_a2c else None\n",
        "trained_ddpg = DDPG.load(TRAINED_MODEL_DIR + \"/agent_ddpg\") if if_using_ddpg else None\n",
        "trained_ddpg_good = DDPG.load(TRAINED_MODEL_DIR + \"/agent_ddpg_good\") if if_using_ddpg_good else None\n",
        "trained_ppo = PPO.load(TRAINED_MODEL_DIR + \"/agent_ppo\") if if_using_ppo else None\n",
        "trained_td3 = TD3.load(TRAINED_MODEL_DIR + \"/agent_td3\") if if_using_td3 else None\n",
        "trained_sac = SAC.load(TRAINED_MODEL_DIR + \"/agent_sac\") if if_using_sac else None"
      ]
    },
    {
      "cell_type": "markdown",
      "metadata": {
        "id": "U5mmgQF_h1jQ"
      },
      "source": [
        "### Trading (Out-of-sample Performance)\n",
        "\n",
        "We update periodically in order to take full advantage of the data, e.g., retrain quarterly, monthly or weekly. We also tune the parameters along the way, in this notebook we use the in-sample data from 2009-01 to 2020-07 to tune the parameters once, so there is some alpha decay here as the length of trade date extends. \n",
        "\n",
        "Numerous hyperparameters – e.g. the learning rate, the total number of samples to train on – influence the learning process and are usually determined by testing some variations."
      ]
    },
    {
      "cell_type": "code",
      "execution_count": 28,
      "metadata": {
        "colab": {
          "base_uri": "https://localhost:8080/"
        },
        "id": "4H_w3SaBAkKU",
        "outputId": "fdaed3a7-d3a9-4cde-d194-ee4576057175"
      },
      "outputs": [
        {
          "name": "stdout",
          "output_type": "stream",
          "text": [
            "Stock Dimension: 1, State Space: 11\n"
          ]
        }
      ],
      "source": [
        "stock_dimension = len(trade.tic.unique())\n",
        "state_space = 1 + 2 * stock_dimension + len(INDICATORS) * stock_dimension\n",
        "print(f\"Stock Dimension: {stock_dimension}, State Space: {state_space}\")"
      ]
    },
    {
      "cell_type": "code",
      "execution_count": 29,
      "metadata": {
        "id": "nKNmQMqGAknW"
      },
      "outputs": [],
      "source": [
        "buy_cost_list = sell_cost_list = [0.001] * stock_dimension\n",
        "num_stock_shares = [0] * stock_dimension\n",
        "\n",
        "env_kwargs = {\n",
        "    \"hmax\": 100,\n",
        "    \"initial_amount\": 10000,\n",
        "    \"num_stock_shares\": num_stock_shares,\n",
        "    \"buy_cost_pct\": buy_cost_list,\n",
        "    \"sell_cost_pct\": sell_cost_list,\n",
        "    \"state_space\": state_space,\n",
        "    \"stock_dim\": stock_dimension,\n",
        "    \"tech_indicator_list\": INDICATORS,\n",
        "    \"action_space\": stock_dimension,\n",
        "    \"reward_scaling\": 1e-4,\n",
        "}"
      ]
    },
    {
      "cell_type": "code",
      "execution_count": 30,
      "metadata": {
        "id": "cIqoV0GSI52v"
      },
      "outputs": [],
      "source": [
        "e_trade_gym = StockTradingEnv(df = trade, turbulence_threshold = 70,risk_indicator_col='vix', **env_kwargs)\n",
        "# env_trade, obs_trade = e_trade_gym.get_sb_env()"
      ]
    },
    {
      "cell_type": "code",
      "execution_count": 31,
      "metadata": {
        "colab": {
          "base_uri": "https://localhost:8080/"
        },
        "id": "lbFchno5j3xs",
        "outputId": "44fffa47-3b47-4e7b-96c2-0a485e9efead"
      },
      "outputs": [
        {
          "name": "stdout",
          "output_type": "stream",
          "text": [
            "hit end lsdjflskdjflks!\n",
            "    actions        date\n",
            "0      [72]  2022-07-01\n",
            "1       NaN  2022-07-05\n",
            "2       NaN  2022-07-06\n",
            "3       NaN  2022-07-07\n",
            "4       NaN  2022-07-08\n",
            "..      ...         ...\n",
            "348     NaN  2023-11-17\n",
            "349     NaN  2023-11-20\n",
            "350     NaN  2023-11-21\n",
            "351     NaN  2023-11-22\n",
            "352     NaN  2023-11-24\n",
            "\n",
            "[353 rows x 2 columns]\n"
          ]
        }
      ],
      "source": [
        "df_account_value_a2c, df_actions_a2c = DRLAgent.DRL_prediction(\n",
        "    model=trained_a2c, \n",
        "    environment = e_trade_gym) if if_using_a2c else (None, None)\n",
        "\n",
        "df_actions_filled = df_actions_a2c.fillna(0)\n",
        "\n",
        "# Filter to keep only rows with at least one non-zero value\n",
        "non_zero_rows = df_actions_filled.loc[(df_actions_filled != 0).any(axis=1)]\n",
        "\n",
        "# For each row in the filtered DataFrame, keep only columns with non-zero values\n",
        "non_zero_actions_only = non_zero_rows.apply(lambda row: row[row != 0], axis=1)\n",
        "\n",
        "# # Print the resulting DataFrame\n",
        "print(non_zero_actions_only)"
      ]
    },
    {
      "cell_type": "code",
      "execution_count": 32,
      "metadata": {
        "id": "JbYljWGjj3pH"
      },
      "outputs": [
        {
          "name": "stdout",
          "output_type": "stream",
          "text": [
            "hit end lsdjflskdjflks!\n",
            "    actions        date\n",
            "0      [72]  2022-07-01\n",
            "1       NaN  2022-07-05\n",
            "2       NaN  2022-07-06\n",
            "3       NaN  2022-07-07\n",
            "4       NaN  2022-07-08\n",
            "..      ...         ...\n",
            "348     NaN  2023-11-17\n",
            "349     NaN  2023-11-20\n",
            "350     NaN  2023-11-21\n",
            "351     NaN  2023-11-22\n",
            "352     NaN  2023-11-24\n",
            "\n",
            "[353 rows x 2 columns]\n",
            "           date  account_value\n",
            "0    2022-07-01   10000.000000\n",
            "1    2022-07-05   10177.348934\n",
            "2    2022-07-06   10274.172543\n",
            "3    2022-07-07   10518.372250\n",
            "4    2022-07-08   10567.494320\n",
            "..          ...            ...\n",
            "349  2023-11-20   13847.238461\n",
            "350  2023-11-21   13789.072445\n",
            "351  2023-11-22   13837.184872\n",
            "352  2023-11-24   13740.958920\n",
            "353  2023-11-27   13728.032406\n",
            "\n",
            "[354 rows x 2 columns]\n"
          ]
        }
      ],
      "source": [
        "df_account_value_ddpg, df_actions_ddpg = DRLAgent.DRL_prediction(\n",
        "    model=trained_ddpg, \n",
        "    environment = e_trade_gym) if if_using_ddpg else (None, None)\n",
        "\n",
        "df_actions_filled = df_actions_ddpg.fillna(0)\n",
        "# Filter to keep only rows with at least one non-zero value\n",
        "non_zero_rows = df_actions_filled.loc[(df_actions_filled != 0).any(axis=1)]\n",
        "\n",
        "# For each row in the filtered DataFrame, keep only columns with non-zero values\n",
        "non_zero_actions_only = non_zero_rows.apply(lambda row: row[row != 0], axis=1)\n",
        "\n",
        "# Print the resulting DataFrame\n",
        "print(non_zero_actions_only)\n",
        "\n",
        "\n",
        "# print actions between 11-01-2022 and 02-06-2023\n",
        "# # index by date\n",
        "# for i in range(len(df_actions_ddpg)):\n",
        "#     print(df_actions_ddpg.iloc[i])\n",
        "print(df_account_value_ddpg)\n",
        "# plot actions between 11-01-2022 and 02-06-2023\n",
        "# plt.figure(figsize=(15, 5))\n",
        "# plt.subplot(1, 2, 1)\n",
        "# plt.title('DDPG')\n",
        "# plt.plot(df_account_value_ddpg[\"account_value\"])\n",
        "# plt.subplot(1, 2, 2)\n",
        "# plt.title('DDPG Actions')\n",
        "# plt.plot(df_actions_ddpg.index, df_actions_ddpg['actions'], marker='o', markersize=2, linestyle='')\n",
        "# plt.show()"
      ]
    },
    {
      "cell_type": "code",
      "execution_count": 33,
      "metadata": {
        "id": "74jNP2DBj3hb"
      },
      "outputs": [
        {
          "name": "stdout",
          "output_type": "stream",
          "text": [
            "hit end lsdjflskdjflks!\n",
            "           date\n",
            "0    2022-07-01\n",
            "1    2022-07-05\n",
            "2    2022-07-06\n",
            "3    2022-07-07\n",
            "4    2022-07-08\n",
            "..          ...\n",
            "348  2023-11-17\n",
            "349  2023-11-20\n",
            "350  2023-11-21\n",
            "351  2023-11-22\n",
            "352  2023-11-24\n",
            "\n",
            "[353 rows x 1 columns]\n"
          ]
        }
      ],
      "source": [
        "df_account_value_ppo, df_actions_ppo = DRLAgent.DRL_prediction(\n",
        "    model=trained_ppo, \n",
        "    environment = e_trade_gym) if if_using_ppo else (None, None)\n",
        "df_actions_filled = df_actions_ppo.fillna(0)\n",
        "\n",
        "# Filter to keep only rows with at least one non-zero value\n",
        "non_zero_rows = df_actions_filled.loc[(df_actions_filled != 0).any(axis=1)]\n",
        "\n",
        "# For each row in the filtered DataFrame, keep only columns with non-zero values\n",
        "non_zero_actions_only = non_zero_rows.apply(lambda row: row[row != 0], axis=1)\n",
        "\n",
        "# Print the resulting DataFrame\n",
        "print(non_zero_actions_only)"
      ]
    },
    {
      "cell_type": "code",
      "execution_count": 34,
      "metadata": {
        "id": "S7VyGGJPj3SH"
      },
      "outputs": [
        {
          "name": "stdout",
          "output_type": "stream",
          "text": [
            "hit end lsdjflskdjflks!\n",
            "           date\n",
            "0    2022-07-01\n",
            "1    2022-07-05\n",
            "2    2022-07-06\n",
            "3    2022-07-07\n",
            "4    2022-07-08\n",
            "..          ...\n",
            "348  2023-11-17\n",
            "349  2023-11-20\n",
            "350  2023-11-21\n",
            "351  2023-11-22\n",
            "352  2023-11-24\n",
            "\n",
            "[353 rows x 1 columns]\n"
          ]
        }
      ],
      "source": [
        "df_account_value_td3, df_actions_td3 = DRLAgent.DRL_prediction(\n",
        "    model=trained_td3, \n",
        "    environment = e_trade_gym) if if_using_td3 else (None, None)\n",
        "\n",
        "# print actions_td3 to see the actions taken by the agent, but only where not zero\n",
        "df_actions_filled = df_actions_td3.fillna(0)\n",
        "\n",
        "# Filter to keep only rows with at least one non-zero value\n",
        "non_zero_rows = df_actions_filled.loc[(df_actions_filled != 0).any(axis=1)]\n",
        "\n",
        "# For each row in the filtered DataFrame, keep only columns with non-zero values\n",
        "non_zero_actions_only = non_zero_rows.apply(lambda row: row[row != 0], axis=1)\n",
        "\n",
        "# Print the resulting DataFrame\n",
        "print(non_zero_actions_only)\n",
        "\n",
        "# print the date july 3rd 2020\n",
        "\n"
      ]
    },
    {
      "cell_type": "code",
      "execution_count": 35,
      "metadata": {
        "colab": {
          "base_uri": "https://localhost:8080/"
        },
        "id": "eLOnL5eYh1jR",
        "outputId": "70e50e24-aed5-49f9-cdd7-de6b9689d9ce"
      },
      "outputs": [
        {
          "name": "stdout",
          "output_type": "stream",
          "text": [
            "hit end lsdjflskdjflks!\n",
            "    actions        date\n",
            "0      [72]  2022-07-01\n",
            "1       NaN  2022-07-05\n",
            "2       NaN  2022-07-06\n",
            "3       NaN  2022-07-07\n",
            "4       NaN  2022-07-08\n",
            "..      ...         ...\n",
            "348     NaN  2023-11-17\n",
            "349     NaN  2023-11-20\n",
            "350     NaN  2023-11-21\n",
            "351     NaN  2023-11-22\n",
            "352     NaN  2023-11-24\n",
            "\n",
            "[353 rows x 2 columns]\n"
          ]
        }
      ],
      "source": [
        "df_account_value_sac, df_actions_sac = DRLAgent.DRL_prediction(\n",
        "    model=trained_sac, \n",
        "    environment = e_trade_gym) if if_using_sac else (None, None)\n",
        "\n",
        "if if_using_sac:\n",
        "    df_actions_filled = df_actions_sac\n",
        "\n",
        "    # Filter to keep only rows with at least one non-zero value\n",
        "    non_zero_rows = df_actions_filled.loc[(df_actions_filled != 0).any(axis=1)]\n",
        "\n",
        "    # For each row in the filtered DataFrame, keep only columns with non-zero values\n",
        "    non_zero_actions_only = non_zero_rows.apply(lambda row: row[row != 0], axis=1)\n",
        "\n",
        "    # Print the resulting DataFrame\n",
        "    print(non_zero_actions_only)"
      ]
    },
    {
      "cell_type": "code",
      "execution_count": 36,
      "metadata": {},
      "outputs": [
        {
          "name": "stdout",
          "output_type": "stream",
          "text": [
            "hit end lsdjflskdjflks!\n"
          ]
        }
      ],
      "source": [
        "df_account_value_ddpg_good, df_actions_ddpg_good = (\n",
        "    DRLAgent.DRL_prediction(model=trained_ddpg_good, environment=e_trade_gym)\n",
        "    if if_using_ddpg_good\n",
        "    else (None, None)\n",
        ")"
      ]
    },
    {
      "cell_type": "markdown",
      "metadata": {
        "id": "GcE-t08w6DaW"
      },
      "source": [
        "# Part 3: Mean Variance Optimization"
      ]
    },
    {
      "cell_type": "markdown",
      "metadata": {
        "id": "17TUs71EWj09"
      },
      "source": [
        "Mean Variance optimization is a very classic strategy in portfolio management. Here, we go through the whole process to do the mean variance optimization and add it as a baseline to compare.\n",
        "\n",
        "First, process dataframe to the form for MVO weight calculation."
      ]
    },
    {
      "cell_type": "code",
      "execution_count": 37,
      "metadata": {
        "id": "wungSNOwPwKR"
      },
      "outputs": [],
      "source": [
        "def process_df_for_mvo(df):\n",
        "  return df.pivot(index=\"date\", columns=\"tic\", values=\"close\")"
      ]
    },
    {
      "cell_type": "markdown",
      "metadata": {
        "id": "SwEwkHJ1d_6u"
      },
      "source": [
        "### Helper functions for mean returns and variance-covariance matrix"
      ]
    },
    {
      "cell_type": "code",
      "execution_count": 15,
      "metadata": {
        "id": "6KvXkpyE8MFq"
      },
      "outputs": [],
      "source": [
        "# Codes in this section partially refer to Dr G A Vijayalakshmi Pai\n",
        "\n",
        "# https://www.kaggle.com/code/vijipai/lesson-5-mean-variance-optimization-of-portfolios/notebook\n",
        "\n",
        "def StockReturnsComputing(StockPrice, Rows, Columns): \n",
        "  import numpy as np \n",
        "  StockReturn = np.zeros([Rows-1, Columns]) \n",
        "  for j in range(Columns):        # j: Assets \n",
        "    for i in range(Rows-1):     # i: Daily Prices \n",
        "      StockReturn[i,j]=((StockPrice[i+1, j]-StockPrice[i,j])/StockPrice[i,j])* 100 \n",
        "      \n",
        "  return StockReturn"
      ]
    },
    {
      "cell_type": "markdown",
      "metadata": {
        "id": "IeVVbuwveJ_5"
      },
      "source": [
        "### Calculate the weights for mean-variance"
      ]
    },
    {
      "cell_type": "code",
      "execution_count": 16,
      "metadata": {
        "colab": {
          "base_uri": "https://localhost:8080/"
        },
        "id": "kE8nruKLQYLO",
        "outputId": "42d07c80-f309-49f8-f2b4-36a51987086f"
      },
      "outputs": [
        {
          "data": {
            "text/plain": [
              "array([[137.3757782 ],\n",
              "       [139.97633362],\n",
              "       [141.32110596],\n",
              "       [144.71276855],\n",
              "       [145.39501953],\n",
              "       [143.2492981 ],\n",
              "       [144.22825623],\n",
              "       [143.8624115 ],\n",
              "       [146.80903625],\n",
              "       [148.49002075],\n",
              "       [145.42472839],\n",
              "       [149.31074524],\n",
              "       [151.32792664],\n",
              "       [153.61210632],\n",
              "       [152.36619568],\n",
              "       [151.23892212],\n",
              "       [149.90402222],\n",
              "       [155.03598022],\n",
              "       [155.58970642],\n",
              "       [160.69194031],\n",
              "       [159.70318604],\n",
              "       [158.21994019],\n",
              "       [164.27148438],\n",
              "       [163.95506287],\n",
              "       [163.72732544],\n",
              "       [163.25201416],\n",
              "       [163.30155945],\n",
              "       [167.5791626 ],\n",
              "       [166.83651733],\n",
              "       [170.41105652],\n",
              "       [171.4903717 ],\n",
              "       [171.3319397 ],\n",
              "       [172.83703613],\n",
              "       [172.44096375],\n",
              "       [169.83676147],\n",
              "       [165.92553711],\n",
              "       [165.58886719],\n",
              "       [165.88592529],\n",
              "       [168.36140442],\n",
              "       [162.01428223],\n",
              "       [159.79627991],\n",
              "       [157.3505249 ],\n",
              "       [155.67710876],\n",
              "       [156.40985107],\n",
              "       [154.28094482],\n",
              "       [153.01348877],\n",
              "       [154.42945862],\n",
              "       [152.94418335],\n",
              "       [155.82563782],\n",
              "       [161.82614136],\n",
              "       [152.33026123],\n",
              "       [153.7858429 ],\n",
              "       [150.87469482],\n",
              "       [149.22108459],\n",
              "       [152.96398926],\n",
              "       [155.36024475],\n",
              "       [152.21142578],\n",
              "       [151.24108887],\n",
              "       [148.95372009],\n",
              "       [149.29040527],\n",
              "       [150.27067566],\n",
              "       [148.36953735],\n",
              "       [141.08175659],\n",
              "       [136.84373474],\n",
              "       [141.05204773],\n",
              "       [144.66622925],\n",
              "       [144.96328735],\n",
              "       [144.00279236],\n",
              "       [138.71520996],\n",
              "       [139.04197693],\n",
              "       [137.61608887],\n",
              "       [136.9823761 ],\n",
              "       [141.58673096],\n",
              "       [137.02198792],\n",
              "       [141.01245117],\n",
              "       [142.33927917],\n",
              "       [142.44818115],\n",
              "       [141.9828186 ],\n",
              "       [145.82473755],\n",
              "       [147.9833374 ],\n",
              "       [150.84498596],\n",
              "       [147.88433838],\n",
              "       [143.37896729],\n",
              "       [154.21162415],\n",
              "       [151.83517456],\n",
              "       [149.17156982],\n",
              "       [143.60673523],\n",
              "       [137.51708984],\n",
              "       [137.24928284],\n",
              "       [137.78486633],\n",
              "       [138.36012268],\n",
              "       [133.76795959],\n",
              "       [145.66992188],\n",
              "       [148.47679138],\n",
              "       [147.06838989],\n",
              "       [148.81401062],\n",
              "       [147.57421875],\n",
              "       [149.48846436],\n",
              "       [150.05378723],\n",
              "       [146.80059814],\n",
              "       [148.95285034],\n",
              "       [149.83563232],\n",
              "       [146.89978027],\n",
              "       [143.04156494],\n",
              "       [140.01649475],\n",
              "       [146.82044983],\n",
              "       [147.09814453],\n",
              "       [146.60224915],\n",
              "       [145.43190002],\n",
              "       [141.74226379],\n",
              "       [139.78834534],\n",
              "       [141.48440552],\n",
              "       [140.99841309],\n",
              "       [143.30937195],\n",
              "       [144.28135681],\n",
              "       [142.03981018],\n",
              "       [135.38465881],\n",
              "       [133.41091919],\n",
              "       [131.28839111],\n",
              "       [131.21897888],\n",
              "       [134.3432312 ],\n",
              "       [131.14953613],\n",
              "       [130.78257751],\n",
              "       [128.9675293 ],\n",
              "       [125.01011658],\n",
              "       [128.55096436],\n",
              "       [128.86833191],\n",
              "       [124.0480423 ],\n",
              "       [125.32750702],\n",
              "       [123.99845123],\n",
              "       [128.56086731],\n",
              "       [129.08653259],\n",
              "       [129.6618042 ],\n",
              "       [132.39926147],\n",
              "       [132.31991577],\n",
              "       [133.65885925],\n",
              "       [134.82922363],\n",
              "       [134.10517883],\n",
              "       [134.16470337],\n",
              "       [136.74345398],\n",
              "       [139.95698547],\n",
              "       [141.36538696],\n",
              "       [140.70085144],\n",
              "       [142.78370667],\n",
              "       [144.7375946 ],\n",
              "       [141.83154297],\n",
              "       [143.11099243],\n",
              "       [144.24168396],\n",
              "       [149.58764648],\n",
              "       [153.23757935],\n",
              "       [150.49021912],\n",
              "       [153.38635254],\n",
              "       [150.67866516],\n",
              "       [149.63722229],\n",
              "       [150.004776  ],\n",
              "       [152.8258667 ],\n",
              "       [152.1802063 ],\n",
              "       [154.29600525],\n",
              "       [152.68681335],\n",
              "       [151.53453064],\n",
              "       [147.49160767],\n",
              "       [147.91876221],\n",
              "       [148.40550232],\n",
              "       [145.7334137 ],\n",
              "       [146.93533325],\n",
              "       [146.4287262 ],\n",
              "       [144.34269714],\n",
              "       [144.9387207 ],\n",
              "       [150.02462769],\n",
              "       [152.80599976],\n",
              "       [150.59086609],\n",
              "       [151.85240173],\n",
              "       [149.58757019],\n",
              "       [147.51147461],\n",
              "       [149.46836853],\n",
              "       [151.57426453],\n",
              "       [151.97158813],\n",
              "       [154.81256104],\n",
              "       [153.96821594],\n",
              "       [156.35223389],\n",
              "       [158.21972656],\n",
              "       [156.77937317],\n",
              "       [157.87205505],\n",
              "       [159.18325806],\n",
              "       [157.22637939],\n",
              "       [156.60057068],\n",
              "       [159.69981384],\n",
              "       [161.27922058],\n",
              "       [163.80230713],\n",
              "       [165.06387329],\n",
              "       [164.52745056],\n",
              "       [162.66989136],\n",
              "       [163.56391907],\n",
              "       [160.95143127],\n",
              "       [159.72961426],\n",
              "       [159.03427124],\n",
              "       [164.457901  ],\n",
              "       [164.11024475],\n",
              "       [164.13011169],\n",
              "       [165.36186218],\n",
              "       [166.51416016],\n",
              "       [165.54064941],\n",
              "       [163.92150879],\n",
              "       [164.22946167],\n",
              "       [162.67982483],\n",
              "       [162.66989136],\n",
              "       [167.28895569],\n",
              "       [168.55049133],\n",
              "       [168.46109009],\n",
              "       [167.4180603 ],\n",
              "       [166.33532715],\n",
              "       [164.68637085],\n",
              "       [172.41461182],\n",
              "       [172.34507751],\n",
              "       [170.62658691],\n",
              "       [172.40466309],\n",
              "       [172.59339905],\n",
              "       [171.65837097],\n",
              "       [171.161026  ],\n",
              "       [171.161026  ],\n",
              "       [171.77774048],\n",
              "       [174.12527466],\n",
              "       [174.23469543],\n",
              "       [173.27975464],\n",
              "       [170.65371704],\n",
              "       [170.93222046],\n",
              "       [172.07614136],\n",
              "       [174.50323486],\n",
              "       [176.3633728 ],\n",
              "       [176.31362915],\n",
              "       [179.1386261 ],\n",
              "       [179.99407959],\n",
              "       [178.63131714],\n",
              "       [178.26327515],\n",
              "       [176.88063049],\n",
              "       [179.61610413],\n",
              "       [180.00404358],\n",
              "       [182.81907654],\n",
              "       [182.34164429],\n",
              "       [182.97824097],\n",
              "       [185.02735901],\n",
              "       [183.94311523],\n",
              "       [184.03263855],\n",
              "       [182.98820496],\n",
              "       [186.01213074],\n",
              "       [185.69381714],\n",
              "       [184.29129028],\n",
              "       [187.06652832],\n",
              "       [188.25024414],\n",
              "       [188.58843994],\n",
              "       [192.94532776],\n",
              "       [191.4433136 ],\n",
              "       [190.3192749 ],\n",
              "       [190.79672241],\n",
              "       [189.67268372],\n",
              "       [187.6136322 ],\n",
              "       [187.08644104],\n",
              "       [188.76750183],\n",
              "       [189.53341675],\n",
              "       [189.68263245],\n",
              "       [192.96520996],\n",
              "       [192.70657349],\n",
              "       [194.0693512 ],\n",
              "       [192.10975647],\n",
              "       [190.92605591],\n",
              "       [191.73175049],\n",
              "       [192.59716797],\n",
              "       [193.47251892],\n",
              "       [192.19926453],\n",
              "       [194.79550171],\n",
              "       [195.41221619],\n",
              "       [194.5766449 ],\n",
              "       [191.56265259],\n",
              "       [190.16011047],\n",
              "       [181.02861023],\n",
              "       [177.90518188],\n",
              "       [178.85015869],\n",
              "       [177.24865723],\n",
              "       [177.02984619],\n",
              "       [177.08961487],\n",
              "       [178.7530365 ],\n",
              "       [176.75094604],\n",
              "       [175.87442017],\n",
              "       [173.31454468],\n",
              "       [173.8026123 ],\n",
              "       [175.14727783],\n",
              "       [176.53179932],\n",
              "       [180.40649414],\n",
              "       [175.68515015],\n",
              "       [177.90637207],\n",
              "       [179.48014832],\n",
              "       [183.39466858],\n",
              "       [186.9107666 ],\n",
              "       [187.12989807],\n",
              "       [188.71363831],\n",
              "       [188.9526825 ],\n",
              "       [182.18943787],\n",
              "       [176.86051941],\n",
              "       [177.47805786],\n",
              "       [178.65342712],\n",
              "       [175.60546875],\n",
              "       [173.5236969 ],\n",
              "       [175.04769897],\n",
              "       [174.32054138],\n",
              "       [177.26890564],\n",
              "       [178.36456299],\n",
              "       [174.79866028],\n",
              "       [173.24481201],\n",
              "       [174.10140991],\n",
              "       [175.38633728],\n",
              "       [171.28257751],\n",
              "       [169.75857544],\n",
              "       [170.01757812],\n",
              "       [170.53552246],\n",
              "       [173.06552124],\n",
              "       [171.72084045],\n",
              "       [172.97587585],\n",
              "       [174.22096252],\n",
              "       [176.790802  ],\n",
              "       [178.28488159],\n",
              "       [177.6872406 ],\n",
              "       [179.09169006],\n",
              "       [179.99810791],\n",
              "       [178.14543152],\n",
              "       [178.01594543],\n",
              "       [176.45211792],\n",
              "       [175.14727783],\n",
              "       [174.76879883],\n",
              "       [172.19894409],\n",
              "       [172.31848145],\n",
              "       [172.75674438],\n",
              "       [170.42597961],\n",
              "       [166.2325592 ],\n",
              "       [167.55731201],\n",
              "       [169.61914062],\n",
              "       [170.09725952],\n",
              "       [173.28465271],\n",
              "       [176.8704834 ],\n",
              "       [175.9540863 ],\n",
              "       [178.52392578],\n",
              "       [181.10372925],\n",
              "       [182.16950989],\n",
              "       [181.69139099],\n",
              "       [185.91027832],\n",
              "       [184.3144989 ],\n",
              "       [186.94755554],\n",
              "       [187.51605225],\n",
              "       [189.21160889],\n",
              "       [189.19165039],\n",
              "       [190.94702148],\n",
              "       [190.13916016],\n",
              "       [190.80738831],\n",
              "       [189.47091675],\n",
              "       [189.29138184]])"
            ]
          },
          "execution_count": 16,
          "metadata": {},
          "output_type": "execute_result"
        }
      ],
      "source": [
        "StockData = process_df_for_mvo(train)\n",
        "TradeData = process_df_for_mvo(trade)\n",
        "\n",
        "TradeData.to_numpy()"
      ]
    },
    {
      "cell_type": "code",
      "execution_count": 17,
      "metadata": {
        "colab": {
          "base_uri": "https://localhost:8080/"
        },
        "id": "u6_O6vrn_uD4",
        "outputId": "0c2f8bf7-07e7-4fe5-c409-93312b95a8dd"
      },
      "outputs": [
        {
          "name": "stdout",
          "output_type": "stream",
          "text": [
            "Mean returns of assets in k-portfolio 1\n",
            " [0.131]\n",
            "Variance-Covariance matrix of returns\n",
            " 3.2957963185202797\n"
          ]
        }
      ],
      "source": [
        "#compute asset returns\n",
        "arStockPrices = np.asarray(StockData)\n",
        "[Rows, Cols]=arStockPrices.shape\n",
        "arReturns = StockReturnsComputing(arStockPrices, Rows, Cols)\n",
        "\n",
        "#compute mean returns and variance covariance matrix of returns\n",
        "meanReturns = np.mean(arReturns, axis = 0)\n",
        "covReturns = np.cov(arReturns, rowvar=False)\n",
        " \n",
        "#set precision for printing results\n",
        "np.set_printoptions(precision=3, suppress = True)\n",
        "\n",
        "#display mean returns and variance-covariance matrix of returns\n",
        "print('Mean returns of assets in k-portfolio 1\\n', meanReturns)\n",
        "print('Variance-Covariance matrix of returns\\n', covReturns)"
      ]
    },
    {
      "cell_type": "markdown",
      "metadata": {
        "id": "zC7r-cI8RR1X"
      },
      "source": [
        "### Use PyPortfolioOpt"
      ]
    },
    {
      "cell_type": "code",
      "execution_count": 18,
      "metadata": {
        "colab": {
          "base_uri": "https://localhost:8080/"
        },
        "id": "b1btTONEdCU4",
        "outputId": "75096462-7dfb-4ce6-c6f4-4671f11e79fc"
      },
      "outputs": [
        {
          "ename": "ValueError",
          "evalue": "Covariance matrix does not match expected returns",
          "output_type": "error",
          "traceback": [
            "\u001b[0;31m---------------------------------------------------------------------------\u001b[0m",
            "\u001b[0;31mValueError\u001b[0m                                Traceback (most recent call last)",
            "Cell \u001b[0;32mIn[18], line 3\u001b[0m\n\u001b[1;32m      1\u001b[0m \u001b[38;5;28;01mfrom\u001b[39;00m \u001b[38;5;21;01mpypfopt\u001b[39;00m\u001b[38;5;21;01m.\u001b[39;00m\u001b[38;5;21;01mefficient_frontier\u001b[39;00m \u001b[38;5;28;01mimport\u001b[39;00m EfficientFrontier\n\u001b[0;32m----> 3\u001b[0m ef_mean \u001b[38;5;241m=\u001b[39m \u001b[43mEfficientFrontier\u001b[49m\u001b[43m(\u001b[49m\u001b[43mmeanReturns\u001b[49m\u001b[43m,\u001b[49m\u001b[43m \u001b[49m\u001b[43mcovReturns\u001b[49m\u001b[43m,\u001b[49m\u001b[43m \u001b[49m\u001b[43mweight_bounds\u001b[49m\u001b[38;5;241;43m=\u001b[39;49m\u001b[43m(\u001b[49m\u001b[38;5;241;43m0\u001b[39;49m\u001b[43m,\u001b[49m\u001b[43m \u001b[49m\u001b[38;5;241;43m0.5\u001b[39;49m\u001b[43m)\u001b[49m\u001b[43m)\u001b[49m\n\u001b[1;32m      4\u001b[0m raw_weights_mean \u001b[38;5;241m=\u001b[39m ef_mean\u001b[38;5;241m.\u001b[39mmax_sharpe()\n\u001b[1;32m      5\u001b[0m cleaned_weights_mean \u001b[38;5;241m=\u001b[39m ef_mean\u001b[38;5;241m.\u001b[39mclean_weights()\n",
            "File \u001b[0;32m/opt/homebrew/lib/python3.10/site-packages/pypfopt/efficient_frontier/efficient_frontier.py:105\u001b[0m, in \u001b[0;36mEfficientFrontier.__init__\u001b[0;34m(self, expected_returns, cov_matrix, weight_bounds, solver, verbose, solver_options)\u001b[0m\n\u001b[1;32m    103\u001b[0m \u001b[38;5;28;01mif\u001b[39;00m expected_returns \u001b[38;5;129;01mis\u001b[39;00m \u001b[38;5;129;01mnot\u001b[39;00m \u001b[38;5;28;01mNone\u001b[39;00m \u001b[38;5;129;01mand\u001b[39;00m cov_matrix \u001b[38;5;129;01mis\u001b[39;00m \u001b[38;5;129;01mnot\u001b[39;00m \u001b[38;5;28;01mNone\u001b[39;00m:\n\u001b[1;32m    104\u001b[0m     \u001b[38;5;28;01mif\u001b[39;00m cov_matrix\u001b[38;5;241m.\u001b[39mshape \u001b[38;5;241m!=\u001b[39m (num_assets, num_assets):\n\u001b[0;32m--> 105\u001b[0m         \u001b[38;5;28;01mraise\u001b[39;00m \u001b[38;5;167;01mValueError\u001b[39;00m(\u001b[38;5;124m\"\u001b[39m\u001b[38;5;124mCovariance matrix does not match expected returns\u001b[39m\u001b[38;5;124m\"\u001b[39m)\n\u001b[1;32m    107\u001b[0m \u001b[38;5;28msuper\u001b[39m()\u001b[38;5;241m.\u001b[39m\u001b[38;5;21m__init__\u001b[39m(\n\u001b[1;32m    108\u001b[0m     \u001b[38;5;28mlen\u001b[39m(tickers),\n\u001b[1;32m    109\u001b[0m     tickers,\n\u001b[0;32m   (...)\u001b[0m\n\u001b[1;32m    113\u001b[0m     solver_options\u001b[38;5;241m=\u001b[39msolver_options,\n\u001b[1;32m    114\u001b[0m )\n",
            "\u001b[0;31mValueError\u001b[0m: Covariance matrix does not match expected returns"
          ]
        }
      ],
      "source": [
        "from pypfopt.efficient_frontier import EfficientFrontier\n",
        "\n",
        "ef_mean = EfficientFrontier(meanReturns, covReturns, weight_bounds=(0, 0.5))\n",
        "raw_weights_mean = ef_mean.max_sharpe()\n",
        "cleaned_weights_mean = ef_mean.clean_weights()\n",
        "mvo_weights = np.array(\n",
        "    [10000 * cleaned_weights_mean[i] for i in range(len(cleaned_weights_mean))]\n",
        ")\n",
        "mvo_weights"
      ]
    },
    {
      "cell_type": "code",
      "execution_count": 19,
      "metadata": {
        "colab": {
          "base_uri": "https://localhost:8080/"
        },
        "id": "F38NJRJJgOmj",
        "outputId": "f575651b-1e9b-4015-ae71-c9fc2c3a3dae"
      },
      "outputs": [
        {
          "ename": "NameError",
          "evalue": "name 'mvo_weights' is not defined",
          "output_type": "error",
          "traceback": [
            "\u001b[0;31m---------------------------------------------------------------------------\u001b[0m",
            "\u001b[0;31mNameError\u001b[0m                                 Traceback (most recent call last)",
            "Cell \u001b[0;32mIn[19], line 2\u001b[0m\n\u001b[1;32m      1\u001b[0m LastPrice \u001b[38;5;241m=\u001b[39m np\u001b[38;5;241m.\u001b[39marray([\u001b[38;5;241m1\u001b[39m\u001b[38;5;241m/\u001b[39mp \u001b[38;5;28;01mfor\u001b[39;00m p \u001b[38;5;129;01min\u001b[39;00m StockData\u001b[38;5;241m.\u001b[39mtail(\u001b[38;5;241m1\u001b[39m)\u001b[38;5;241m.\u001b[39mto_numpy()[\u001b[38;5;241m0\u001b[39m]])\n\u001b[0;32m----> 2\u001b[0m Initial_Portfolio \u001b[38;5;241m=\u001b[39m np\u001b[38;5;241m.\u001b[39mmultiply(\u001b[43mmvo_weights\u001b[49m, LastPrice)\n\u001b[1;32m      3\u001b[0m Initial_Portfolio\n",
            "\u001b[0;31mNameError\u001b[0m: name 'mvo_weights' is not defined"
          ]
        }
      ],
      "source": [
        "LastPrice = np.array([1/p for p in StockData.tail(1).to_numpy()[0]])\n",
        "Initial_Portfolio = np.multiply(mvo_weights, LastPrice)\n",
        "Initial_Portfolio"
      ]
    },
    {
      "cell_type": "code",
      "execution_count": 20,
      "metadata": {
        "id": "ZAd1iXqZhQ6X"
      },
      "outputs": [
        {
          "ename": "NameError",
          "evalue": "name 'Initial_Portfolio' is not defined",
          "output_type": "error",
          "traceback": [
            "\u001b[0;31m---------------------------------------------------------------------------\u001b[0m",
            "\u001b[0;31mNameError\u001b[0m                                 Traceback (most recent call last)",
            "Cell \u001b[0;32mIn[20], line 1\u001b[0m\n\u001b[0;32m----> 1\u001b[0m Portfolio_Assets \u001b[38;5;241m=\u001b[39m TradeData \u001b[38;5;241m@\u001b[39m \u001b[43mInitial_Portfolio\u001b[49m\n\u001b[1;32m      2\u001b[0m MVO_result \u001b[38;5;241m=\u001b[39m pd\u001b[38;5;241m.\u001b[39mDataFrame(Portfolio_Assets, columns\u001b[38;5;241m=\u001b[39m[\u001b[38;5;124m\"\u001b[39m\u001b[38;5;124mMean Var\u001b[39m\u001b[38;5;124m\"\u001b[39m])\n\u001b[1;32m      3\u001b[0m MVO_result\n",
            "\u001b[0;31mNameError\u001b[0m: name 'Initial_Portfolio' is not defined"
          ]
        }
      ],
      "source": [
        "Portfolio_Assets = TradeData @ Initial_Portfolio\n",
        "MVO_result = pd.DataFrame(Portfolio_Assets, columns=[\"Mean Var\"])\n",
        "MVO_result"
      ]
    },
    {
      "cell_type": "markdown",
      "metadata": {
        "id": "I5sgGe7g1HsL"
      },
      "source": [
        "# Part 4: DJIA index"
      ]
    },
    {
      "cell_type": "markdown",
      "metadata": {
        "id": "sVe_ufxTY2CW"
      },
      "source": [
        "Add DJIA index as a baseline to compare with."
      ]
    },
    {
      "cell_type": "code",
      "execution_count": 21,
      "metadata": {
        "id": "sACPzsI-6k8q"
      },
      "outputs": [],
      "source": [
        "TRAIN_START_DATE = \"2009-01-01\"\n",
        "TRAIN_END_DATE = \"2022-07-01\"\n",
        "TRADE_START_DATE = \"2022-07-01\"\n",
        "TRADE_END_DATE = \"2023-11-29\""
      ]
    },
    {
      "cell_type": "code",
      "execution_count": 38,
      "metadata": {
        "colab": {
          "base_uri": "https://localhost:8080/"
        },
        "id": "TuszW-OB1K0m",
        "outputId": "b89a8350-de58-4fea-8e4b-856efa872712"
      },
      "outputs": [
        {
          "name": "stdout",
          "output_type": "stream",
          "text": [
            "[*********************100%%**********************]  1 of 1 completed\n",
            "Shape of DataFrame:  (355, 8)\n",
            "[*********************100%%**********************]  1 of 1 completed"
          ]
        },
        {
          "name": "stderr",
          "output_type": "stream",
          "text": [
            "/opt/homebrew/lib/python3.10/site-packages/yfinance/utils.py:771: FutureWarning: The 'unit' keyword in TimedeltaIndex construction is deprecated and will be removed in a future version. Use pd.to_timedelta instead.\n",
            "  df.index += _pd.TimedeltaIndex(dst_error_hours, 'h')\n",
            "/opt/homebrew/lib/python3.10/site-packages/yfinance/utils.py:771: FutureWarning: The 'unit' keyword in TimedeltaIndex construction is deprecated and will be removed in a future version. Use pd.to_timedelta instead.\n",
            "  df.index += _pd.TimedeltaIndex(dst_error_hours, 'h')\n"
          ]
        },
        {
          "name": "stdout",
          "output_type": "stream",
          "text": [
            "\n",
            "Shape of DataFrame:  (355, 8)\n",
            "[*********************100%%**********************]  1 of 1 completed\n",
            "Shape of DataFrame:  (355, 8)\n"
          ]
        },
        {
          "name": "stderr",
          "output_type": "stream",
          "text": [
            "/opt/homebrew/lib/python3.10/site-packages/yfinance/utils.py:771: FutureWarning: The 'unit' keyword in TimedeltaIndex construction is deprecated and will be removed in a future version. Use pd.to_timedelta instead.\n",
            "  df.index += _pd.TimedeltaIndex(dst_error_hours, 'h')\n"
          ]
        },
        {
          "name": "stdout",
          "output_type": "stream",
          "text": [
            "[*********************100%%**********************]  1 of 1 completed\n",
            "Shape of DataFrame:  (355, 8)\n",
            "[*********************100%%**********************]  1 of 1 completed\n",
            "Shape of DataFrame:  (355, 8)\n"
          ]
        },
        {
          "name": "stderr",
          "output_type": "stream",
          "text": [
            "/opt/homebrew/lib/python3.10/site-packages/yfinance/utils.py:771: FutureWarning: The 'unit' keyword in TimedeltaIndex construction is deprecated and will be removed in a future version. Use pd.to_timedelta instead.\n",
            "  df.index += _pd.TimedeltaIndex(dst_error_hours, 'h')\n",
            "/opt/homebrew/lib/python3.10/site-packages/yfinance/utils.py:771: FutureWarning: The 'unit' keyword in TimedeltaIndex construction is deprecated and will be removed in a future version. Use pd.to_timedelta instead.\n",
            "  df.index += _pd.TimedeltaIndex(dst_error_hours, 'h')\n"
          ]
        }
      ],
      "source": [
        "df_apple = YahooDownloader(\n",
        "    start_date=TRADE_START_DATE, end_date=TRADE_END_DATE, ticker_list=[\"AAPL\"]\n",
        ").fetch_data()\n",
        "\n",
        "df_crox = YahooDownloader(\n",
        "    start_date=TRADE_START_DATE, end_date=TRADE_END_DATE, ticker_list=[\"CROX\"]\n",
        ").fetch_data()\n",
        "\n",
        "df_lly = YahooDownloader(\n",
        "    start_date=TRADE_START_DATE, end_date=TRADE_END_DATE, ticker_list=[\"LLY\"]\n",
        ").fetch_data()\n",
        "\n",
        "df_de = YahooDownloader(\n",
        "    start_date=TRADE_START_DATE, end_date=TRADE_END_DATE, ticker_list=[\"DE\"]\n",
        ").fetch_data()\n",
        "\n",
        "df_sp500 = YahooDownloader(\n",
        "    start_date=TRADE_START_DATE, end_date=TRADE_END_DATE, ticker_list=[\"^GSPC\"]\n",
        ").fetch_data()\n",
        "\n"
      ]
    },
    {
      "cell_type": "code",
      "execution_count": 39,
      "metadata": {
        "id": "Q3RXz72U1VbV"
      },
      "outputs": [],
      "source": [
        "df_apple = df_apple[[\"date\", \"close\"]]\n",
        "fst_day = df_apple[\"close\"][0]\n",
        "apple = pd.merge(\n",
        "    df_apple[\"date\"],\n",
        "   df_apple[\"close\"].div(fst_day).mul(10000),\n",
        "    how=\"outer\",\n",
        "    left_index=True,\n",
        "    right_index=True,\n",
        ").set_index(\"date\")\n",
        "\n",
        "df_crox = df_crox[[\"date\", \"close\"]]\n",
        "fst_day = df_crox[\"close\"][0]\n",
        "crox = pd.merge(\n",
        "    df_crox[\"date\"],\n",
        "    df_crox[\"close\"].div(fst_day).mul(10000),\n",
        "    how=\"outer\",\n",
        "    left_index=True,\n",
        "    right_index=True,\n",
        ").set_index(\"date\")\n",
        "\n",
        "df_lly = df_lly[[\"date\", \"close\"]]\n",
        "fst_day = df_lly[\"close\"][0]\n",
        "lly = pd.merge(\n",
        "    df_lly[\"date\"],\n",
        "    df_lly[\"close\"].div(fst_day).mul(10000),\n",
        "    how=\"outer\",\n",
        "    left_index=True,\n",
        "    right_index=True,\n",
        ").set_index(\"date\")\n",
        "\n",
        "df_de = df_de[[\"date\", \"close\"]]\n",
        "fst_day = df_de[\"close\"][0]\n",
        "de = pd.merge(\n",
        "    df_de[\"date\"],\n",
        "    df_de[\"close\"].div(fst_day).mul(10000),\n",
        "    how=\"outer\",\n",
        "    left_index=True,\n",
        "    right_index=True,\n",
        ").set_index(\"date\")\n",
        "\n",
        "df_sp500 = df_sp500[[\"date\", \"close\"]]\n",
        "fst_day = df_sp500[\"close\"][0]\n",
        "sp500 = pd.merge(\n",
        "    df_sp500[\"date\"],\n",
        "    df_sp500[\"close\"].div(fst_day).mul(10000),\n",
        "    how=\"outer\",\n",
        "    left_index=True,\n",
        "    right_index=True,\n",
        ").set_index(\"date\")"
      ]
    },
    {
      "cell_type": "markdown",
      "metadata": {
        "id": "W6vvNSC6h1jZ"
      },
      "source": [
        "<a id='4'></a>\n",
        "# Part 5: Backtesting Results\n",
        "Backtesting plays a key role in evaluating the performance of a trading strategy. Automated backtesting tool is preferred because it reduces the human error. We usually use the Quantopian pyfolio package to backtest our trading strategies. It is easy to use and consists of various individual plots that provide a comprehensive image of the performance of a trading strategy."
      ]
    },
    {
      "cell_type": "code",
      "execution_count": 48,
      "metadata": {
        "id": "KeDeGAc9VrEg"
      },
      "outputs": [],
      "source": [
        "df_result_a2c = (\n",
        "    df_account_value_a2c.set_index(df_account_value_a2c.columns[0])\n",
        "    if if_using_a2c\n",
        "    else None\n",
        ")\n",
        "df_result_ddpg = (\n",
        "    df_account_value_ddpg.set_index(df_account_value_ddpg.columns[0])\n",
        "    if if_using_ddpg\n",
        "    else None\n",
        ")\n",
        "df_result_ppo = (\n",
        "    df_account_value_ppo.set_index(df_account_value_ppo.columns[0])\n",
        "    if if_using_ppo\n",
        "    else None\n",
        ")\n",
        "df_result_td3 = (\n",
        "    df_account_value_td3.set_index(df_account_value_td3.columns[0])\n",
        "    if if_using_td3\n",
        "    else None\n",
        ")\n",
        "df_result_sac = (\n",
        "    df_account_value_sac.set_index(df_account_value_sac.columns[0])\n",
        "    if if_using_sac\n",
        "    else None\n",
        ")\n",
        "\n",
        "df_result_ddpg_good = (\n",
        "    df_account_value_ddpg_good.set_index(df_account_value_ddpg_good.columns[0])\n",
        "    if if_using_ddpg_good\n",
        "    else None\n",
        ")\n",
        "\n",
        "result = pd.DataFrame(\n",
        "    {\n",
        "        \"a2c\": df_result_a2c[\"account_value\"] if if_using_a2c else None,\n",
        "        # \"ddpg\": df_result_ddpg[\"account_value\"] if if_using_ddpg else None,\n",
        "        \"ppo\": df_result_ppo[\"account_value\"] if if_using_ppo else None,\n",
        "        \"td3\": df_result_td3[\"account_value\"] if if_using_td3 else None,\n",
        "        \"sac\": df_result_sac[\"account_value\"] if if_using_sac else None,\n",
        "        \"ddpg\": df_result_ddpg_good[\"account_value\"] if if_using_ddpg_good else None,\n",
        "        # \"mvo\": MVO_result[\"Mean Var\"],\n",
        "        \"AAPL\": apple[\"close\"],\n",
        "        # \"CROX\": crox[\"close\"],\n",
        "        # \"LLY\": lly[\"close\"],\n",
        "        # \"DE\": de[\"close\"],\n",
        "        # \"SP500\": sp500[\"close\"],\n",
        "    }\n",
        ")"
      ]
    },
    {
      "cell_type": "code",
      "execution_count": 49,
      "metadata": {
        "colab": {
          "base_uri": "https://localhost:8080/",
          "height": 455
        },
        "id": "l4FZxyDt3XaE",
        "outputId": "2e739637-bf88-4698-9cf1-9a526452e465"
      },
      "outputs": [
        {
          "data": {
            "text/html": [
              "<div>\n",
              "<style scoped>\n",
              "    .dataframe tbody tr th:only-of-type {\n",
              "        vertical-align: middle;\n",
              "    }\n",
              "\n",
              "    .dataframe tbody tr th {\n",
              "        vertical-align: top;\n",
              "    }\n",
              "\n",
              "    .dataframe thead th {\n",
              "        text-align: right;\n",
              "    }\n",
              "</style>\n",
              "<table border=\"1\" class=\"dataframe\">\n",
              "  <thead>\n",
              "    <tr style=\"text-align: right;\">\n",
              "      <th></th>\n",
              "      <th>a2c</th>\n",
              "      <th>ppo</th>\n",
              "      <th>td3</th>\n",
              "      <th>sac</th>\n",
              "      <th>ddpg</th>\n",
              "      <th>AAPL</th>\n",
              "    </tr>\n",
              "    <tr>\n",
              "      <th>date</th>\n",
              "      <th></th>\n",
              "      <th></th>\n",
              "      <th></th>\n",
              "      <th></th>\n",
              "      <th></th>\n",
              "      <th></th>\n",
              "    </tr>\n",
              "  </thead>\n",
              "  <tbody>\n",
              "    <tr>\n",
              "      <th>2022-07-01</th>\n",
              "      <td>10000.000000</td>\n",
              "      <td>10000.0</td>\n",
              "      <td>10000.0</td>\n",
              "      <td>10000.000000</td>\n",
              "      <td>10000.000000</td>\n",
              "      <td>10000.000000</td>\n",
              "    </tr>\n",
              "    <tr>\n",
              "      <th>2022-07-05</th>\n",
              "      <td>10177.348934</td>\n",
              "      <td>10000.0</td>\n",
              "      <td>10000.0</td>\n",
              "      <td>10177.348934</td>\n",
              "      <td>10177.348934</td>\n",
              "      <td>10189.302325</td>\n",
              "    </tr>\n",
              "    <tr>\n",
              "      <th>2022-07-06</th>\n",
              "      <td>10274.172543</td>\n",
              "      <td>10000.0</td>\n",
              "      <td>10000.0</td>\n",
              "      <td>10274.172543</td>\n",
              "      <td>10167.270638</td>\n",
              "      <td>10287.193497</td>\n",
              "    </tr>\n",
              "    <tr>\n",
              "      <th>2022-07-07</th>\n",
              "      <td>10518.372250</td>\n",
              "      <td>10000.0</td>\n",
              "      <td>10000.0</td>\n",
              "      <td>10518.372250</td>\n",
              "      <td>10398.044884</td>\n",
              "      <td>10534.081805</td>\n",
              "    </tr>\n",
              "    <tr>\n",
              "      <th>2022-07-08</th>\n",
              "      <td>10567.494320</td>\n",
              "      <td>10000.0</td>\n",
              "      <td>10000.0</td>\n",
              "      <td>10567.494320</td>\n",
              "      <td>10446.484703</td>\n",
              "      <td>10583.746036</td>\n",
              "    </tr>\n",
              "    <tr>\n",
              "      <th>...</th>\n",
              "      <td>...</td>\n",
              "      <td>...</td>\n",
              "      <td>...</td>\n",
              "      <td>...</td>\n",
              "      <td>...</td>\n",
              "      <td>...</td>\n",
              "    </tr>\n",
              "    <tr>\n",
              "      <th>2023-11-21</th>\n",
              "      <td>13789.072445</td>\n",
              "      <td>10000.0</td>\n",
              "      <td>10000.0</td>\n",
              "      <td>13789.072445</td>\n",
              "      <td>12895.187772</td>\n",
              "      <td>13840.805664</td>\n",
              "    </tr>\n",
              "    <tr>\n",
              "      <th>2023-11-22</th>\n",
              "      <td>13837.184872</td>\n",
              "      <td>10000.0</td>\n",
              "      <td>10000.0</td>\n",
              "      <td>13837.184872</td>\n",
              "      <td>12939.959058</td>\n",
              "      <td>13889.450241</td>\n",
              "    </tr>\n",
              "    <tr>\n",
              "      <th>2023-11-24</th>\n",
              "      <td>13740.958920</td>\n",
              "      <td>10000.0</td>\n",
              "      <td>10000.0</td>\n",
              "      <td>13740.958920</td>\n",
              "      <td>12850.415464</td>\n",
              "      <td>13792.162197</td>\n",
              "    </tr>\n",
              "    <tr>\n",
              "      <th>2023-11-27</th>\n",
              "      <td>13728.032406</td>\n",
              "      <td>10000.0</td>\n",
              "      <td>10000.0</td>\n",
              "      <td>13728.032406</td>\n",
              "      <td>12838.386625</td>\n",
              "      <td>13779.093306</td>\n",
              "    </tr>\n",
              "    <tr>\n",
              "      <th>2023-11-28</th>\n",
              "      <td>NaN</td>\n",
              "      <td>NaN</td>\n",
              "      <td>NaN</td>\n",
              "      <td>NaN</td>\n",
              "      <td>NaN</td>\n",
              "      <td>13823.380475</td>\n",
              "    </tr>\n",
              "  </tbody>\n",
              "</table>\n",
              "<p>355 rows × 6 columns</p>\n",
              "</div>"
            ],
            "text/plain": [
              "                     a2c      ppo      td3           sac          ddpg  \\\n",
              "date                                                                     \n",
              "2022-07-01  10000.000000  10000.0  10000.0  10000.000000  10000.000000   \n",
              "2022-07-05  10177.348934  10000.0  10000.0  10177.348934  10177.348934   \n",
              "2022-07-06  10274.172543  10000.0  10000.0  10274.172543  10167.270638   \n",
              "2022-07-07  10518.372250  10000.0  10000.0  10518.372250  10398.044884   \n",
              "2022-07-08  10567.494320  10000.0  10000.0  10567.494320  10446.484703   \n",
              "...                  ...      ...      ...           ...           ...   \n",
              "2023-11-21  13789.072445  10000.0  10000.0  13789.072445  12895.187772   \n",
              "2023-11-22  13837.184872  10000.0  10000.0  13837.184872  12939.959058   \n",
              "2023-11-24  13740.958920  10000.0  10000.0  13740.958920  12850.415464   \n",
              "2023-11-27  13728.032406  10000.0  10000.0  13728.032406  12838.386625   \n",
              "2023-11-28           NaN      NaN      NaN           NaN           NaN   \n",
              "\n",
              "                    AAPL  \n",
              "date                      \n",
              "2022-07-01  10000.000000  \n",
              "2022-07-05  10189.302325  \n",
              "2022-07-06  10287.193497  \n",
              "2022-07-07  10534.081805  \n",
              "2022-07-08  10583.746036  \n",
              "...                  ...  \n",
              "2023-11-21  13840.805664  \n",
              "2023-11-22  13889.450241  \n",
              "2023-11-24  13792.162197  \n",
              "2023-11-27  13779.093306  \n",
              "2023-11-28  13823.380475  \n",
              "\n",
              "[355 rows x 6 columns]"
            ]
          },
          "execution_count": 49,
          "metadata": {},
          "output_type": "execute_result"
        }
      ],
      "source": [
        "result"
      ]
    },
    {
      "cell_type": "markdown",
      "metadata": {
        "id": "QQuc5hI9Yklt"
      },
      "source": [
        "Now, everything is ready, we can plot the backtest result."
      ]
    },
    {
      "cell_type": "code",
      "execution_count": 50,
      "metadata": {
        "colab": {
          "base_uri": "https://localhost:8080/",
          "height": 381
        },
        "id": "6xRfrqK4RVfq",
        "outputId": "469c9729-fd57-417c-9b13-2243426923e2"
      },
      "outputs": [
        {
          "data": {
            "text/plain": [
              "<Figure size 1500x500 with 0 Axes>"
            ]
          },
          "metadata": {},
          "output_type": "display_data"
        },
        {
          "data": {
            "image/png": "[encoded data removed]",
            "text/plain": [
              "<Figure size 1500x500 with 1 Axes>"
            ]
          },
          "metadata": {},
          "output_type": "display_data"
        }
      ],
      "source": [
        "plt.rcParams[\"figure.figsize\"] = (15,5)\n",
        "plt.figure()\n",
        "result.plot()\n",
        "plt.savefig(\"result.png\")"
      ]
    },
    {
      "cell_type": "code",
      "execution_count": null,
      "metadata": {},
      "outputs": [],
      "source": []
    },
    {
      "cell_type": "code",
      "execution_count": null,
      "metadata": {},
      "outputs": [],
      "source": []
    },
    {
      "cell_type": "code",
      "execution_count": null,
      "metadata": {},
      "outputs": [],
      "source": []
    },
    {
      "cell_type": "code",
      "execution_count": null,
      "metadata": {},
      "outputs": [],
      "source": []
    },
    {
      "cell_type": "code",
      "execution_count": null,
      "metadata": {},
      "outputs": [],
      "source": []
    },
    {
      "cell_type": "code",
      "execution_count": null,
      "metadata": {},
      "outputs": [],
      "source": []
    }
  ],
  "metadata": {
    "colab": {
      "collapsed_sections": [
        "GfZ5vY5wRjkJ"
      ],
      "provenance": []
    },
    "kernelspec": {
      "display_name": "Python 3",
      "name": "python3"
    },
    "language_info": {
      "codemirror_mode": {
        "name": "ipython",
        "version": 3
      },
      "file_extension": ".py",
      "mimetype": "text/x-python",
      "name": "python",
      "nbconvert_exporter": "python",
      "pygments_lexer": "ipython3",
      "version": "3.10.14"
    }
  },
  "nbformat": 4,
  "nbformat_minor": 0
}
