{
  "cells": [
    {
      "cell_type": "markdown",
      "metadata": {
        "id": "2uH1KXctgnoJ"
      },
      "source": [
        "# Part 1. Install Packages"
      ]
    },
    {
      "cell_type": "code",
      "execution_count": null,
      "metadata": {
        "id": "a2oD49e_N_05"
      },
      "outputs": [],
      "source": [
        "## install finrl library\n",
        "!pip install git+https://github.com/AI4Finance-Foundation/FinRL.git"
      ]
    },
    {
      "cell_type": "code",
      "execution_count": 1,
      "metadata": {
        "id": "j37flV31OJGW"
      },
      "outputs": [],
      "source": [
        "import pandas as pd\n",
        "import numpy as np\n",
        "import datetime\n",
        "import yfinance as yf\n",
        "\n",
        "from finrl.meta.preprocessor.yahoodownloader import YahooDownloader\n",
        "from finrl.meta.preprocessor.preprocessors import FeatureEngineer, data_split\n",
        "from finrl import config_tickers\n",
        "from finrl.config import INDICATORS\n",
        "\n",
        "import itertools"
      ]
    },
    {
      "cell_type": "markdown",
      "metadata": {
        "id": "wxsN8i7tg07U"
      },
      "source": [
        "# Part 2. Fetch data"
      ]
    },
    {
      "cell_type": "markdown",
      "metadata": {
        "id": "fMNm9tCMXy8J"
      },
      "source": [
        "[yfinance](https://github.com/ranaroussi/yfinance) is an open-source library that provides APIs fetching historical data form Yahoo Finance. In FinRL, we have a class called [YahooDownloader](https://github.com/AI4Finance-Foundation/FinRL/blob/master/finrl/meta/preprocessor/yahoodownloader.py) that use yfinance to fetch data from Yahoo Finance."
      ]
    },
    {
      "cell_type": "markdown",
      "metadata": {
        "id": "CWVXUkzaZE8m"
      },
      "source": [
        "**OHLCV**: Data downloaded are in the form of OHLCV, corresponding to **open, high, low, close, volume,** respectively. OHLCV is important because they contain most of numerical information of a stock in time series. From OHLCV, traders can get further judgement and prediction like the momentum, people's interest, market trends, etc."
      ]
    },
    {
      "cell_type": "markdown",
      "metadata": {
        "id": "jRYlbdMpW9Np"
      },
      "source": [
        "## Data for a single ticker"
      ]
    },
    {
      "cell_type": "markdown",
      "metadata": {
        "id": "1wo6pCQYXDbz"
      },
      "source": [
        "Here we provide two ways to fetch data with single ticker, let's take Apple Inc. (AAPL) as an example."
      ]
    },
    {
      "cell_type": "markdown",
      "metadata": {
        "id": "yzVRe90WXLB1"
      },
      "source": [
        "### Using yfinance"
      ]
    },
    {
      "cell_type": "code",
      "execution_count": 4,
      "metadata": {
        "colab": {
          "base_uri": "https://localhost:8080/"
        },
        "id": "SSl6mVV7XNw6",
        "outputId": "460c06eb-c71d-4ebb-fe17-481295d70cff"
      },
      "outputs": [
        {
          "name": "stdout",
          "output_type": "stream",
          "text": [
            "[*********************100%%**********************]  1 of 1 completed\n"
          ]
        },
        {
          "name": "stderr",
          "output_type": "stream",
          "text": [
            "/opt/homebrew/lib/python3.10/site-packages/yfinance/utils.py:771: FutureWarning: The 'unit' keyword in TimedeltaIndex construction is deprecated and will be removed in a future version. Use pd.to_timedelta instead.\n",
            "  df.index += _pd.TimedeltaIndex(dst_error_hours, 'h')\n"
          ]
        }
      ],
      "source": [
        "aapl_df_yf = yf.download(tickers = \"aapl\", start='2020-01-01', end='2020-01-31')"
      ]
    },
    {
      "cell_type": "code",
      "execution_count": 5,
      "metadata": {
        "colab": {
          "base_uri": "https://localhost:8080/",
          "height": 238
        },
        "id": "Rjutz22rXrpR",
        "outputId": "62aadc8c-b854-403d-ac73-6cf86d53fa22"
      },
      "outputs": [
        {
          "data": {
            "text/html": [
              "<div>\n",
              "<style scoped>\n",
              "    .dataframe tbody tr th:only-of-type {\n",
              "        vertical-align: middle;\n",
              "    }\n",
              "\n",
              "    .dataframe tbody tr th {\n",
              "        vertical-align: top;\n",
              "    }\n",
              "\n",
              "    .dataframe thead th {\n",
              "        text-align: right;\n",
              "    }\n",
              "</style>\n",
              "<table border=\"1\" class=\"dataframe\">\n",
              "  <thead>\n",
              "    <tr style=\"text-align: right;\">\n",
              "      <th></th>\n",
              "      <th>Open</th>\n",
              "      <th>High</th>\n",
              "      <th>Low</th>\n",
              "      <th>Close</th>\n",
              "      <th>Adj Close</th>\n",
              "      <th>Volume</th>\n",
              "    </tr>\n",
              "    <tr>\n",
              "      <th>Date</th>\n",
              "      <th></th>\n",
              "      <th></th>\n",
              "      <th></th>\n",
              "      <th></th>\n",
              "      <th></th>\n",
              "      <th></th>\n",
              "    </tr>\n",
              "  </thead>\n",
              "  <tbody>\n",
              "    <tr>\n",
              "      <th>2020-01-02</th>\n",
              "      <td>74.059998</td>\n",
              "      <td>75.150002</td>\n",
              "      <td>73.797501</td>\n",
              "      <td>75.087502</td>\n",
              "      <td>72.960457</td>\n",
              "      <td>135480400</td>\n",
              "    </tr>\n",
              "    <tr>\n",
              "      <th>2020-01-03</th>\n",
              "      <td>74.287498</td>\n",
              "      <td>75.144997</td>\n",
              "      <td>74.125000</td>\n",
              "      <td>74.357498</td>\n",
              "      <td>72.251137</td>\n",
              "      <td>146322800</td>\n",
              "    </tr>\n",
              "    <tr>\n",
              "      <th>2020-01-06</th>\n",
              "      <td>73.447502</td>\n",
              "      <td>74.989998</td>\n",
              "      <td>73.187500</td>\n",
              "      <td>74.949997</td>\n",
              "      <td>72.826843</td>\n",
              "      <td>118387200</td>\n",
              "    </tr>\n",
              "    <tr>\n",
              "      <th>2020-01-07</th>\n",
              "      <td>74.959999</td>\n",
              "      <td>75.224998</td>\n",
              "      <td>74.370003</td>\n",
              "      <td>74.597504</td>\n",
              "      <td>72.484344</td>\n",
              "      <td>108872000</td>\n",
              "    </tr>\n",
              "    <tr>\n",
              "      <th>2020-01-08</th>\n",
              "      <td>74.290001</td>\n",
              "      <td>76.110001</td>\n",
              "      <td>74.290001</td>\n",
              "      <td>75.797501</td>\n",
              "      <td>73.650352</td>\n",
              "      <td>132079200</td>\n",
              "    </tr>\n",
              "  </tbody>\n",
              "</table>\n",
              "</div>"
            ],
            "text/plain": [
              "                 Open       High        Low      Close  Adj Close     Volume\n",
              "Date                                                                        \n",
              "2020-01-02  74.059998  75.150002  73.797501  75.087502  72.960457  135480400\n",
              "2020-01-03  74.287498  75.144997  74.125000  74.357498  72.251137  146322800\n",
              "2020-01-06  73.447502  74.989998  73.187500  74.949997  72.826843  118387200\n",
              "2020-01-07  74.959999  75.224998  74.370003  74.597504  72.484344  108872000\n",
              "2020-01-08  74.290001  76.110001  74.290001  75.797501  73.650352  132079200"
            ]
          },
          "execution_count": 5,
          "metadata": {},
          "output_type": "execute_result"
        }
      ],
      "source": [
        "aapl_df_yf.head()"
      ]
    },
    {
      "cell_type": "markdown",
      "metadata": {
        "id": "fHZLDmnsXOK0"
      },
      "source": [
        "### Using FinRL"
      ]
    },
    {
      "cell_type": "markdown",
      "metadata": {
        "id": "VFB77ohNbXCc"
      },
      "source": [
        "In FinRL's YahooDownloader, we modified the data frame to the form that convenient for further data processing process. We use adjusted close price instead of close price, and add a column representing the day of a week (0-4 corresponding to Monday-Friday)."
      ]
    },
    {
      "cell_type": "code",
      "execution_count": 6,
      "metadata": {
        "colab": {
          "base_uri": "https://localhost:8080/"
        },
        "id": "7ufDHvt4XBWT",
        "outputId": "41603042-4f14-4814-c569-305d85fa7f9d"
      },
      "outputs": [
        {
          "name": "stdout",
          "output_type": "stream",
          "text": [
            "[*********************100%%**********************]  1 of 1 completed\n",
            "Shape of DataFrame:  (20, 8)\n"
          ]
        },
        {
          "name": "stderr",
          "output_type": "stream",
          "text": [
            "/opt/homebrew/lib/python3.10/site-packages/yfinance/utils.py:771: FutureWarning: The 'unit' keyword in TimedeltaIndex construction is deprecated and will be removed in a future version. Use pd.to_timedelta instead.\n",
            "  df.index += _pd.TimedeltaIndex(dst_error_hours, 'h')\n"
          ]
        }
      ],
      "source": [
        "aapl_df_finrl = YahooDownloader(start_date = '2020-01-01',\n",
        "                                end_date = '2020-01-31',\n",
        "                                ticker_list = ['CROX']).fetch_data()"
      ]
    },
    {
      "cell_type": "code",
      "execution_count": 7,
      "metadata": {
        "colab": {
          "base_uri": "https://localhost:8080/",
          "height": 206
        },
        "id": "_TgEjXxhXtT_",
        "outputId": "a8e8a9e2-a1ea-472e-eddf-2227e6c901d8"
      },
      "outputs": [
        {
          "data": {
            "text/html": [
              "<div>\n",
              "<style scoped>\n",
              "    .dataframe tbody tr th:only-of-type {\n",
              "        vertical-align: middle;\n",
              "    }\n",
              "\n",
              "    .dataframe tbody tr th {\n",
              "        vertical-align: top;\n",
              "    }\n",
              "\n",
              "    .dataframe thead th {\n",
              "        text-align: right;\n",
              "    }\n",
              "</style>\n",
              "<table border=\"1\" class=\"dataframe\">\n",
              "  <thead>\n",
              "    <tr style=\"text-align: right;\">\n",
              "      <th></th>\n",
              "      <th>date</th>\n",
              "      <th>open</th>\n",
              "      <th>high</th>\n",
              "      <th>low</th>\n",
              "      <th>close</th>\n",
              "      <th>volume</th>\n",
              "      <th>tic</th>\n",
              "      <th>day</th>\n",
              "    </tr>\n",
              "  </thead>\n",
              "  <tbody>\n",
              "    <tr>\n",
              "      <th>0</th>\n",
              "      <td>2020-01-02</td>\n",
              "      <td>42.230000</td>\n",
              "      <td>42.230000</td>\n",
              "      <td>41.259998</td>\n",
              "      <td>41.750000</td>\n",
              "      <td>1024300</td>\n",
              "      <td>CROX</td>\n",
              "      <td>3</td>\n",
              "    </tr>\n",
              "    <tr>\n",
              "      <th>1</th>\n",
              "      <td>2020-01-03</td>\n",
              "      <td>41.310001</td>\n",
              "      <td>42.139999</td>\n",
              "      <td>41.160000</td>\n",
              "      <td>42.080002</td>\n",
              "      <td>662800</td>\n",
              "      <td>CROX</td>\n",
              "      <td>4</td>\n",
              "    </tr>\n",
              "    <tr>\n",
              "      <th>2</th>\n",
              "      <td>2020-01-06</td>\n",
              "      <td>41.970001</td>\n",
              "      <td>42.590000</td>\n",
              "      <td>41.529999</td>\n",
              "      <td>42.410000</td>\n",
              "      <td>824200</td>\n",
              "      <td>CROX</td>\n",
              "      <td>0</td>\n",
              "    </tr>\n",
              "    <tr>\n",
              "      <th>3</th>\n",
              "      <td>2020-01-07</td>\n",
              "      <td>42.509998</td>\n",
              "      <td>42.810001</td>\n",
              "      <td>41.430000</td>\n",
              "      <td>41.610001</td>\n",
              "      <td>1127500</td>\n",
              "      <td>CROX</td>\n",
              "      <td>1</td>\n",
              "    </tr>\n",
              "    <tr>\n",
              "      <th>4</th>\n",
              "      <td>2020-01-08</td>\n",
              "      <td>41.639999</td>\n",
              "      <td>43.310001</td>\n",
              "      <td>41.500000</td>\n",
              "      <td>42.680000</td>\n",
              "      <td>1420800</td>\n",
              "      <td>CROX</td>\n",
              "      <td>2</td>\n",
              "    </tr>\n",
              "  </tbody>\n",
              "</table>\n",
              "</div>"
            ],
            "text/plain": [
              "         date       open       high        low      close   volume   tic  day\n",
              "0  2020-01-02  42.230000  42.230000  41.259998  41.750000  1024300  CROX    3\n",
              "1  2020-01-03  41.310001  42.139999  41.160000  42.080002   662800  CROX    4\n",
              "2  2020-01-06  41.970001  42.590000  41.529999  42.410000   824200  CROX    0\n",
              "3  2020-01-07  42.509998  42.810001  41.430000  41.610001  1127500  CROX    1\n",
              "4  2020-01-08  41.639999  43.310001  41.500000  42.680000  1420800  CROX    2"
            ]
          },
          "execution_count": 7,
          "metadata": {},
          "output_type": "execute_result"
        }
      ],
      "source": [
        "aapl_df_finrl.head()"
      ]
    },
    {
      "cell_type": "markdown",
      "metadata": {
        "id": "9kcOE5nbic6R"
      },
      "source": [
        "## Data for the chosen tickers"
      ]
    },
    {
      "cell_type": "code",
      "execution_count": 8,
      "metadata": {
        "colab": {
          "base_uri": "https://localhost:8080/"
        },
        "id": "FKBjtAo2uIq5",
        "outputId": "927f682a-9cc3-4c11-c3f1-094ae811af6b"
      },
      "outputs": [
        {
          "data": {
            "text/plain": [
              "['MMM',\n",
              " 'AOS',\n",
              " 'ABT',\n",
              " 'ABBV',\n",
              " 'ACN',\n",
              " 'ADBE',\n",
              " 'AMD',\n",
              " 'AES',\n",
              " 'AFL',\n",
              " 'A',\n",
              " 'APD',\n",
              " 'ABNB',\n",
              " 'AKAM',\n",
              " 'ALB',\n",
              " 'ARE',\n",
              " 'ALGN',\n",
              " 'ALLE',\n",
              " 'LNT',\n",
              " 'ALL',\n",
              " 'GOOGL',\n",
              " 'GOOG',\n",
              " 'MO',\n",
              " 'AMZN',\n",
              " 'AMCR',\n",
              " 'AEE',\n",
              " 'AAL',\n",
              " 'AEP',\n",
              " 'AXP',\n",
              " 'AIG',\n",
              " 'AMT',\n",
              " 'AWK',\n",
              " 'AMP',\n",
              " 'AME',\n",
              " 'AMGN',\n",
              " 'APH',\n",
              " 'ADI',\n",
              " 'ANSS',\n",
              " 'AON',\n",
              " 'APA',\n",
              " 'AAPL',\n",
              " 'AMAT',\n",
              " 'APTV',\n",
              " 'ACGL',\n",
              " 'ADM',\n",
              " 'ANET',\n",
              " 'AJG',\n",
              " 'AIZ',\n",
              " 'T',\n",
              " 'ATO',\n",
              " 'ADSK',\n",
              " 'ADP',\n",
              " 'AZO',\n",
              " 'AVB',\n",
              " 'AVY',\n",
              " 'AXON',\n",
              " 'BKR',\n",
              " 'BALL',\n",
              " 'BAC',\n",
              " 'BK',\n",
              " 'BBWI',\n",
              " 'BAX',\n",
              " 'BDX',\n",
              " 'BRK.B',\n",
              " 'BBY',\n",
              " 'BIO',\n",
              " 'TECH',\n",
              " 'BIIB',\n",
              " 'BLK',\n",
              " 'BX',\n",
              " 'BA',\n",
              " 'BKNG',\n",
              " 'BWA',\n",
              " 'BXP',\n",
              " 'BSX',\n",
              " 'BMY',\n",
              " 'AVGO',\n",
              " 'BR',\n",
              " 'BRO',\n",
              " 'BF.B',\n",
              " 'BLDR',\n",
              " 'BG',\n",
              " 'CDNS',\n",
              " 'CZR',\n",
              " 'CPT',\n",
              " 'CPB',\n",
              " 'COF',\n",
              " 'CAH',\n",
              " 'KMX',\n",
              " 'CCL',\n",
              " 'CARR',\n",
              " 'CTLT',\n",
              " 'CAT',\n",
              " 'CBOE',\n",
              " 'CBRE',\n",
              " 'CDW',\n",
              " 'CE',\n",
              " 'COR',\n",
              " 'CNC',\n",
              " 'CNP',\n",
              " 'CF',\n",
              " 'CHRW',\n",
              " 'CRL',\n",
              " 'SCHW',\n",
              " 'CHTR',\n",
              " 'CVX',\n",
              " 'CMG',\n",
              " 'CB',\n",
              " 'CHD',\n",
              " 'CI',\n",
              " 'CINF',\n",
              " 'CTAS',\n",
              " 'CSCO',\n",
              " 'C',\n",
              " 'CFG',\n",
              " 'CLX',\n",
              " 'CME',\n",
              " 'CMS',\n",
              " 'KO',\n",
              " 'CTSH',\n",
              " 'CL',\n",
              " 'CMCSA',\n",
              " 'CMA',\n",
              " 'CAG',\n",
              " 'COP',\n",
              " 'ED',\n",
              " 'STZ',\n",
              " 'CEG',\n",
              " 'COO',\n",
              " 'CPRT',\n",
              " 'GLW',\n",
              " 'CPAY',\n",
              " 'CTVA',\n",
              " 'CSGP',\n",
              " 'COST',\n",
              " 'CTRA',\n",
              " 'CCI',\n",
              " 'CSX',\n",
              " 'CMI',\n",
              " 'CVS',\n",
              " 'DHR',\n",
              " 'DRI',\n",
              " 'DVA',\n",
              " 'DAY',\n",
              " 'DECK',\n",
              " 'DE',\n",
              " 'DAL',\n",
              " 'DVN',\n",
              " 'DXCM',\n",
              " 'FANG',\n",
              " 'DLR',\n",
              " 'DFS',\n",
              " 'DG',\n",
              " 'DLTR',\n",
              " 'D',\n",
              " 'DPZ',\n",
              " 'DOV',\n",
              " 'DOW',\n",
              " 'DHI',\n",
              " 'DTE',\n",
              " 'DUK',\n",
              " 'DD',\n",
              " 'EMN',\n",
              " 'ETN',\n",
              " 'EBAY',\n",
              " 'ECL',\n",
              " 'EIX',\n",
              " 'EW',\n",
              " 'EA',\n",
              " 'ELV',\n",
              " 'LLY',\n",
              " 'EMR',\n",
              " 'ENPH',\n",
              " 'ETR',\n",
              " 'EOG',\n",
              " 'EPAM',\n",
              " 'EQT',\n",
              " 'EFX',\n",
              " 'EQIX',\n",
              " 'EQR',\n",
              " 'ESS',\n",
              " 'EL',\n",
              " 'ETSY',\n",
              " 'EG',\n",
              " 'EVRG',\n",
              " 'ES',\n",
              " 'EXC',\n",
              " 'EXPE',\n",
              " 'EXPD',\n",
              " 'EXR',\n",
              " 'XOM',\n",
              " 'FFIV',\n",
              " 'FDS',\n",
              " 'FICO',\n",
              " 'FAST',\n",
              " 'FRT',\n",
              " 'FDX',\n",
              " 'FIS',\n",
              " 'FITB',\n",
              " 'FSLR',\n",
              " 'FE',\n",
              " 'FI',\n",
              " 'FMC',\n",
              " 'F',\n",
              " 'FTNT',\n",
              " 'FTV',\n",
              " 'FOXA',\n",
              " 'FOX',\n",
              " 'BEN',\n",
              " 'FCX',\n",
              " 'GRMN',\n",
              " 'IT',\n",
              " 'GE',\n",
              " 'GEHC',\n",
              " 'GEV',\n",
              " 'GEN',\n",
              " 'GNRC',\n",
              " 'GD',\n",
              " 'GIS',\n",
              " 'GM',\n",
              " 'GPC',\n",
              " 'GILD',\n",
              " 'GPN',\n",
              " 'GL',\n",
              " 'GS',\n",
              " 'HAL',\n",
              " 'HIG',\n",
              " 'HAS',\n",
              " 'HCA',\n",
              " 'DOC',\n",
              " 'HSIC',\n",
              " 'HSY',\n",
              " 'HES',\n",
              " 'HPE',\n",
              " 'HLT',\n",
              " 'HOLX',\n",
              " 'HD',\n",
              " 'HON',\n",
              " 'HRL',\n",
              " 'HST',\n",
              " 'HWM',\n",
              " 'HPQ',\n",
              " 'HUBB',\n",
              " 'HUM',\n",
              " 'HBAN',\n",
              " 'HII',\n",
              " 'IBM',\n",
              " 'IEX',\n",
              " 'IDXX',\n",
              " 'ITW',\n",
              " 'ILMN',\n",
              " 'INCY',\n",
              " 'IR',\n",
              " 'PODD',\n",
              " 'INTC',\n",
              " 'ICE',\n",
              " 'IFF',\n",
              " 'IP',\n",
              " 'IPG',\n",
              " 'INTU',\n",
              " 'ISRG',\n",
              " 'IVZ',\n",
              " 'INVH',\n",
              " 'IQV',\n",
              " 'IRM',\n",
              " 'JBHT',\n",
              " 'JBL',\n",
              " 'JKHY',\n",
              " 'J',\n",
              " 'JNJ',\n",
              " 'JCI',\n",
              " 'JPM',\n",
              " 'JNPR',\n",
              " 'K',\n",
              " 'KVUE',\n",
              " 'KDP',\n",
              " 'KEY',\n",
              " 'KEYS',\n",
              " 'KMB',\n",
              " 'KIM',\n",
              " 'KMI',\n",
              " 'KLAC',\n",
              " 'KHC',\n",
              " 'KR',\n",
              " 'LHX',\n",
              " 'LH',\n",
              " 'LRCX',\n",
              " 'LW',\n",
              " 'LVS',\n",
              " 'LDOS',\n",
              " 'LEN',\n",
              " 'LIN',\n",
              " 'LYV',\n",
              " 'LKQ',\n",
              " 'LMT',\n",
              " 'L',\n",
              " 'LOW',\n",
              " 'LULU',\n",
              " 'LYB',\n",
              " 'MTB',\n",
              " 'MRO',\n",
              " 'MPC',\n",
              " 'MKTX',\n",
              " 'MAR',\n",
              " 'MMC',\n",
              " 'MLM',\n",
              " 'MAS',\n",
              " 'MA',\n",
              " 'MTCH',\n",
              " 'MKC',\n",
              " 'MCD',\n",
              " 'MCK',\n",
              " 'MDT',\n",
              " 'MRK',\n",
              " 'META',\n",
              " 'MET',\n",
              " 'MTD',\n",
              " 'MGM',\n",
              " 'MCHP',\n",
              " 'MU',\n",
              " 'MSFT',\n",
              " 'MAA',\n",
              " 'MRNA',\n",
              " 'MHK',\n",
              " 'MOH',\n",
              " 'TAP',\n",
              " 'MDLZ',\n",
              " 'MPWR',\n",
              " 'MNST',\n",
              " 'MCO',\n",
              " 'MS',\n",
              " 'MOS',\n",
              " 'MSI',\n",
              " 'MSCI',\n",
              " 'NDAQ',\n",
              " 'NTAP',\n",
              " 'NFLX',\n",
              " 'NEM',\n",
              " 'NWSA',\n",
              " 'NWS',\n",
              " 'NEE',\n",
              " 'NKE',\n",
              " 'NI',\n",
              " 'NDSN',\n",
              " 'NSC',\n",
              " 'NTRS',\n",
              " 'NOC',\n",
              " 'NCLH',\n",
              " 'NRG',\n",
              " 'NUE',\n",
              " 'NVDA',\n",
              " 'NVR',\n",
              " 'NXPI',\n",
              " 'ORLY',\n",
              " 'OXY',\n",
              " 'ODFL',\n",
              " 'OMC',\n",
              " 'ON',\n",
              " 'OKE',\n",
              " 'ORCL',\n",
              " 'OTIS',\n",
              " 'PCAR',\n",
              " 'PKG',\n",
              " 'PANW',\n",
              " 'PARA',\n",
              " 'PH',\n",
              " 'PAYX',\n",
              " 'PAYC',\n",
              " 'PYPL',\n",
              " 'PNR',\n",
              " 'PEP',\n",
              " 'PFE',\n",
              " 'PCG',\n",
              " 'PM',\n",
              " 'PSX',\n",
              " 'PNW',\n",
              " 'PNC',\n",
              " 'POOL',\n",
              " 'PPG',\n",
              " 'PPL',\n",
              " 'PFG',\n",
              " 'PG',\n",
              " 'PGR',\n",
              " 'PLD',\n",
              " 'PRU',\n",
              " 'PEG',\n",
              " 'PTC',\n",
              " 'PSA',\n",
              " 'PHM',\n",
              " 'QRVO',\n",
              " 'PWR',\n",
              " 'QCOM',\n",
              " 'DGX',\n",
              " 'RL',\n",
              " 'RJF',\n",
              " 'RTX',\n",
              " 'O',\n",
              " 'REG',\n",
              " 'REGN',\n",
              " 'RF',\n",
              " 'RSG',\n",
              " 'RMD',\n",
              " 'RVTY',\n",
              " 'RHI',\n",
              " 'ROK',\n",
              " 'ROL',\n",
              " 'ROP',\n",
              " 'ROST',\n",
              " 'RCL',\n",
              " 'SPGI',\n",
              " 'CRM',\n",
              " 'SBAC',\n",
              " 'SLB',\n",
              " 'STX',\n",
              " 'SRE',\n",
              " 'NOW',\n",
              " 'SHW',\n",
              " 'SPG',\n",
              " 'SWKS',\n",
              " 'SJM',\n",
              " 'SNA',\n",
              " 'SOLV',\n",
              " 'SO',\n",
              " 'LUV',\n",
              " 'SWK',\n",
              " 'SBUX',\n",
              " 'STT',\n",
              " 'STLD',\n",
              " 'STE',\n",
              " 'SYK',\n",
              " 'SMCI',\n",
              " 'SYF',\n",
              " 'SNPS',\n",
              " 'SYY',\n",
              " 'TMUS',\n",
              " 'TROW',\n",
              " 'TTWO',\n",
              " 'TPR',\n",
              " 'TRGP',\n",
              " 'TGT',\n",
              " 'TEL',\n",
              " 'TDY',\n",
              " 'TFX',\n",
              " 'TER',\n",
              " 'TSLA',\n",
              " 'TXN',\n",
              " 'TXT',\n",
              " 'TMO',\n",
              " 'TJX',\n",
              " 'TSCO',\n",
              " 'TT',\n",
              " 'TDG',\n",
              " 'TRV',\n",
              " 'TRMB',\n",
              " 'TFC',\n",
              " 'TYL',\n",
              " 'TSN',\n",
              " 'USB',\n",
              " 'UBER',\n",
              " 'UDR',\n",
              " 'ULTA',\n",
              " 'UNP',\n",
              " 'UAL',\n",
              " 'UPS',\n",
              " 'URI',\n",
              " 'UNH',\n",
              " 'UHS',\n",
              " 'VLO',\n",
              " 'VTR',\n",
              " 'VLTO',\n",
              " 'VRSN',\n",
              " 'VRSK',\n",
              " 'VZ',\n",
              " 'VRTX',\n",
              " 'VTRS',\n",
              " 'VICI',\n",
              " 'V',\n",
              " 'VST',\n",
              " 'VMC',\n",
              " 'WRB',\n",
              " 'GWW',\n",
              " 'WAB',\n",
              " 'WBA',\n",
              " 'WMT',\n",
              " 'DIS',\n",
              " 'WBD',\n",
              " 'WM',\n",
              " 'WAT',\n",
              " 'WEC',\n",
              " 'WFC',\n",
              " 'WELL',\n",
              " 'WST',\n",
              " 'WDC',\n",
              " 'WRK',\n",
              " 'WY',\n",
              " 'WMB',\n",
              " 'WTW',\n",
              " 'WYNN',\n",
              " 'XEL',\n",
              " 'XYL',\n",
              " 'YUM',\n",
              " 'ZBRA',\n",
              " 'ZBH',\n",
              " 'ZTS']"
            ]
          },
          "execution_count": 8,
          "metadata": {},
          "output_type": "execute_result"
        }
      ],
      "source": [
        "snp500_stock_tickers = (\n",
        "    pd.read_html(\"https://en.wikipedia.org/wiki/List_of_S%26P_500_companies\")[0]\n",
        "    .loc[:, \"Symbol\"]\n",
        "    .tolist()\n",
        ")\n",
        "snp500_stock_tickers"
      ]
    },
    {
      "cell_type": "code",
      "execution_count": 11,
      "metadata": {
        "id": "9xTPG4Fhc-zL"
      },
      "outputs": [],
      "source": [
        "TRAIN_START_DATE = '2009-01-01'\n",
        "TRAIN_END_DATE = '2022-07-01'\n",
        "TRADE_START_DATE = '2022-07-01'\n",
        "TRADE_END_DATE = '2023-11-29'"
      ]
    },
    {
      "cell_type": "code",
      "execution_count": 12,
      "metadata": {
        "colab": {
          "base_uri": "https://localhost:8080/"
        },
        "id": "9LblMI8CO0F3",
        "outputId": "7be76385-50eb-4e8d-f2e5-1795d77b70ba"
      },
      "outputs": [
        {
          "name": "stdout",
          "output_type": "stream",
          "text": [
            "[*********************100%%**********************]  1 of 1 completed\n",
            "[*********************100%%**********************]  1 of 1 completed"
          ]
        },
        {
          "name": "stderr",
          "output_type": "stream",
          "text": [
            "/opt/homebrew/lib/python3.10/site-packages/yfinance/utils.py:771: FutureWarning: The 'unit' keyword in TimedeltaIndex construction is deprecated and will be removed in a future version. Use pd.to_timedelta instead.\n",
            "  df.index += _pd.TimedeltaIndex(dst_error_hours, 'h')\n",
            "/opt/homebrew/lib/python3.10/site-packages/yfinance/utils.py:771: FutureWarning: The 'unit' keyword in TimedeltaIndex construction is deprecated and will be removed in a future version. Use pd.to_timedelta instead.\n",
            "  df.index += _pd.TimedeltaIndex(dst_error_hours, 'h')\n"
          ]
        },
        {
          "name": "stdout",
          "output_type": "stream",
          "text": [
            "\n",
            "[*********************100%%**********************]  1 of 1 completed"
          ]
        },
        {
          "name": "stderr",
          "output_type": "stream",
          "text": [
            "/opt/homebrew/lib/python3.10/site-packages/yfinance/utils.py:771: FutureWarning: The 'unit' keyword in TimedeltaIndex construction is deprecated and will be removed in a future version. Use pd.to_timedelta instead.\n",
            "  df.index += _pd.TimedeltaIndex(dst_error_hours, 'h')\n"
          ]
        },
        {
          "name": "stdout",
          "output_type": "stream",
          "text": [
            "\n",
            "[*********************100%%**********************]  1 of 1 completed\n",
            "Shape of DataFrame:  (15008, 8)\n"
          ]
        },
        {
          "name": "stderr",
          "output_type": "stream",
          "text": [
            "/opt/homebrew/lib/python3.10/site-packages/yfinance/utils.py:771: FutureWarning: The 'unit' keyword in TimedeltaIndex construction is deprecated and will be removed in a future version. Use pd.to_timedelta instead.\n",
            "  df.index += _pd.TimedeltaIndex(dst_error_hours, 'h')\n"
          ]
        }
      ],
      "source": [
        "df_raw = YahooDownloader(start_date = TRAIN_START_DATE,\n",
        "                     end_date = TRADE_END_DATE,\n",
        "                     ticker_list = ['AAPL', 'CROX', 'DE', 'LLY']).fetch_data()"
      ]
    },
    {
      "cell_type": "code",
      "execution_count": 13,
      "metadata": {
        "colab": {
          "base_uri": "https://localhost:8080/",
          "height": 206
        },
        "id": "RD9cjHzt8X3A",
        "outputId": "051acda5-c8fd-440a-a5af-6be04cfdc018"
      },
      "outputs": [
        {
          "data": {
            "text/html": [
              "<div>\n",
              "<style scoped>\n",
              "    .dataframe tbody tr th:only-of-type {\n",
              "        vertical-align: middle;\n",
              "    }\n",
              "\n",
              "    .dataframe tbody tr th {\n",
              "        vertical-align: top;\n",
              "    }\n",
              "\n",
              "    .dataframe thead th {\n",
              "        text-align: right;\n",
              "    }\n",
              "</style>\n",
              "<table border=\"1\" class=\"dataframe\">\n",
              "  <thead>\n",
              "    <tr style=\"text-align: right;\">\n",
              "      <th></th>\n",
              "      <th>date</th>\n",
              "      <th>open</th>\n",
              "      <th>high</th>\n",
              "      <th>low</th>\n",
              "      <th>close</th>\n",
              "      <th>volume</th>\n",
              "      <th>tic</th>\n",
              "      <th>day</th>\n",
              "    </tr>\n",
              "  </thead>\n",
              "  <tbody>\n",
              "    <tr>\n",
              "      <th>0</th>\n",
              "      <td>2009-01-02</td>\n",
              "      <td>3.067143</td>\n",
              "      <td>3.251429</td>\n",
              "      <td>3.041429</td>\n",
              "      <td>2.740172</td>\n",
              "      <td>746015200</td>\n",
              "      <td>AAPL</td>\n",
              "      <td>4</td>\n",
              "    </tr>\n",
              "    <tr>\n",
              "      <th>1</th>\n",
              "      <td>2009-01-02</td>\n",
              "      <td>1.240000</td>\n",
              "      <td>1.420000</td>\n",
              "      <td>1.230000</td>\n",
              "      <td>1.400000</td>\n",
              "      <td>1016400</td>\n",
              "      <td>CROX</td>\n",
              "      <td>4</td>\n",
              "    </tr>\n",
              "    <tr>\n",
              "      <th>2</th>\n",
              "      <td>2009-01-02</td>\n",
              "      <td>38.740002</td>\n",
              "      <td>41.980000</td>\n",
              "      <td>38.360001</td>\n",
              "      <td>30.530621</td>\n",
              "      <td>4426800</td>\n",
              "      <td>DE</td>\n",
              "      <td>4</td>\n",
              "    </tr>\n",
              "    <tr>\n",
              "      <th>3</th>\n",
              "      <td>2009-01-02</td>\n",
              "      <td>40.380001</td>\n",
              "      <td>40.779999</td>\n",
              "      <td>39.299999</td>\n",
              "      <td>25.425926</td>\n",
              "      <td>6022900</td>\n",
              "      <td>LLY</td>\n",
              "      <td>4</td>\n",
              "    </tr>\n",
              "    <tr>\n",
              "      <th>4</th>\n",
              "      <td>2009-01-05</td>\n",
              "      <td>3.327500</td>\n",
              "      <td>3.435000</td>\n",
              "      <td>3.311071</td>\n",
              "      <td>2.855819</td>\n",
              "      <td>1181608400</td>\n",
              "      <td>AAPL</td>\n",
              "      <td>0</td>\n",
              "    </tr>\n",
              "  </tbody>\n",
              "</table>\n",
              "</div>"
            ],
            "text/plain": [
              "         date       open       high        low      close      volume   tic  \\\n",
              "0  2009-01-02   3.067143   3.251429   3.041429   2.740172   746015200  AAPL   \n",
              "1  2009-01-02   1.240000   1.420000   1.230000   1.400000     1016400  CROX   \n",
              "2  2009-01-02  38.740002  41.980000  38.360001  30.530621     4426800    DE   \n",
              "3  2009-01-02  40.380001  40.779999  39.299999  25.425926     6022900   LLY   \n",
              "4  2009-01-05   3.327500   3.435000   3.311071   2.855819  1181608400  AAPL   \n",
              "\n",
              "   day  \n",
              "0    4  \n",
              "1    4  \n",
              "2    4  \n",
              "3    4  \n",
              "4    0  "
            ]
          },
          "execution_count": 13,
          "metadata": {},
          "output_type": "execute_result"
        }
      ],
      "source": [
        "df_raw.head()"
      ]
    },
    {
      "cell_type": "markdown",
      "metadata": {
        "id": "uqC6c40Zh1iH"
      },
      "source": [
        "# Part 3: Preprocess Data\n",
        "We need to check for missing data and do feature engineering to convert the data point into a state.\n",
        "* **Adding technical indicators**. In practical trading, various information needs to be taken into account, such as historical prices, current holding shares, technical indicators, etc. Here, we demonstrate two trend-following technical indicators: MACD and RSI.\n",
        "* **Adding turbulence index**. Risk-aversion reflects whether an investor prefers to protect the capital. It also influences one's trading strategy when facing different market volatility level. To control the risk in a worst-case scenario, such as financial crisis of 2007–2008, FinRL employs the turbulence index that measures extreme fluctuation of asset price."
      ]
    },
    {
      "cell_type": "markdown",
      "metadata": {
        "id": "1lQxLyWpdbAd"
      },
      "source": [
        "Hear let's take **MACD** as an example. Moving average convergence/divergence (MACD) is one of the most commonly used indicator showing bull and bear market. Its calculation is based on EMA (Exponential Moving Average indicator, measuring trend direction over a period of time.)"
      ]
    },
    {
      "cell_type": "code",
      "execution_count": 14,
      "metadata": {
        "colab": {
          "base_uri": "https://localhost:8080/"
        },
        "id": "PmKP-1ii3RLS",
        "outputId": "d514cf1a-8609-402e-ad58-df5f9100ec85"
      },
      "outputs": [
        {
          "name": "stdout",
          "output_type": "stream",
          "text": [
            "Successfully added technical indicators\n",
            "[*********************100%%**********************]  1 of 1 completed"
          ]
        },
        {
          "name": "stderr",
          "output_type": "stream",
          "text": [
            "/opt/homebrew/lib/python3.10/site-packages/yfinance/utils.py:771: FutureWarning: The 'unit' keyword in TimedeltaIndex construction is deprecated and will be removed in a future version. Use pd.to_timedelta instead.\n",
            "  df.index += _pd.TimedeltaIndex(dst_error_hours, 'h')\n"
          ]
        },
        {
          "name": "stdout",
          "output_type": "stream",
          "text": [
            "\n",
            "Shape of DataFrame:  (3751, 8)\n",
            "Successfully added vix\n",
            "Successfully added turbulence index\n"
          ]
        }
      ],
      "source": [
        "fe = FeatureEngineer(use_technical_indicator=True,\n",
        "                     tech_indicator_list = INDICATORS,\n",
        "                     use_vix=True,\n",
        "                     use_turbulence=True,\n",
        "                     user_defined_feature = False)\n",
        "\n",
        "processed = fe.preprocess_data(df_raw)"
      ]
    },
    {
      "cell_type": "code",
      "execution_count": 15,
      "metadata": {
        "id": "Kixon2tR3RLT"
      },
      "outputs": [],
      "source": [
        "list_ticker = processed[\"tic\"].unique().tolist()\n",
        "list_date = list(pd.date_range(processed['date'].min(),processed['date'].max()).astype(str))\n",
        "combination = list(itertools.product(list_date,list_ticker))\n",
        "\n",
        "processed_full = pd.DataFrame(combination,columns=[\"date\",\"tic\"]).merge(processed,on=[\"date\",\"tic\"],how=\"left\")\n",
        "processed_full = processed_full[processed_full['date'].isin(processed['date'])]\n",
        "processed_full = processed_full.sort_values(['date','tic'])\n",
        "\n",
        "processed_full = processed_full.fillna(0)"
      ]
    },
    {
      "cell_type": "code",
      "execution_count": 16,
      "metadata": {
        "colab": {
          "base_uri": "https://localhost:8080/",
          "height": 357
        },
        "id": "HwKJNWJSabNK",
        "outputId": "16c8080e-91b0-4e8d-9a09-44939ac69801"
      },
      "outputs": [
        {
          "data": {
            "text/html": [
              "<div>\n",
              "<style scoped>\n",
              "    .dataframe tbody tr th:only-of-type {\n",
              "        vertical-align: middle;\n",
              "    }\n",
              "\n",
              "    .dataframe tbody tr th {\n",
              "        vertical-align: top;\n",
              "    }\n",
              "\n",
              "    .dataframe thead th {\n",
              "        text-align: right;\n",
              "    }\n",
              "</style>\n",
              "<table border=\"1\" class=\"dataframe\">\n",
              "  <thead>\n",
              "    <tr style=\"text-align: right;\">\n",
              "      <th></th>\n",
              "      <th>date</th>\n",
              "      <th>tic</th>\n",
              "      <th>open</th>\n",
              "      <th>high</th>\n",
              "      <th>low</th>\n",
              "      <th>close</th>\n",
              "      <th>volume</th>\n",
              "      <th>day</th>\n",
              "      <th>macd</th>\n",
              "      <th>boll_ub</th>\n",
              "      <th>boll_lb</th>\n",
              "      <th>rsi_30</th>\n",
              "      <th>cci_30</th>\n",
              "      <th>dx_30</th>\n",
              "      <th>close_30_sma</th>\n",
              "      <th>close_60_sma</th>\n",
              "      <th>vix</th>\n",
              "      <th>turbulence</th>\n",
              "    </tr>\n",
              "  </thead>\n",
              "  <tbody>\n",
              "    <tr>\n",
              "      <th>0</th>\n",
              "      <td>2009-01-02</td>\n",
              "      <td>AAPL</td>\n",
              "      <td>3.067143</td>\n",
              "      <td>3.251429</td>\n",
              "      <td>3.041429</td>\n",
              "      <td>2.740172</td>\n",
              "      <td>7.460152e+08</td>\n",
              "      <td>4.0</td>\n",
              "      <td>0.000000</td>\n",
              "      <td>2.961545</td>\n",
              "      <td>2.634447</td>\n",
              "      <td>100.0</td>\n",
              "      <td>66.666667</td>\n",
              "      <td>100.0</td>\n",
              "      <td>2.740172</td>\n",
              "      <td>2.740172</td>\n",
              "      <td>39.189999</td>\n",
              "      <td>0.0</td>\n",
              "    </tr>\n",
              "    <tr>\n",
              "      <th>1</th>\n",
              "      <td>2009-01-02</td>\n",
              "      <td>CROX</td>\n",
              "      <td>1.240000</td>\n",
              "      <td>1.420000</td>\n",
              "      <td>1.230000</td>\n",
              "      <td>1.400000</td>\n",
              "      <td>1.016400e+06</td>\n",
              "      <td>4.0</td>\n",
              "      <td>0.000000</td>\n",
              "      <td>2.961545</td>\n",
              "      <td>2.634447</td>\n",
              "      <td>100.0</td>\n",
              "      <td>66.666667</td>\n",
              "      <td>100.0</td>\n",
              "      <td>1.400000</td>\n",
              "      <td>1.400000</td>\n",
              "      <td>39.189999</td>\n",
              "      <td>0.0</td>\n",
              "    </tr>\n",
              "    <tr>\n",
              "      <th>2</th>\n",
              "      <td>2009-01-02</td>\n",
              "      <td>DE</td>\n",
              "      <td>38.740002</td>\n",
              "      <td>41.980000</td>\n",
              "      <td>38.360001</td>\n",
              "      <td>30.530621</td>\n",
              "      <td>4.426800e+06</td>\n",
              "      <td>4.0</td>\n",
              "      <td>0.000000</td>\n",
              "      <td>2.961545</td>\n",
              "      <td>2.634447</td>\n",
              "      <td>100.0</td>\n",
              "      <td>66.666667</td>\n",
              "      <td>100.0</td>\n",
              "      <td>30.530621</td>\n",
              "      <td>30.530621</td>\n",
              "      <td>39.189999</td>\n",
              "      <td>0.0</td>\n",
              "    </tr>\n",
              "    <tr>\n",
              "      <th>3</th>\n",
              "      <td>2009-01-02</td>\n",
              "      <td>LLY</td>\n",
              "      <td>40.380001</td>\n",
              "      <td>40.779999</td>\n",
              "      <td>39.299999</td>\n",
              "      <td>25.425926</td>\n",
              "      <td>6.022900e+06</td>\n",
              "      <td>4.0</td>\n",
              "      <td>0.000000</td>\n",
              "      <td>2.961545</td>\n",
              "      <td>2.634447</td>\n",
              "      <td>100.0</td>\n",
              "      <td>66.666667</td>\n",
              "      <td>100.0</td>\n",
              "      <td>25.425926</td>\n",
              "      <td>25.425926</td>\n",
              "      <td>39.189999</td>\n",
              "      <td>0.0</td>\n",
              "    </tr>\n",
              "    <tr>\n",
              "      <th>12</th>\n",
              "      <td>2009-01-05</td>\n",
              "      <td>AAPL</td>\n",
              "      <td>3.327500</td>\n",
              "      <td>3.435000</td>\n",
              "      <td>3.311071</td>\n",
              "      <td>2.855819</td>\n",
              "      <td>1.181608e+09</td>\n",
              "      <td>0.0</td>\n",
              "      <td>0.002595</td>\n",
              "      <td>2.961545</td>\n",
              "      <td>2.634447</td>\n",
              "      <td>100.0</td>\n",
              "      <td>66.666667</td>\n",
              "      <td>100.0</td>\n",
              "      <td>2.797996</td>\n",
              "      <td>2.797996</td>\n",
              "      <td>39.080002</td>\n",
              "      <td>0.0</td>\n",
              "    </tr>\n",
              "  </tbody>\n",
              "</table>\n",
              "</div>"
            ],
            "text/plain": [
              "          date   tic       open       high        low      close  \\\n",
              "0   2009-01-02  AAPL   3.067143   3.251429   3.041429   2.740172   \n",
              "1   2009-01-02  CROX   1.240000   1.420000   1.230000   1.400000   \n",
              "2   2009-01-02    DE  38.740002  41.980000  38.360001  30.530621   \n",
              "3   2009-01-02   LLY  40.380001  40.779999  39.299999  25.425926   \n",
              "12  2009-01-05  AAPL   3.327500   3.435000   3.311071   2.855819   \n",
              "\n",
              "          volume  day      macd   boll_ub   boll_lb  rsi_30     cci_30  dx_30  \\\n",
              "0   7.460152e+08  4.0  0.000000  2.961545  2.634447   100.0  66.666667  100.0   \n",
              "1   1.016400e+06  4.0  0.000000  2.961545  2.634447   100.0  66.666667  100.0   \n",
              "2   4.426800e+06  4.0  0.000000  2.961545  2.634447   100.0  66.666667  100.0   \n",
              "3   6.022900e+06  4.0  0.000000  2.961545  2.634447   100.0  66.666667  100.0   \n",
              "12  1.181608e+09  0.0  0.002595  2.961545  2.634447   100.0  66.666667  100.0   \n",
              "\n",
              "    close_30_sma  close_60_sma        vix  turbulence  \n",
              "0       2.740172      2.740172  39.189999         0.0  \n",
              "1       1.400000      1.400000  39.189999         0.0  \n",
              "2      30.530621     30.530621  39.189999         0.0  \n",
              "3      25.425926     25.425926  39.189999         0.0  \n",
              "12      2.797996      2.797996  39.080002         0.0  "
            ]
          },
          "execution_count": 16,
          "metadata": {},
          "output_type": "execute_result"
        }
      ],
      "source": [
        "processed_full.head()"
      ]
    },
    {
      "cell_type": "markdown",
      "metadata": {
        "id": "ydLNxwdPIJhW"
      },
      "source": [
        "# Part 4: Save the Data"
      ]
    },
    {
      "cell_type": "markdown",
      "metadata": {
        "id": "VbMDnfukILc_"
      },
      "source": [
        "### Split the data for training and trading"
      ]
    },
    {
      "cell_type": "code",
      "execution_count": 17,
      "metadata": {
        "colab": {
          "base_uri": "https://localhost:8080/"
        },
        "id": "iEiXDdUhZP7R",
        "outputId": "554b1c09-6d6f-48fb-c724-351b40a2ddaf"
      },
      "outputs": [
        {
          "name": "stdout",
          "output_type": "stream",
          "text": [
            "13588\n",
            "1416\n"
          ]
        }
      ],
      "source": [
        "train = data_split(processed_full, TRAIN_START_DATE,TRAIN_END_DATE)\n",
        "trade = data_split(processed_full, TRADE_START_DATE,TRADE_END_DATE)\n",
        "print(len(train))\n",
        "print(len(trade))"
      ]
    },
    {
      "cell_type": "markdown",
      "metadata": {
        "id": "DflbzEV8IRhF"
      },
      "source": [
        "### Save data to csv file"
      ]
    },
    {
      "cell_type": "markdown",
      "metadata": {
        "id": "Tud3IZDzIUpd"
      },
      "source": [
        "For Colab users, you can open the virtual directory in colab and manually download the files.\n",
        "\n",
        "For users running on your local environment, the csv files should be at the same directory of this notebook."
      ]
    },
    {
      "cell_type": "code",
      "execution_count": 18,
      "metadata": {
        "id": "j2c12CpfHEjE"
      },
      "outputs": [],
      "source": [
        "train.to_csv('train_data_multi.csv')\n",
        "trade.to_csv('trade_data_multi.csv')"
      ]
    },
    {
      "cell_type": "code",
      "execution_count": null,
      "metadata": {},
      "outputs": [],
      "source": []
    },
    {
      "cell_type": "code",
      "execution_count": null,
      "metadata": {},
      "outputs": [],
      "source": []
    },
    {
      "cell_type": "code",
      "execution_count": null,
      "metadata": {},
      "outputs": [],
      "source": []
    },
    {
      "cell_type": "code",
      "execution_count": null,
      "metadata": {},
      "outputs": [],
      "source": []
    },
    {
      "cell_type": "code",
      "execution_count": null,
      "metadata": {},
      "outputs": [],
      "source": []
    },
    {
      "cell_type": "code",
      "execution_count": null,
      "metadata": {},
      "outputs": [],
      "source": []
    }
  ],
  "metadata": {
    "colab": {
      "provenance": []
    },
    "kernelspec": {
      "display_name": "Python 3",
      "name": "python3"
    },
    "language_info": {
      "codemirror_mode": {
        "name": "ipython",
        "version": 3
      },
      "file_extension": ".py",
      "mimetype": "text/x-python",
      "name": "python",
      "nbconvert_exporter": "python",
      "pygments_lexer": "ipython3",
      "version": "3.10.14"
    }
  },
  "nbformat": 4,
  "nbformat_minor": 0
}
